{
 "cells": [
  {
   "cell_type": "markdown",
   "metadata": {},
   "source": [
    "| Operator | Description                 |\n",
    "|----------|-----------------------------|\n",
    "| +        | Addition                    |\n",
    "| -        | Subtraction                 |\n",
    "| *        | Multiplication              |\n",
    "| /        | Division (regular)          |\n",
    "| //       | Integer division (floor)    |\n",
    "| **       | Exponentiation              |\n",
    "| %        | Modulus (remainder)         |"
   ]
  },
  {
   "cell_type": "code",
   "execution_count": null,
   "metadata": {},
   "outputs": [
    {
     "data": {
      "text/plain": [
       "14"
      ]
     },
     "execution_count": 1,
     "metadata": {},
     "output_type": "execute_result"
    }
   ],
   "source": [
    "8 + 3 * 2 # Python does not care about spaces within a line\n",
    "          # Python does, however, care about spaces at the beginning of a line."
   ]
  },
  {
   "cell_type": "code",
   "execution_count": 2,
   "metadata": {},
   "outputs": [
    {
     "data": {
      "text/plain": [
       "22"
      ]
     },
     "execution_count": 2,
     "metadata": {},
     "output_type": "execute_result"
    }
   ],
   "source": [
    "(8+3) * 2"
   ]
  },
  {
   "cell_type": "code",
   "execution_count": 3,
   "metadata": {},
   "outputs": [
    {
     "data": {
      "text/plain": [
       "1.5"
      ]
     },
     "execution_count": 3,
     "metadata": {},
     "output_type": "execute_result"
    }
   ],
   "source": [
    "3 / 2"
   ]
  },
  {
   "cell_type": "code",
   "execution_count": null,
   "metadata": {},
   "outputs": [
    {
     "data": {
      "text/plain": [
       "1"
      ]
     },
     "execution_count": 4,
     "metadata": {},
     "output_type": "execute_result"
    }
   ],
   "source": [
    "3 // 2 #Integer division, viewed as either rounding down to the nearest integer (also known as flooring it) \n",
    "       # Or simply truncating off anything after the decimal place."
   ]
  },
  {
   "cell_type": "code",
   "execution_count": 6,
   "metadata": {},
   "outputs": [
    {
     "data": {
      "text/plain": [
       "8"
      ]
     },
     "execution_count": 6,
     "metadata": {},
     "output_type": "execute_result"
    }
   ],
   "source": [
    "2 ** 3 #Exponentiation is performed with a double asterisk (**). The carrot (^) means something else"
   ]
  },
  {
   "cell_type": "code",
   "execution_count": null,
   "metadata": {},
   "outputs": [
    {
     "data": {
      "text/plain": [
       "1"
      ]
     },
     "execution_count": 8,
     "metadata": {},
     "output_type": "execute_result"
    }
   ],
   "source": [
    "10 % 3 # The modulo operator (%) gives the remainder after division. For example, 10/3 = 9, therefore 1 \n",
    "       # It's useful for tasks like checking if a number is even.\n"
   ]
  },
  {
   "cell_type": "markdown",
   "metadata": {},
   "source": [
    "Common Python Functions\n",
    "| Function     | Description                                 |\n",
    "|--------------|---------------------------------------------|\n",
    "| `abs()`      | Returns the absolute value                  |\n",
    "| `float()`    | Converts a value to a float                 |\n",
    "| `int()`      | Converts a value to an integer              |\n",
    "| `len()`      | Returns the length of an object             |\n",
    "| `list()`     | Converts an object to a list                |\n",
    "| `max()`      | Returns the maximum value                   |\n",
    "| `min()`      | Returns the minimum value                   |\n",
    "| `open()`     | Opens a file                                |\n",
    "| `print()`    | Displays an output                          |\n",
    "| `round()`    | Rounds a value using banker’s rounding      |\n",
    "| `str()`      | Converts an object to a string              |\n",
    "| `sum()`      | Returns the sum of values                   |\n",
    "| `tuple()`    | Converts an object to a tuple               |\n",
    "| `type()`     | Returns the object type (e.g., float)       |\n",
    "| `zip()`      | Zips together two lists or tuples           |\n"
   ]
  },
  {
   "cell_type": "code",
   "execution_count": 14,
   "metadata": {},
   "outputs": [
    {
     "data": {
      "text/plain": [
       "4"
      ]
     },
     "execution_count": 14,
     "metadata": {},
     "output_type": "execute_result"
    }
   ],
   "source": [
    "abs(-4)"
   ]
  },
  {
   "cell_type": "code",
   "execution_count": null,
   "metadata": {},
   "outputs": [
    {
     "data": {
      "text/plain": [
       "4"
      ]
     },
     "execution_count": 11,
     "metadata": {},
     "output_type": "execute_result"
    }
   ],
   "source": [
    "round(4.5) #Round uses bankers rounding, so rounds down at half way"
   ]
  },
  {
   "cell_type": "code",
   "execution_count": null,
   "metadata": {},
   "outputs": [
    {
     "data": {
      "text/plain": [
       "5"
      ]
     },
     "execution_count": 12,
     "metadata": {},
     "output_type": "execute_result"
    }
   ],
   "source": [
    "round(4.6) #Otherwise rounds as expected"
   ]
  },
  {
   "cell_type": "code",
   "execution_count": null,
   "metadata": {},
   "outputs": [
    {
     "data": {
      "text/plain": [
       "2.0"
      ]
     },
     "execution_count": 13,
     "metadata": {},
     "output_type": "execute_result"
    }
   ],
   "source": [
    "import math #Can import modules futher than that in native python for 'ad-ons'\n",
    "math.sqrt(4)"
   ]
  },
  {
   "cell_type": "markdown",
   "metadata": {},
   "source": [
    "Common Math Functions\n",
    "| Function       | Description                                 |\n",
    "|----------------|---------------------------------------------|\n",
    "| `ceil(x)`      | Rounds *x* up to nearest integer            |\n",
    "| `cos(x)`       | Returns cos(*x*)                            |\n",
    "| `degrees(x)`   | Converts *x* from radians to degrees        |\n",
    "| `e`            | Returns the value *e*                       |\n",
    "| `exp(x)`       | Returns *e^x*                               |\n",
    "| `factorial(x)` | Takes the factorial (!) of *x*              |\n",
    "| `floor(x)`     | Rounds *x* down to the nearest integer      |\n",
    "| `log(x)`       | Takes the natural log (ln) of *x*           |\n",
    "| `log10(x)`     | Takes the common log (base 10) of *x*       |\n",
    "| `pi`           | Returns the value *π*                       |\n",
    "| `pow(x, y)`    | Returns *x^y*                               |\n",
    "| `radians(x)`   | Converts *x* from degrees to radians        |\n",
    "| `sin(x)`       | Returns sin(*x*)                            |\n",
    "| `sqrt(x)`      | Returns the square root of *x*              |\n",
    "| `tan(x)`       | Returns tan(*x*)                            |\n"
   ]
  },
  {
   "cell_type": "code",
   "execution_count": 15,
   "metadata": {},
   "outputs": [
    {
     "data": {
      "text/plain": [
       "0.06981317007977318"
      ]
     },
     "execution_count": 15,
     "metadata": {},
     "output_type": "execute_result"
    }
   ],
   "source": [
    "from math import radians #You can import individual functions using the from command\n",
    "radians(4)"
   ]
  },
  {
   "cell_type": "code",
   "execution_count": 17,
   "metadata": {},
   "outputs": [
    {
     "data": {
      "text/plain": [
       "8.0"
      ]
     },
     "execution_count": 17,
     "metadata": {},
     "output_type": "execute_result"
    }
   ],
   "source": [
    "a = 5.0\n",
    "b = 3.0\n",
    "\n",
    "a + b"
   ]
  },
  {
   "cell_type": "code",
   "execution_count": 18,
   "metadata": {},
   "outputs": [
    {
     "data": {
      "text/plain": [
       "8"
      ]
     },
     "execution_count": 18,
     "metadata": {},
     "output_type": "execute_result"
    }
   ],
   "source": [
    "int(a + b)"
   ]
  },
  {
   "cell_type": "code",
   "execution_count": 19,
   "metadata": {},
   "outputs": [
    {
     "data": {
      "text/plain": [
       "1.44e+17"
      ]
     },
     "execution_count": 19,
     "metadata": {},
     "output_type": "execute_result"
    }
   ],
   "source": [
    "mass = 1.6\n",
    "light_speed = 3.0e8\n",
    "mass * light_speed ** 2\n",
    "#Clear Variables are easier to read and be interpreted"
   ]
  },
  {
   "cell_type": "code",
   "execution_count": 20,
   "metadata": {},
   "outputs": [
    {
     "name": "stdout",
     "output_type": "stream",
     "text": [
      "Hello World!\n"
     ]
    }
   ],
   "source": [
    "text = \"Hello World!\"\n",
    "print (text)"
   ]
  },
  {
   "cell_type": "code",
   "execution_count": 23,
   "metadata": {},
   "outputs": [
    {
     "name": "stdout",
     "output_type": "stream",
     "text": [
      "2\n"
     ]
    }
   ],
   "source": [
    "x = str(2)\n",
    "print (x)"
   ]
  },
  {
   "cell_type": "code",
   "execution_count": null,
   "metadata": {},
   "outputs": [
    {
     "data": {
      "text/plain": [
       "'22'"
      ]
     },
     "execution_count": 29,
     "metadata": {},
     "output_type": "execute_result"
    }
   ],
   "source": [
    "x * 2\n",
    "#These are ways of combining or lengthening strings, but no actual math is performed.\n",
    "#When trying to do math with strings and integers, an error is likely to occur"
   ]
  },
  {
   "cell_type": "code",
   "execution_count": null,
   "metadata": {},
   "outputs": [
    {
     "data": {
      "text/plain": [
       "8"
      ]
     },
     "execution_count": 30,
     "metadata": {},
     "output_type": "execute_result"
    }
   ],
   "source": [
    "int('4') * int('2')\n",
    "# Multiplying two strings causes an error. Convert strings to numbers using float() or int()."
   ]
  },
  {
   "cell_type": "code",
   "execution_count": null,
   "metadata": {},
   "outputs": [
    {
     "data": {
      "text/plain": [
       "12"
      ]
     },
     "execution_count": 31,
     "metadata": {},
     "output_type": "execute_result"
    }
   ],
   "source": [
    "len(text)\n",
    "#This shows the length of a string, includes spaces and punctuation - not just characters. "
   ]
  },
  {
   "cell_type": "code",
   "execution_count": 32,
   "metadata": {},
   "outputs": [
    {
     "name": "stdout",
     "output_type": "stream",
     "text": [
      "4.0 g\n"
     ]
    }
   ],
   "source": [
    "print(str(4.0) + ' g')"
   ]
  },
  {
   "cell_type": "code",
   "execution_count": 33,
   "metadata": {},
   "outputs": [
    {
     "name": "stdout",
     "output_type": "stream",
     "text": [
      "4.0 g\n"
     ]
    }
   ],
   "source": [
    "print(4.0, 'g')"
   ]
  },
  {
   "cell_type": "markdown",
   "metadata": {},
   "source": [
    "The key detail about indexing in Python is that indicies start from zero. That means the first character is index zero, the second character is index one, and so on. If we have a peptide sequence of ‘MSLFKIRMPE’, then the indices are as shown below.\n",
    "| Characters | M | S | L | F | K | I | R | M | P | E |\n",
    "|------------|---|---|---|---|---|---|---|---|---|---|\n",
    "| Index      | 0 | 1 | 2 | 3 | 4 | 5 | 6 | 7 | 8 | 9 |\n",
    "\n",
    "\n",
    "| Characters | M  | S  | L  | F  | K  | I  | R  | M  | P  | E  |\n",
    "|------------|----|----|----|----|----|----|----|----|----|----|\n",
    "| Index      | -10| -9 | -8 | -7 | -6 | -5 | -4 | -3 | -2 | -1 |\n",
    "\n"
   ]
  },
  {
   "cell_type": "code",
   "execution_count": 1,
   "metadata": {},
   "outputs": [
    {
     "name": "stdout",
     "output_type": "stream",
     "text": [
      "M\n"
     ]
    }
   ],
   "source": [
    "seq = 'MSLFKIRMPE'\n",
    "print (seq[0])"
   ]
  },
  {
   "cell_type": "code",
   "execution_count": 2,
   "metadata": {},
   "outputs": [
    {
     "data": {
      "text/plain": [
       "'S'"
      ]
     },
     "execution_count": 2,
     "metadata": {},
     "output_type": "execute_result"
    }
   ],
   "source": [
    "#We do not have to use variables to do this; we could perform the same above operation directly on the string.\n",
    "'MSLFKIRMPE'[1]"
   ]
  },
  {
   "cell_type": "code",
   "execution_count": 3,
   "metadata": {},
   "outputs": [
    {
     "data": {
      "text/plain": [
       "10"
      ]
     },
     "execution_count": 3,
     "metadata": {},
     "output_type": "execute_result"
    }
   ],
   "source": [
    "#If you want to know the last character of a string you can find length and chose the last character\n",
    "len(seq)"
   ]
  },
  {
   "cell_type": "code",
   "execution_count": 4,
   "metadata": {},
   "outputs": [
    {
     "data": {
      "text/plain": [
       "'E'"
      ]
     },
     "execution_count": 4,
     "metadata": {},
     "output_type": "execute_result"
    }
   ],
   "source": [
    "seq[9]"
   ]
  },
  {
   "cell_type": "code",
   "execution_count": 6,
   "metadata": {},
   "outputs": [
    {
     "data": {
      "text/plain": [
       "'E'"
      ]
     },
     "execution_count": 6,
     "metadata": {},
     "output_type": "execute_result"
    }
   ],
   "source": [
    "#Alternatively the string can also be reverse indexed from the last charter to the first using negatives.\n",
    "seq[-1]"
   ]
  },
  {
   "cell_type": "code",
   "execution_count": null,
   "metadata": {},
   "outputs": [
    {
     "data": {
      "text/plain": [
       "'MSLFK'"
      ]
     },
     "execution_count": 8,
     "metadata": {},
     "output_type": "execute_result"
    }
   ],
   "source": [
    "#Grabbing a secetion of a string is known as slicing.\n",
    "seq[0:5]\n",
    "\n",
    "#One important detail is that the character at the starting index is included in the slice \n",
    "#While the character at the final index is excluded from the slice."
   ]
  },
  {
   "cell_type": "code",
   "execution_count": null,
   "metadata": {},
   "outputs": [
    {
     "data": {
      "text/plain": [
       "'pd'"
      ]
     },
     "execution_count": 9,
     "metadata": {},
     "output_type": "execute_result"
    }
   ],
   "source": [
    "#This can cause issues such as here when trying to obtain file type\n",
    "file = '1rxt.pdb'\n",
    "file[-3:-1]"
   ]
  },
  {
   "cell_type": "code",
   "execution_count": 10,
   "metadata": {},
   "outputs": [
    {
     "data": {
      "text/plain": [
       "'pdb'"
      ]
     },
     "execution_count": 10,
     "metadata": {},
     "output_type": "execute_result"
    }
   ],
   "source": [
    "#Leaving the stop index blank tells python to just go to the end\n",
    "file[-3:]\n"
   ]
  },
  {
   "cell_type": "code",
   "execution_count": 11,
   "metadata": {},
   "outputs": [
    {
     "data": {
      "text/plain": [
       "'1rxt'"
      ]
     },
     "execution_count": 11,
     "metadata": {},
     "output_type": "execute_result"
    }
   ],
   "source": [
    "#This also works to get the file name without the extension\n",
    "file[:-4]"
   ]
  },
  {
   "cell_type": "code",
   "execution_count": 12,
   "metadata": {},
   "outputs": [
    {
     "data": {
      "text/plain": [
       "'MLKRP'"
      ]
     },
     "execution_count": 12,
     "metadata": {},
     "output_type": "execute_result"
    }
   ],
   "source": [
    "#We can also adjust the step size in the slice. \n",
    "#The overall structure is [start : stop : step].\n",
    "seq[::2]"
   ]
  },
  {
   "cell_type": "code",
   "execution_count": 13,
   "metadata": {},
   "outputs": [
    {
     "data": {
      "text/plain": [
       "'Anyone who has never made a mistake has never tried anything new.'"
      ]
     },
     "execution_count": 13,
     "metadata": {},
     "output_type": "execute_result"
    }
   ],
   "source": [
    "# A method is a function tied to a specific object type (e.g. strings).\n",
    "# String methods only work on strings, not on floats or other types.\n",
    "# Lists and NumPy arrays have their own methods too.\n",
    "quote = 'anyone who has never made a mistake has never tried anything new.'\n",
    "quote.capitalize()"
   ]
  },
  {
   "cell_type": "code",
   "execution_count": 14,
   "metadata": {},
   "outputs": [
    {
     "data": {
      "text/plain": [
       "'anyone who has never made a mistake has never tried anything new.'"
      ]
     },
     "execution_count": 14,
     "metadata": {},
     "output_type": "execute_result"
    }
   ],
   "source": [
    "quote # Methods don't change the original string unless you assign the result to a variable."
   ]
  },
  {
   "cell_type": "code",
   "execution_count": 16,
   "metadata": {},
   "outputs": [
    {
     "data": {
      "text/plain": [
       "'Anyone who has never made a mistake has never tried anything new.'"
      ]
     },
     "execution_count": 16,
     "metadata": {},
     "output_type": "execute_result"
    }
   ],
   "source": [
    "cap_quote = quote.capitalize()\n",
    "cap_quote"
   ]
  },
  {
   "cell_type": "code",
   "execution_count": 17,
   "metadata": {},
   "outputs": [
    {
     "data": {
      "text/plain": [
       "'Anyone who has never made a mistake has never tried anything new.'"
      ]
     },
     "execution_count": 17,
     "metadata": {},
     "output_type": "execute_result"
    }
   ],
   "source": [
    "str.capitalize(quote) # You can also use str.capitalize(\"quote\"), but \"quote\".capitalize() is more common and shorter."
   ]
  },
  {
   "cell_type": "code",
   "execution_count": 18,
   "metadata": {},
   "outputs": [
    {
     "data": {
      "text/plain": [
       "'anyone who has never made a mistake has never tried anything new.'"
      ]
     },
     "execution_count": 18,
     "metadata": {},
     "output_type": "execute_result"
    }
   ],
   "source": [
    "quote"
   ]
  },
  {
   "cell_type": "markdown",
   "metadata": {},
   "source": [
    "Table 5: Common String Methods\n",
    "\n",
    "| Method               | Description                                                                 |\n",
    "|----------------------|-----------------------------------------------------------------------------|\n",
    "| `capitalize()`       | Capitalizes the first letter in the string                                  |\n",
    "| `center(width)`      | Returns the string centered with spaces on both sides to have a total width |\n",
    "| `count(characters)`  | Returns the number of non-overlapping occurrences of a series of characters |\n",
    "| `find(characters)`   | Returns the index of the first occurrence of `characters` in a string       |\n",
    "| `isalnum()`          | Checks if the string is alphanumeric, returns `True` or `False`             |\n",
    "| `isalpha()`          | Checks if the string is only letters, returns `True` or `False`             |\n",
    "| `isdigit()`          | Checks if the string is only numbers, returns `True` or `False`             |\n",
    "| `lstrip(characters)` | Removes leading `characters`; if none given, removes spaces                 |\n",
    "| `rstrip(characters)` | Removes trailing `characters`; if none given, removes spaces                |\n",
    "| `split(sep=None)`    | Splits string at `sep` (default is whitespace)                              |\n",
    "| `startswith(prefix)` | Checks if string starts with `prefix`, returns `True` or `False`            |\n",
    "| `endswith(suffix)`   | Checks if string ends with `suffix`, returns `True` or `False`              |\n"
   ]
  },
  {
   "cell_type": "code",
   "execution_count": null,
   "metadata": {},
   "outputs": [
    {
     "data": {
      "text/plain": [
       "'Molar mass = 63.21 g/mol.'"
      ]
     },
     "execution_count": 19,
     "metadata": {},
     "output_type": "execute_result"
    }
   ],
   "source": [
    "# Strings can be joined using the + operator. Use str() to convert non-strings before concatenating.\n",
    "# While this approach usually works fine, it can get messy \n",
    "MW = 63.21\n",
    "\"Molar mass = \" + str(MW) + \" g/mol.\""
   ]
  },
  {
   "cell_type": "code",
   "execution_count": null,
   "metadata": {},
   "outputs": [
    {
     "data": {
      "text/plain": [
       "'The molar mass of ammonia is 17.03 g/mol.'"
      ]
     },
     "execution_count": 20,
     "metadata": {},
     "output_type": "execute_result"
    }
   ],
   "source": [
    "# The str.format() method inserts values into a string using {} placeholders.\n",
    "# format() function automatically converts non-string objects into strings for us.\n",
    "compound = 'ammonia'\n",
    "MW = 17.03\n",
    "\n",
    "'The molar mass of {} is {} g/mol.'.format(compound, MW)"
   ]
  },
  {
   "cell_type": "code",
   "execution_count": null,
   "metadata": {},
   "outputs": [
    {
     "data": {
      "text/plain": [
       "'The molar mass of urea is 60.06 g/mol.'"
      ]
     },
     "execution_count": 23,
     "metadata": {},
     "output_type": "execute_result"
    }
   ],
   "source": [
    "# You can use index numbers in {} with str.format() to control the order of insertion.\n",
    "# Indexing starts at 0, so {0} = first argument, {1} = second.\n",
    "compound = 'urea'\n",
    "MW = 60.06\n",
    "\n",
    "'The molar mass of {0} is {1} g/mol.'.format(compound, MW)"
   ]
  },
  {
   "cell_type": "code",
   "execution_count": 28,
   "metadata": {},
   "outputs": [
    {
     "data": {
      "text/plain": [
       "'The compound urea is a molecular compound and urea has a molar mass of 60.06 g/mol.'"
      ]
     },
     "execution_count": 28,
     "metadata": {},
     "output_type": "execute_result"
    }
   ],
   "source": [
    "'The compound {0} is a molecular compound and {0} has a molar mass of {1} g/mol.'.format(compound, MW)"
   ]
  },
  {
   "cell_type": "code",
   "execution_count": 29,
   "metadata": {},
   "outputs": [
    {
     "data": {
      "text/plain": [
       "'The molar mass of urea is 60.06 g/mol.'"
      ]
     },
     "execution_count": 29,
     "metadata": {},
     "output_type": "execute_result"
    }
   ],
   "source": [
    "# f-strings let you insert variables directly into a string using {}.\n",
    "# Just add f before the string. It's simple, versatile, and easy to read.\n",
    "f'The molar mass of {compound} is {MW} g/mol.'\n"
   ]
  },
  {
   "cell_type": "code",
   "execution_count": 30,
   "metadata": {},
   "outputs": [
    {
     "data": {
      "text/plain": [
       "'The molar mass of Urea is 60.06 g/mol.'"
      ]
     },
     "execution_count": 30,
     "metadata": {},
     "output_type": "execute_result"
    }
   ],
   "source": [
    "f'The molar mass of {compound.capitalize()} is {MW} g/mol.'"
   ]
  },
  {
   "cell_type": "code",
   "execution_count": null,
   "metadata": {},
   "outputs": [],
   "source": []
  }
 ],
 "metadata": {
  "kernelspec": {
   "display_name": "3.11.8",
   "language": "python",
   "name": "python3"
  },
  "language_info": {
   "codemirror_mode": {
    "name": "ipython",
    "version": 3
   },
   "file_extension": ".py",
   "mimetype": "text/x-python",
   "name": "python",
   "nbconvert_exporter": "python",
   "pygments_lexer": "ipython3",
   "version": "3.11.8"
  }
 },
 "nbformat": 4,
 "nbformat_minor": 2
}
