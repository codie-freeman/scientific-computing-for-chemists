{
 "cells": [
  {
   "cell_type": "markdown",
   "metadata": {},
   "source": [
    "# Chapter 1: Basic Python\n",
    "## 1.1 Numbers"
   ]
  },
  {
   "cell_type": "markdown",
   "metadata": {},
   "source": [
    "| Operator | Description                 |\n",
    "|----------|-----------------------------|\n",
    "| +        | Addition                    |\n",
    "| -        | Subtraction                 |\n",
    "| *        | Multiplication              |\n",
    "| /        | Division (regular)          |\n",
    "| //       | Integer division (floor)    |\n",
    "| **       | Exponentiation              |\n",
    "| %        | Modulus (remainder)         |"
   ]
  },
  {
   "cell_type": "code",
   "execution_count": null,
   "metadata": {},
   "outputs": [
    {
     "data": {
      "text/plain": [
       "14"
      ]
     },
     "execution_count": 1,
     "metadata": {},
     "output_type": "execute_result"
    }
   ],
   "source": [
    "8 + 3 * 2 # Python does not care about spaces within a line\n",
    "          # Python does, however, care about spaces at the beginning of a line."
   ]
  },
  {
   "cell_type": "code",
   "execution_count": 2,
   "metadata": {},
   "outputs": [
    {
     "data": {
      "text/plain": [
       "22"
      ]
     },
     "execution_count": 2,
     "metadata": {},
     "output_type": "execute_result"
    }
   ],
   "source": [
    "(8+3) * 2"
   ]
  },
  {
   "cell_type": "code",
   "execution_count": 3,
   "metadata": {},
   "outputs": [
    {
     "data": {
      "text/plain": [
       "1.5"
      ]
     },
     "execution_count": 3,
     "metadata": {},
     "output_type": "execute_result"
    }
   ],
   "source": [
    "3 / 2"
   ]
  },
  {
   "cell_type": "code",
   "execution_count": null,
   "metadata": {},
   "outputs": [
    {
     "data": {
      "text/plain": [
       "1"
      ]
     },
     "execution_count": 4,
     "metadata": {},
     "output_type": "execute_result"
    }
   ],
   "source": [
    "3 // 2 #Integer division, viewed as either rounding down to the nearest integer (also known as flooring it) \n",
    "       # Or simply truncating off anything after the decimal place."
   ]
  },
  {
   "cell_type": "code",
   "execution_count": 6,
   "metadata": {},
   "outputs": [
    {
     "data": {
      "text/plain": [
       "8"
      ]
     },
     "execution_count": 6,
     "metadata": {},
     "output_type": "execute_result"
    }
   ],
   "source": [
    "2 ** 3 #Exponentiation is performed with a double asterisk (**). The carrot (^) means something else"
   ]
  },
  {
   "cell_type": "code",
   "execution_count": null,
   "metadata": {},
   "outputs": [
    {
     "data": {
      "text/plain": [
       "1"
      ]
     },
     "execution_count": 8,
     "metadata": {},
     "output_type": "execute_result"
    }
   ],
   "source": [
    "10 % 3 # The modulo operator (%) gives the remainder after division. For example, 10/3 = 9, therefore 1 \n",
    "       # It's useful for tasks like checking if a number is even.\n"
   ]
  },
  {
   "cell_type": "markdown",
   "metadata": {},
   "source": [
    "### Common Python Functions\n",
    "| Function     | Description                                 |\n",
    "|--------------|---------------------------------------------|\n",
    "| `abs()`      | Returns the absolute value                  |\n",
    "| `float()`    | Converts a value to a float                 |\n",
    "| `int()`      | Converts a value to an integer              |\n",
    "| `len()`      | Returns the length of an object             |\n",
    "| `list()`     | Converts an object to a list                |\n",
    "| `max()`      | Returns the maximum value                   |\n",
    "| `min()`      | Returns the minimum value                   |\n",
    "| `open()`     | Opens a file                                |\n",
    "| `print()`    | Displays an output                          |\n",
    "| `round()`    | Rounds a value using banker’s rounding      |\n",
    "| `str()`      | Converts an object to a string              |\n",
    "| `sum()`      | Returns the sum of values                   |\n",
    "| `tuple()`    | Converts an object to a tuple               |\n",
    "| `type()`     | Returns the object type (e.g., float)       |\n",
    "| `zip()`      | Zips together two lists or tuples           |\n"
   ]
  },
  {
   "cell_type": "code",
   "execution_count": 14,
   "metadata": {},
   "outputs": [
    {
     "data": {
      "text/plain": [
       "4"
      ]
     },
     "execution_count": 14,
     "metadata": {},
     "output_type": "execute_result"
    }
   ],
   "source": [
    "abs(-4)"
   ]
  },
  {
   "cell_type": "code",
   "execution_count": null,
   "metadata": {},
   "outputs": [
    {
     "data": {
      "text/plain": [
       "4"
      ]
     },
     "execution_count": 11,
     "metadata": {},
     "output_type": "execute_result"
    }
   ],
   "source": [
    "round(4.5) #Round uses bankers rounding, so rounds down at half way"
   ]
  },
  {
   "cell_type": "code",
   "execution_count": null,
   "metadata": {},
   "outputs": [
    {
     "data": {
      "text/plain": [
       "5"
      ]
     },
     "execution_count": 12,
     "metadata": {},
     "output_type": "execute_result"
    }
   ],
   "source": [
    "round(4.6) #Otherwise rounds as expected"
   ]
  },
  {
   "cell_type": "code",
   "execution_count": null,
   "metadata": {},
   "outputs": [
    {
     "data": {
      "text/plain": [
       "2.0"
      ]
     },
     "execution_count": 13,
     "metadata": {},
     "output_type": "execute_result"
    }
   ],
   "source": [
    "import math #Can import modules futher than that in native python for 'ad-ons'\n",
    "math.sqrt(4)"
   ]
  },
  {
   "cell_type": "markdown",
   "metadata": {},
   "source": [
    "### Common Math Functions\n",
    "| Function       | Description                                 |\n",
    "|----------------|---------------------------------------------|\n",
    "| `ceil(x)`      | Rounds *x* up to nearest integer            |\n",
    "| `cos(x)`       | Returns cos(*x*)                            |\n",
    "| `degrees(x)`   | Converts *x* from radians to degrees        |\n",
    "| `e`            | Returns the value *e*                       |\n",
    "| `exp(x)`       | Returns *e^x*                               |\n",
    "| `factorial(x)` | Takes the factorial (!) of *x*              |\n",
    "| `floor(x)`     | Rounds *x* down to the nearest integer      |\n",
    "| `log(x)`       | Takes the natural log (ln) of *x*           |\n",
    "| `log10(x)`     | Takes the common log (base 10) of *x*       |\n",
    "| `pi`           | Returns the value *π*                       |\n",
    "| `pow(x, y)`    | Returns *x^y*                               |\n",
    "| `radians(x)`   | Converts *x* from degrees to radians        |\n",
    "| `sin(x)`       | Returns sin(*x*)                            |\n",
    "| `sqrt(x)`      | Returns the square root of *x*              |\n",
    "| `tan(x)`       | Returns tan(*x*)                            |\n"
   ]
  },
  {
   "cell_type": "code",
   "execution_count": 15,
   "metadata": {},
   "outputs": [
    {
     "data": {
      "text/plain": [
       "0.06981317007977318"
      ]
     },
     "execution_count": 15,
     "metadata": {},
     "output_type": "execute_result"
    }
   ],
   "source": [
    "from math import radians #You can import individual functions using the from command\n",
    "radians(4)"
   ]
  },
  {
   "cell_type": "markdown",
   "metadata": {},
   "source": [
    "## 1.2 Variables"
   ]
  },
  {
   "cell_type": "code",
   "execution_count": 17,
   "metadata": {},
   "outputs": [
    {
     "data": {
      "text/plain": [
       "8.0"
      ]
     },
     "execution_count": 17,
     "metadata": {},
     "output_type": "execute_result"
    }
   ],
   "source": [
    "a = 5.0\n",
    "b = 3.0\n",
    "\n",
    "a + b"
   ]
  },
  {
   "cell_type": "code",
   "execution_count": 18,
   "metadata": {},
   "outputs": [
    {
     "data": {
      "text/plain": [
       "8"
      ]
     },
     "execution_count": 18,
     "metadata": {},
     "output_type": "execute_result"
    }
   ],
   "source": [
    "int(a + b)"
   ]
  },
  {
   "cell_type": "code",
   "execution_count": 19,
   "metadata": {},
   "outputs": [
    {
     "data": {
      "text/plain": [
       "1.44e+17"
      ]
     },
     "execution_count": 19,
     "metadata": {},
     "output_type": "execute_result"
    }
   ],
   "source": [
    "mass = 1.6\n",
    "light_speed = 3.0e8\n",
    "mass * light_speed ** 2\n",
    "#Clear Variables are easier to read and be interpreted"
   ]
  },
  {
   "cell_type": "markdown",
   "metadata": {},
   "source": [
    "## 1.3 Strings"
   ]
  },
  {
   "cell_type": "code",
   "execution_count": 20,
   "metadata": {},
   "outputs": [
    {
     "name": "stdout",
     "output_type": "stream",
     "text": [
      "Hello World!\n"
     ]
    }
   ],
   "source": [
    "text = \"Hello World!\"\n",
    "print (text)"
   ]
  },
  {
   "cell_type": "code",
   "execution_count": 23,
   "metadata": {},
   "outputs": [
    {
     "name": "stdout",
     "output_type": "stream",
     "text": [
      "2\n"
     ]
    }
   ],
   "source": [
    "x = str(2)\n",
    "print (x)"
   ]
  },
  {
   "cell_type": "code",
   "execution_count": null,
   "metadata": {},
   "outputs": [
    {
     "data": {
      "text/plain": [
       "'22'"
      ]
     },
     "execution_count": 29,
     "metadata": {},
     "output_type": "execute_result"
    }
   ],
   "source": [
    "x * 2\n",
    "#These are ways of combining or lengthening strings, but no actual math is performed.\n",
    "#When trying to do math with strings and integers, an error is likely to occur"
   ]
  },
  {
   "cell_type": "code",
   "execution_count": null,
   "metadata": {},
   "outputs": [
    {
     "data": {
      "text/plain": [
       "8"
      ]
     },
     "execution_count": 30,
     "metadata": {},
     "output_type": "execute_result"
    }
   ],
   "source": [
    "int('4') * int('2')\n",
    "# Multiplying two strings causes an error. Convert strings to numbers using float() or int()."
   ]
  },
  {
   "cell_type": "code",
   "execution_count": null,
   "metadata": {},
   "outputs": [
    {
     "data": {
      "text/plain": [
       "12"
      ]
     },
     "execution_count": 31,
     "metadata": {},
     "output_type": "execute_result"
    }
   ],
   "source": [
    "len(text)\n",
    "#This shows the length of a string, includes spaces and punctuation - not just characters. "
   ]
  },
  {
   "cell_type": "code",
   "execution_count": 32,
   "metadata": {},
   "outputs": [
    {
     "name": "stdout",
     "output_type": "stream",
     "text": [
      "4.0 g\n"
     ]
    }
   ],
   "source": [
    "print(str(4.0) + ' g')"
   ]
  },
  {
   "cell_type": "code",
   "execution_count": 33,
   "metadata": {},
   "outputs": [
    {
     "name": "stdout",
     "output_type": "stream",
     "text": [
      "4.0 g\n"
     ]
    }
   ],
   "source": [
    "print(4.0, 'g')"
   ]
  },
  {
   "cell_type": "markdown",
   "metadata": {},
   "source": [
    "### The key detail about indexing in Python is that indicies start from zero. That means the first character is index zero, the second character is index one, and so on. If we have a peptide sequence of ‘MSLFKIRMPE’, then the indices are as shown below.\n",
    "| Characters | M | S | L | F | K | I | R | M | P | E |\n",
    "|------------|---|---|---|---|---|---|---|---|---|---|\n",
    "| Index      | 0 | 1 | 2 | 3 | 4 | 5 | 6 | 7 | 8 | 9 |\n",
    "\n",
    "\n",
    "| Characters | M  | S  | L  | F  | K  | I  | R  | M  | P  | E  |\n",
    "|------------|----|----|----|----|----|----|----|----|----|----|\n",
    "| Index      | -10| -9 | -8 | -7 | -6 | -5 | -4 | -3 | -2 | -1 |\n",
    "\n"
   ]
  },
  {
   "cell_type": "code",
   "execution_count": 1,
   "metadata": {},
   "outputs": [
    {
     "name": "stdout",
     "output_type": "stream",
     "text": [
      "M\n"
     ]
    }
   ],
   "source": [
    "seq = 'MSLFKIRMPE'\n",
    "print (seq[0])"
   ]
  },
  {
   "cell_type": "code",
   "execution_count": 2,
   "metadata": {},
   "outputs": [
    {
     "data": {
      "text/plain": [
       "'S'"
      ]
     },
     "execution_count": 2,
     "metadata": {},
     "output_type": "execute_result"
    }
   ],
   "source": [
    "#We do not have to use variables to do this; we could perform the same above operation directly on the string.\n",
    "'MSLFKIRMPE'[1]"
   ]
  },
  {
   "cell_type": "code",
   "execution_count": 3,
   "metadata": {},
   "outputs": [
    {
     "data": {
      "text/plain": [
       "10"
      ]
     },
     "execution_count": 3,
     "metadata": {},
     "output_type": "execute_result"
    }
   ],
   "source": [
    "#If you want to know the last character of a string you can find length and chose the last character\n",
    "len(seq)"
   ]
  },
  {
   "cell_type": "code",
   "execution_count": 4,
   "metadata": {},
   "outputs": [
    {
     "data": {
      "text/plain": [
       "'E'"
      ]
     },
     "execution_count": 4,
     "metadata": {},
     "output_type": "execute_result"
    }
   ],
   "source": [
    "seq[9]"
   ]
  },
  {
   "cell_type": "code",
   "execution_count": 6,
   "metadata": {},
   "outputs": [
    {
     "data": {
      "text/plain": [
       "'E'"
      ]
     },
     "execution_count": 6,
     "metadata": {},
     "output_type": "execute_result"
    }
   ],
   "source": [
    "#Alternatively the string can also be reverse indexed from the last charter to the first using negatives.\n",
    "seq[-1]"
   ]
  },
  {
   "cell_type": "code",
   "execution_count": null,
   "metadata": {},
   "outputs": [
    {
     "data": {
      "text/plain": [
       "'MSLFK'"
      ]
     },
     "execution_count": 8,
     "metadata": {},
     "output_type": "execute_result"
    }
   ],
   "source": [
    "#Grabbing a secetion of a string is known as slicing.\n",
    "seq[0:5]\n",
    "\n",
    "#One important detail is that the character at the starting index is included in the slice \n",
    "#While the character at the final index is excluded from the slice."
   ]
  },
  {
   "cell_type": "code",
   "execution_count": null,
   "metadata": {},
   "outputs": [
    {
     "data": {
      "text/plain": [
       "'pd'"
      ]
     },
     "execution_count": 9,
     "metadata": {},
     "output_type": "execute_result"
    }
   ],
   "source": [
    "#This can cause issues such as here when trying to obtain file type\n",
    "file = '1rxt.pdb'\n",
    "file[-3:-1]"
   ]
  },
  {
   "cell_type": "code",
   "execution_count": 10,
   "metadata": {},
   "outputs": [
    {
     "data": {
      "text/plain": [
       "'pdb'"
      ]
     },
     "execution_count": 10,
     "metadata": {},
     "output_type": "execute_result"
    }
   ],
   "source": [
    "#Leaving the stop index blank tells python to just go to the end\n",
    "file[-3:]\n"
   ]
  },
  {
   "cell_type": "code",
   "execution_count": 11,
   "metadata": {},
   "outputs": [
    {
     "data": {
      "text/plain": [
       "'1rxt'"
      ]
     },
     "execution_count": 11,
     "metadata": {},
     "output_type": "execute_result"
    }
   ],
   "source": [
    "#This also works to get the file name without the extension\n",
    "file[:-4]"
   ]
  },
  {
   "cell_type": "code",
   "execution_count": 12,
   "metadata": {},
   "outputs": [
    {
     "data": {
      "text/plain": [
       "'MLKRP'"
      ]
     },
     "execution_count": 12,
     "metadata": {},
     "output_type": "execute_result"
    }
   ],
   "source": [
    "#We can also adjust the step size in the slice. \n",
    "#The overall structure is [start : stop : step].\n",
    "seq[::2]"
   ]
  },
  {
   "cell_type": "code",
   "execution_count": 13,
   "metadata": {},
   "outputs": [
    {
     "data": {
      "text/plain": [
       "'Anyone who has never made a mistake has never tried anything new.'"
      ]
     },
     "execution_count": 13,
     "metadata": {},
     "output_type": "execute_result"
    }
   ],
   "source": [
    "# A method is a function tied to a specific object type (e.g. strings).\n",
    "# String methods only work on strings, not on floats or other types.\n",
    "# Lists and NumPy arrays have their own methods too.\n",
    "quote = 'anyone who has never made a mistake has never tried anything new.'\n",
    "quote.capitalize()"
   ]
  },
  {
   "cell_type": "code",
   "execution_count": 14,
   "metadata": {},
   "outputs": [
    {
     "data": {
      "text/plain": [
       "'anyone who has never made a mistake has never tried anything new.'"
      ]
     },
     "execution_count": 14,
     "metadata": {},
     "output_type": "execute_result"
    }
   ],
   "source": [
    "quote # Methods don't change the original string unless you assign the result to a variable."
   ]
  },
  {
   "cell_type": "code",
   "execution_count": 16,
   "metadata": {},
   "outputs": [
    {
     "data": {
      "text/plain": [
       "'Anyone who has never made a mistake has never tried anything new.'"
      ]
     },
     "execution_count": 16,
     "metadata": {},
     "output_type": "execute_result"
    }
   ],
   "source": [
    "cap_quote = quote.capitalize()\n",
    "cap_quote"
   ]
  },
  {
   "cell_type": "code",
   "execution_count": 17,
   "metadata": {},
   "outputs": [
    {
     "data": {
      "text/plain": [
       "'Anyone who has never made a mistake has never tried anything new.'"
      ]
     },
     "execution_count": 17,
     "metadata": {},
     "output_type": "execute_result"
    }
   ],
   "source": [
    "str.capitalize(quote) # You can also use str.capitalize(\"quote\"), but \"quote\".capitalize() is more common and shorter."
   ]
  },
  {
   "cell_type": "code",
   "execution_count": 18,
   "metadata": {},
   "outputs": [
    {
     "data": {
      "text/plain": [
       "'anyone who has never made a mistake has never tried anything new.'"
      ]
     },
     "execution_count": 18,
     "metadata": {},
     "output_type": "execute_result"
    }
   ],
   "source": [
    "quote"
   ]
  },
  {
   "cell_type": "markdown",
   "metadata": {},
   "source": [
    "### Common String Methods\n",
    "\n",
    "| Method               | Description                                                                 |\n",
    "|----------------------|-----------------------------------------------------------------------------|\n",
    "| `capitalize()`       | Capitalizes the first letter in the string                                  |\n",
    "| `center(width)`      | Returns the string centered with spaces on both sides to have a total width |\n",
    "| `count(characters)`  | Returns the number of non-overlapping occurrences of a series of characters |\n",
    "| `find(characters)`   | Returns the index of the first occurrence of `characters` in a string       |\n",
    "| `isalnum()`          | Checks if the string is alphanumeric, returns `True` or `False`             |\n",
    "| `isalpha()`          | Checks if the string is only letters, returns `True` or `False`             |\n",
    "| `isdigit()`          | Checks if the string is only numbers, returns `True` or `False`             |\n",
    "| `lstrip(characters)` | Removes leading `characters`; if none given, removes spaces                 |\n",
    "| `rstrip(characters)` | Removes trailing `characters`; if none given, removes spaces                |\n",
    "| `split(sep=None)`    | Splits string at `sep` (default is whitespace)                              |\n",
    "| `startswith(prefix)` | Checks if string starts with `prefix`, returns `True` or `False`            |\n",
    "| `endswith(suffix)`   | Checks if string ends with `suffix`, returns `True` or `False`              |\n"
   ]
  },
  {
   "cell_type": "code",
   "execution_count": null,
   "metadata": {},
   "outputs": [
    {
     "data": {
      "text/plain": [
       "'Molar mass = 63.21 g/mol.'"
      ]
     },
     "execution_count": 19,
     "metadata": {},
     "output_type": "execute_result"
    }
   ],
   "source": [
    "# Strings can be joined using the + operator. Use str() to convert non-strings before concatenating.\n",
    "# While this approach usually works fine, it can get messy \n",
    "MW = 63.21\n",
    "\"Molar mass = \" + str(MW) + \" g/mol.\""
   ]
  },
  {
   "cell_type": "code",
   "execution_count": null,
   "metadata": {},
   "outputs": [
    {
     "data": {
      "text/plain": [
       "'The molar mass of ammonia is 17.03 g/mol.'"
      ]
     },
     "execution_count": 20,
     "metadata": {},
     "output_type": "execute_result"
    }
   ],
   "source": [
    "# The str.format() method inserts values into a string using {} placeholders.\n",
    "# format() function automatically converts non-string objects into strings for us.\n",
    "compound = 'ammonia'\n",
    "MW = 17.03\n",
    "\n",
    "'The molar mass of {} is {} g/mol.'.format(compound, MW)"
   ]
  },
  {
   "cell_type": "code",
   "execution_count": null,
   "metadata": {},
   "outputs": [
    {
     "data": {
      "text/plain": [
       "'The molar mass of urea is 60.06 g/mol.'"
      ]
     },
     "execution_count": 23,
     "metadata": {},
     "output_type": "execute_result"
    }
   ],
   "source": [
    "# You can use index numbers in {} with str.format() to control the order of insertion.\n",
    "# Indexing starts at 0, so {0} = first argument, {1} = second.\n",
    "compound = 'urea'\n",
    "MW = 60.06\n",
    "\n",
    "'The molar mass of {0} is {1} g/mol.'.format(compound, MW)"
   ]
  },
  {
   "cell_type": "code",
   "execution_count": 28,
   "metadata": {},
   "outputs": [
    {
     "data": {
      "text/plain": [
       "'The compound urea is a molecular compound and urea has a molar mass of 60.06 g/mol.'"
      ]
     },
     "execution_count": 28,
     "metadata": {},
     "output_type": "execute_result"
    }
   ],
   "source": [
    "'The compound {0} is a molecular compound and {0} has a molar mass of {1} g/mol.'.format(compound, MW)"
   ]
  },
  {
   "cell_type": "code",
   "execution_count": 29,
   "metadata": {},
   "outputs": [
    {
     "data": {
      "text/plain": [
       "'The molar mass of urea is 60.06 g/mol.'"
      ]
     },
     "execution_count": 29,
     "metadata": {},
     "output_type": "execute_result"
    }
   ],
   "source": [
    "# f-strings let you insert variables directly into a string using {}.\n",
    "# Just add f before the string. It's simple, versatile, and easy to read.\n",
    "f'The molar mass of {compound} is {MW} g/mol.'\n"
   ]
  },
  {
   "cell_type": "code",
   "execution_count": 30,
   "metadata": {},
   "outputs": [
    {
     "data": {
      "text/plain": [
       "'The molar mass of Urea is 60.06 g/mol.'"
      ]
     },
     "execution_count": 30,
     "metadata": {},
     "output_type": "execute_result"
    }
   ],
   "source": [
    "f'The molar mass of {compound.capitalize()} is {MW} g/mol.'"
   ]
  },
  {
   "cell_type": "markdown",
   "metadata": {},
   "source": [
    "## 1.4 Boolean Logic"
   ]
  },
  {
   "cell_type": "markdown",
   "metadata": {},
   "source": [
    "### Basic Boolean Comparison Operators\n",
    "\n",
    "| Operator  | Description                |\n",
    "|----------|----------------------------|\n",
    "| `==`     | Equal (double equal sign)  |\n",
    "| `!=`     | Not equal                  |\n",
    "| `<=`     | Less than or equal         |\n",
    "| `>=`     | Greater than or equal      |\n",
    "| `<`      | Less than                  |\n",
    "| `>`      | Greater than               |\n",
    "| `is`     | Identity                   |\n",
    "| `is not` | Negative identity          |\n",
    "\n",
    "### Common Boolean Logic Operators\n",
    "\n",
    "| Operator | Description                   |\n",
    "|----------|-------------------------------|\n",
    "| `and`    | Tests for both being `True`   |\n",
    "| `or`     | Tests for either being `True` |\n",
    "| `not`    | Tests for `False`             |\n",
    "\n"
   ]
  },
  {
   "cell_type": "code",
   "execution_count": 1,
   "metadata": {},
   "outputs": [
    {
     "data": {
      "text/plain": [
       "False"
      ]
     },
     "execution_count": 1,
     "metadata": {},
     "output_type": "execute_result"
    }
   ],
   "source": [
    "8 == 3"
   ]
  },
  {
   "cell_type": "code",
   "execution_count": null,
   "metadata": {},
   "outputs": [
    {
     "data": {
      "text/plain": [
       "True"
      ]
     },
     "execution_count": 5,
     "metadata": {},
     "output_type": "execute_result"
    }
   ],
   "source": [
    "## The 'is' and 'is not' operators check if two objects are the same (identity), not just equal in value.\n",
    "8 == 8.0"
   ]
  },
  {
   "cell_type": "code",
   "execution_count": 4,
   "metadata": {},
   "outputs": [
    {
     "name": "stderr",
     "output_type": "stream",
     "text": [
      "<>:1: SyntaxWarning: \"is\" with a literal. Did you mean \"==\"?\n",
      "<>:1: SyntaxWarning: \"is\" with a literal. Did you mean \"==\"?\n",
      "/var/folders/g2/8zyjglrn4c7dqmvyh0hq9p4m0000gn/T/ipykernel_85132/1557232650.py:1: SyntaxWarning: \"is\" with a literal. Did you mean \"==\"?\n",
      "  8 is 8.0\n"
     ]
    },
    {
     "data": {
      "text/plain": [
       "False"
      ]
     },
     "execution_count": 4,
     "metadata": {},
     "output_type": "execute_result"
    }
   ],
   "source": [
    "8 is 8.0"
   ]
  },
  {
   "cell_type": "code",
   "execution_count": 6,
   "metadata": {},
   "outputs": [
    {
     "data": {
      "text/plain": [
       "True"
      ]
     },
     "execution_count": 6,
     "metadata": {},
     "output_type": "execute_result"
    }
   ],
   "source": [
    "8 > 3 or 8 < 2"
   ]
  },
  {
   "cell_type": "code",
   "execution_count": 7,
   "metadata": {},
   "outputs": [
    {
     "data": {
      "text/plain": [
       "False"
      ]
     },
     "execution_count": 7,
     "metadata": {},
     "output_type": "execute_result"
    }
   ],
   "source": [
    "not 8 > 3"
   ]
  },
  {
   "cell_type": "code",
   "execution_count": null,
   "metadata": {},
   "outputs": [
    {
     "data": {
      "text/plain": [
       "True"
      ]
     },
     "execution_count": 9,
     "metadata": {},
     "output_type": "execute_result"
    }
   ],
   "source": [
    "not 8 > 2 "
   ]
  },
  {
   "cell_type": "markdown",
   "metadata": {},
   "source": [
    "### Alternative Truth Representations\n",
    "The values 1 and 0 can also be used in place of True and False, respectively, as Python recognizes them as surrogates. For Python to know that you mean these values as Booleans and not simply integers, Python sometimes requires the bool() function."
   ]
  },
  {
   "cell_type": "code",
   "execution_count": 11,
   "metadata": {},
   "outputs": [
    {
     "data": {
      "text/plain": [
       "True"
      ]
     },
     "execution_count": 11,
     "metadata": {},
     "output_type": "execute_result"
    }
   ],
   "source": [
    "bool(1)"
   ]
  },
  {
   "cell_type": "code",
   "execution_count": 12,
   "metadata": {},
   "outputs": [
    {
     "data": {
      "text/plain": [
       "False"
      ]
     },
     "execution_count": 12,
     "metadata": {},
     "output_type": "execute_result"
    }
   ],
   "source": [
    "bool(0)"
   ]
  },
  {
   "cell_type": "code",
   "execution_count": 13,
   "metadata": {},
   "outputs": [
    {
     "data": {
      "text/plain": [
       "True"
      ]
     },
     "execution_count": 13,
     "metadata": {},
     "output_type": "execute_result"
    }
   ],
   "source": [
    "bool(5)"
   ]
  },
  {
   "cell_type": "code",
   "execution_count": 62,
   "metadata": {},
   "outputs": [
    {
     "data": {
      "text/plain": [
       "True"
      ]
     },
     "execution_count": 62,
     "metadata": {},
     "output_type": "execute_result"
    }
   ],
   "source": [
    "example = [True, True, False]\n",
    "any(example)"
   ]
  },
  {
   "cell_type": "code",
   "execution_count": 63,
   "metadata": {},
   "outputs": [
    {
     "data": {
      "text/plain": [
       "False"
      ]
     },
     "execution_count": 63,
     "metadata": {},
     "output_type": "execute_result"
    }
   ],
   "source": [
    "all(example)"
   ]
  },
  {
   "cell_type": "code",
   "execution_count": 16,
   "metadata": {},
   "outputs": [],
   "source": [
    "comp1 = 'Co(NH3)6'\n",
    "comp2 = 'Ni(H2O)6'"
   ]
  },
  {
   "cell_type": "code",
   "execution_count": 17,
   "metadata": {},
   "outputs": [
    {
     "data": {
      "text/plain": [
       "False"
      ]
     },
     "execution_count": 17,
     "metadata": {},
     "output_type": "execute_result"
    }
   ],
   "source": [
    "'Ni' in comp1"
   ]
  },
  {
   "cell_type": "code",
   "execution_count": 18,
   "metadata": {},
   "outputs": [
    {
     "data": {
      "text/plain": [
       "True"
      ]
     },
     "execution_count": 18,
     "metadata": {},
     "output_type": "execute_result"
    }
   ],
   "source": [
    "'Ni' in comp2"
   ]
  },
  {
   "cell_type": "code",
   "execution_count": 21,
   "metadata": {},
   "outputs": [
    {
     "name": "stdout",
     "output_type": "stream",
     "text": [
      "The solution is basic.\n",
      "Neutralize with acid.\n"
     ]
    }
   ],
   "source": [
    "pH = 9\n",
    "\n",
    "if pH > 7:\n",
    "    print('The solution is basic.')\n",
    "    print('Neutralize with acid.')"
   ]
  },
  {
   "cell_type": "code",
   "execution_count": null,
   "metadata": {},
   "outputs": [],
   "source": [
    "#Nothing prints here as pH is not > 7 therefore if statement is not entered. \n",
    "pH = 5\n",
    "\n",
    "if pH > 7:\n",
    "    print('The solution is basic.')\n",
    "    print('Neutralize with acid.')"
   ]
  },
  {
   "cell_type": "code",
   "execution_count": 29,
   "metadata": {},
   "outputs": [
    {
     "name": "stdout",
     "output_type": "stream",
     "text": [
      "The Solution is acidic\n"
     ]
    }
   ],
   "source": [
    "pH = 6\n",
    "\n",
    "if pH == 7:\n",
    "    print('The solution is neutral')\n",
    "elif pH >7:\n",
    "    print('The solution is basic.')\n",
    "else:\n",
    "    print ('The Solution is acidic')"
   ]
  },
  {
   "cell_type": "markdown",
   "metadata": {},
   "source": [
    "## 1.6 List & Tuples"
   ]
  },
  {
   "cell_type": "markdown",
   "metadata": {},
   "source": [
    "### Common List Methods\n",
    "\n",
    "| Method                      | Description                                                                 |\n",
    "|----------------------------|-----------------------------------------------------------------------------|\n",
    "| `append(element)`          | Adds a single element to the end of the list                                |\n",
    "| `clear()`                  | Removes all elements from the list                                          |\n",
    "| `copy()`                   | Creates an independent copy of the list                                     |\n",
    "| `count(element)`           | Returns the number of times an element occurs in the list                   |\n",
    "| `extend(elements)`         | Adds multiple elements to the list                                          |\n",
    "| `index(element)`           | Returns the index of the first occurrence of element                        |\n",
    "| `insert(index, element)`   | Inserts the given element at the provided index                             |\n",
    "| `pop(index)`               | Removes and returns the element from a given index; defaults to last element if none given |\n",
    "| `remove(element)`          | Removes the first occurrence of the element in the list                     |\n",
    "| `reverse()`                | Reverses the order of the entire list                                       |\n",
    "| `sort()`                   | Sorts the list in place                                                     |\n"
   ]
  },
  {
   "cell_type": "code",
   "execution_count": 31,
   "metadata": {},
   "outputs": [
    {
     "data": {
      "text/plain": [
       "[0.1, 0.2, 0.3, 0.4]"
      ]
     },
     "execution_count": 31,
     "metadata": {},
     "output_type": "execute_result"
    }
   ],
   "source": [
    "mass = [0.1, 0.2, 0.3, 0.4]\n",
    "mass"
   ]
  },
  {
   "cell_type": "code",
   "execution_count": 32,
   "metadata": {},
   "outputs": [
    {
     "data": {
      "text/plain": [
       "[2.1, 'NA', 1.0, 1.5, 2.0, 2.5]"
      ]
     },
     "execution_count": 32,
     "metadata": {},
     "output_type": "execute_result"
    }
   ],
   "source": [
    "EN = [2.1, 'NA', 1.0, 1.5, 2.0, 2.5]\n",
    "EN"
   ]
  },
  {
   "cell_type": "code",
   "execution_count": 55,
   "metadata": {},
   "outputs": [
    {
     "data": {
      "text/plain": [
       "[1.01, 4.0, 6.94, 9.01, 10.81, 12.01, 14.01]"
      ]
     },
     "execution_count": 55,
     "metadata": {},
     "output_type": "execute_result"
    }
   ],
   "source": [
    "mass = [4.00, 1.01, 6.94, 14.01, 10.81, 12.01, 9.01]\n",
    "mass.sort()\n",
    "mass"
   ]
  },
  {
   "cell_type": "code",
   "execution_count": 56,
   "metadata": {},
   "outputs": [
    {
     "data": {
      "text/plain": [
       "[14.01, 12.01, 10.81, 9.01, 6.94, 4.0, 1.01]"
      ]
     },
     "execution_count": 56,
     "metadata": {},
     "output_type": "execute_result"
    }
   ],
   "source": [
    "mass.reverse()\n",
    "mass"
   ]
  },
  {
   "cell_type": "code",
   "execution_count": 57,
   "metadata": {},
   "outputs": [
    {
     "data": {
      "text/plain": [
       "[14.01, 12.01, 10.81, 9.01, 6.94, 4.0, 1.01, 16.0]"
      ]
     },
     "execution_count": 57,
     "metadata": {},
     "output_type": "execute_result"
    }
   ],
   "source": [
    "# append() adds a single element to the end of a list.\n",
    "# extend() adds multiple elements (from an iterable) to the list.\n",
    "mass.append(16.00)\n",
    "mass"
   ]
  },
  {
   "cell_type": "code",
   "execution_count": 58,
   "metadata": {},
   "outputs": [
    {
     "data": {
      "text/plain": [
       "[14.01, 12.01, 10.81, 9.01, 6.94, 4.0, 1.01, 16.0, 19.0, 20.18]"
      ]
     },
     "execution_count": 58,
     "metadata": {},
     "output_type": "execute_result"
    }
   ],
   "source": [
    "mass.extend([19.00, 20.18])\n",
    "mass"
   ]
  },
  {
   "cell_type": "code",
   "execution_count": 59,
   "metadata": {},
   "outputs": [
    {
     "data": {
      "text/plain": [
       "[14.01, 12.01, 10.81, 9.01, 6.94, 4.0, 1.01, 16.0, 19.0, 20.18, [23.0, 24.0]]"
      ]
     },
     "execution_count": 59,
     "metadata": {},
     "output_type": "execute_result"
    }
   ],
   "source": [
    "# If multiple elements are added using the append() method, it will result in a nested list\n",
    "mass.append([23.00, 24.00])\n",
    "mass"
   ]
  },
  {
   "cell_type": "markdown",
   "metadata": {},
   "source": [
    "The append() method is frequently used as a means of storing values in a list as they are generated"
   ]
  },
  {
   "cell_type": "code",
   "execution_count": 60,
   "metadata": {},
   "outputs": [
    {
     "data": {
      "text/plain": [
       "range(0, 10)"
      ]
     },
     "execution_count": 60,
     "metadata": {},
     "output_type": "execute_result"
    }
   ],
   "source": [
    "a = range(10)\n",
    "a"
   ]
  },
  {
   "cell_type": "code",
   "execution_count": 70,
   "metadata": {},
   "outputs": [
    {
     "ename": "TypeError",
     "evalue": "'list' object is not callable",
     "output_type": "error",
     "traceback": [
      "\u001b[31m---------------------------------------------------------------------------\u001b[39m",
      "\u001b[31mTypeError\u001b[39m                                 Traceback (most recent call last)",
      "\u001b[36mCell\u001b[39m\u001b[36m \u001b[39m\u001b[32mIn[70]\u001b[39m\u001b[32m, line 1\u001b[39m\n\u001b[32m----> \u001b[39m\u001b[32m1\u001b[39m \u001b[38;5;28;43mlist\u001b[39;49m\u001b[43m(\u001b[49m\u001b[43ma\u001b[49m\u001b[43m)\u001b[49m\n",
      "\u001b[31mTypeError\u001b[39m: 'list' object is not callable"
     ]
    }
   ],
   "source": [
    "list(a)"
   ]
  },
  {
   "cell_type": "code",
   "execution_count": null,
   "metadata": {},
   "outputs": [],
   "source": [
    "# Earlier in the code I accidentally overwrote the built-in list() so can delete the variable here to fix\n",
    "del list"
   ]
  },
  {
   "cell_type": "code",
   "execution_count": 74,
   "metadata": {},
   "outputs": [
    {
     "data": {
      "text/plain": [
       "[0, 1, 2, 3, 4, 5, 6, 7, 8, 9]"
      ]
     },
     "execution_count": 74,
     "metadata": {},
     "output_type": "execute_result"
    }
   ],
   "source": [
    "list(a)"
   ]
  },
  {
   "cell_type": "code",
   "execution_count": 75,
   "metadata": {},
   "outputs": [
    {
     "data": {
      "text/plain": [
       "[3, 4, 5, 6, 7, 8, 9, 10, 11]"
      ]
     },
     "execution_count": 75,
     "metadata": {},
     "output_type": "execute_result"
    }
   ],
   "source": [
    "list(range(3, 12))"
   ]
  },
  {
   "cell_type": "code",
   "execution_count": 78,
   "metadata": {},
   "outputs": [
    {
     "data": {
      "text/plain": [
       "[3, 6, 9, 12, 15, 18]"
      ]
     },
     "execution_count": 78,
     "metadata": {},
     "output_type": "execute_result"
    }
   ],
   "source": [
    "# You can include a step size in slicing: [start:stop:step]\n",
    "# Default step is 1, but it can be any integer (including negative).\n",
    "\n",
    "list(range(3, 20, 3))"
   ]
  },
  {
   "cell_type": "code",
   "execution_count": 77,
   "metadata": {},
   "outputs": [
    {
     "data": {
      "text/plain": [
       "[10, 9, 8, 7, 6, 5, 4]"
      ]
     },
     "execution_count": 77,
     "metadata": {},
     "output_type": "execute_result"
    }
   ],
   "source": [
    "list(range(10, 3, -1))"
   ]
  },
  {
   "cell_type": "code",
   "execution_count": 84,
   "metadata": {},
   "outputs": [
    {
     "data": {
      "text/plain": [
       "2"
      ]
     },
     "execution_count": 84,
     "metadata": {},
     "output_type": "execute_result"
    }
   ],
   "source": [
    "# range objects behave like lists - you can index and loop through them.\n",
    "# Just think of range() as a lightweight list.\n",
    "\n",
    "ten_nums = range(10)\n",
    "ten_nums[2]"
   ]
  },
  {
   "cell_type": "code",
   "execution_count": 87,
   "metadata": {},
   "outputs": [
    {
     "data": {
      "text/plain": [
       "1.635e-18"
      ]
     },
     "execution_count": 87,
     "metadata": {},
     "output_type": "execute_result"
    }
   ],
   "source": [
    "# Tuples are like lists but immutable — they can't be changed after creation.\n",
    "# Use () instead of [].\n",
    "# Useful for storing fixed data you don't want to accidentally modify.\n",
    "\n",
    "nrg = (-2.18e-18, -5.45e-19, -2.42e-19, -1.36e-19, -8.72e-20)\n",
    "nrg[1] - nrg[0]"
   ]
  },
  {
   "cell_type": "code",
   "execution_count": 86,
   "metadata": {},
   "outputs": [
    {
     "data": {
      "text/plain": [
       "4.879999999999998e-20"
      ]
     },
     "execution_count": 86,
     "metadata": {},
     "output_type": "execute_result"
    }
   ],
   "source": [
    "nrg[4] - nrg[3]"
   ]
  },
  {
   "cell_type": "markdown",
   "metadata": {},
   "source": [
    "## 1.7 Lopps"
   ]
  },
  {
   "cell_type": "code",
   "execution_count": 88,
   "metadata": {},
   "outputs": [
    {
     "name": "stdout",
     "output_type": "stream",
     "text": [
      "8\n",
      "12\n",
      "4\n"
     ]
    }
   ],
   "source": [
    "# A for loop is used to iterate over elements in a list, tuple, or other iterable.\n",
    "# Each element is assigned to a variable, and the indented code runs for each item.\n",
    "\n",
    "for value in [4, 6, 2]:\n",
    "    print(2 * value)"
   ]
  },
  {
   "cell_type": "code",
   "execution_count": 89,
   "metadata": {},
   "outputs": [],
   "source": [
    "# A for loop doesn't change the original list.\n",
    "# To store results (e.g. squares), create a new list and append to it.\n",
    "\n",
    "numbers = [1, 2, 3, 4, 5, 6]  # original values\n",
    "squares = []  # an empty list\n",
    "\n",
    "for value in numbers:\n",
    "    squares.append(value**2)"
   ]
  },
  {
   "cell_type": "code",
   "execution_count": 90,
   "metadata": {},
   "outputs": [
    {
     "data": {
      "text/plain": [
       "[1, 4, 9, 16, 25, 36]"
      ]
     },
     "execution_count": 90,
     "metadata": {},
     "output_type": "execute_result"
    }
   ],
   "source": [
    "squares"
   ]
  },
  {
   "cell_type": "code",
   "execution_count": 91,
   "metadata": {},
   "outputs": [
    {
     "name": "stdout",
     "output_type": "stream",
     "text": [
      "L\n",
      "I\n",
      "N\n",
      "U\n",
      "S\n"
     ]
    }
   ],
   "source": [
    "for letter in 'Linus':\n",
    "    print(letter.capitalize())"
   ]
  },
  {
   "cell_type": "code",
   "execution_count": 92,
   "metadata": {},
   "outputs": [
    {
     "name": "stdout",
     "output_type": "stream",
     "text": [
      "91.6 g\n",
      "45.8 g\n",
      "22.9 g\n",
      "11.45 g\n",
      "5.725 g\n",
      "2.8625 g\n"
     ]
    }
   ],
   "source": [
    "# A for loop can be used to repeat a task a set number of times (like a counter).\n",
    "# Use range() to generate the required number of iterations.\n",
    "\n",
    "U235 = 183.2\n",
    "for x in range(6):\n",
    "    U235 = U235 / 2\n",
    "    print(str(U235) + ' g')"
   ]
  },
  {
   "cell_type": "code",
   "execution_count": 93,
   "metadata": {},
   "outputs": [
    {
     "name": "stdout",
     "output_type": "stream",
     "text": [
      "0\n",
      "2\n",
      "4\n",
      "6\n",
      "8\n"
     ]
    }
   ],
   "source": [
    "# A while loop runs until a condition is no longer true.\n",
    "# The condition is checked before each loop iteration.\n",
    "# Example: while x < 10 — runs until x is no longer less than 10.\n",
    "# Use with caution: a faulty condition can cause an infinite loop.\n",
    "\n",
    "x = 0\n",
    "while x < 10:\n",
    "    print(x)\n",
    "    x = x + 2  # increments by 2"
   ]
  },
  {
   "cell_type": "markdown",
   "metadata": {},
   "source": [
    "### Table 11: Loop Interruptions\n",
    "\n",
    "| Statement | Description |\n",
    "|-----------|-------------|\n",
    "| `break`   | Breaks out of immediate containing `for`/`while` loop |\n",
    "| `continue` | Starts the next iteration of the immediate containing `for`/`while` loop |\n",
    "| `pass`    | No action; code continues on |\n"
   ]
  },
  {
   "cell_type": "code",
   "execution_count": null,
   "metadata": {},
   "outputs": [
    {
     "name": "stdout",
     "output_type": "stream",
     "text": [
      "Endpoint: 32 mL HCl solution\n"
     ]
    }
   ],
   "source": [
    "# The break statement stops the nearest loop early if a condition is met.\n",
    "# Useful for ending a loop before it finishes all iterations.\n",
    "\n",
    "vol_OH = 35   # Volume of NaOH in mL (0.9 M)\n",
    "vol_H = 0     # Initial volume of HCl in mL (1.0 M)\n",
    "\n",
    "for ml in range(1, 50):  # Simulate adding HCl in 1 mL steps, up to 50 mL max\n",
    "    vol_total = vol_OH + vol_H  \n",
    "    mol_OH = 0.9 * vol_OH / 1000  # Convert to mol\n",
    "    mol_H = 1.0 * vol_H / 1000    # Convert to mol\n",
    "\n",
    "    if mol_H >= mol_OH:\n",
    "        break  # Stop the loop if the equivalence point is reached\n",
    "    else:\n",
    "        vol_H = vol_H + 1  # Add 1 mL of HCl\n",
    "\n",
    "print(f'Endpoint: {vol_H} mL HCl solution')\n"
   ]
  },
  {
   "cell_type": "code",
   "execution_count": 97,
   "metadata": {},
   "outputs": [
    {
     "name": "stdout",
     "output_type": "stream",
     "text": [
      "1.4142135623730951\n",
      "2.0\n",
      "2.449489742783178\n"
     ]
    }
   ],
   "source": [
    "# The continue statement skips the rest of the current loop iteration\n",
    "# and moves to the next one. Useful for ignoring specific cases.\n",
    "\n",
    "import math\n",
    "\n",
    "numbers = [1, 2, 3, 4, 5, 6, 7]\n",
    "for number in numbers:\n",
    "    if number % 2 == 1: # Skip odd numbers\n",
    "        continue\n",
    "    print(math.sqrt(number))"
   ]
  },
  {
   "cell_type": "code",
   "execution_count": 98,
   "metadata": {},
   "outputs": [],
   "source": [
    "# The pass statement does nothing — it's a placeholder to avoid syntax errors.\n",
    "# Useful while writing or testing unfinished code (e.g. in if/else or function blocks).\n",
    "# Final code should not contain pass unless intentionally left empty.\n",
    "\n",
    "pH = 5\n",
    "if pH > 7:\n",
    "    print('Basic')\n",
    "else:\n",
    "    pass"
   ]
  },
  {
   "cell_type": "markdown",
   "metadata": {},
   "source": [
    "## 1.8 File Input/Output (I/O)"
   ]
  },
  {
   "cell_type": "code",
   "execution_count": null,
   "metadata": {},
   "outputs": [],
   "source": []
  }
 ],
 "metadata": {
  "kernelspec": {
   "display_name": "3.11.8",
   "language": "python",
   "name": "python3"
  },
  "language_info": {
   "codemirror_mode": {
    "name": "ipython",
    "version": 3
   },
   "file_extension": ".py",
   "mimetype": "text/x-python",
   "name": "python",
   "nbconvert_exporter": "python",
   "pygments_lexer": "ipython3",
   "version": "3.11.8"
  }
 },
 "nbformat": 4,
 "nbformat_minor": 2
}
