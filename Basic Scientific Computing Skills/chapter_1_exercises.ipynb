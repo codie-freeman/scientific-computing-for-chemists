{
 "cells": [
  {
   "cell_type": "markdown",
   "metadata": {},
   "source": [
    "### Question 1\n",
    "\n",
    "A 1.6285 L (`V`) flask contains 1.220 moles (`n`) of ideal gas at 273.0 K (`T`).  \n",
    "Calculate the pressure (`P`) for the above system by assigning all values to variables and performing the mathematical operations on the variables.\n",
    "\n",
    "Remember that the **ideal gas law** describes the relationship between pressure (`P`), volume (`V`), temperature (`T`), and moles of gas (`n`) where:\n",
    "\n",
    "$$\n",
    "PV = nRT\n",
    "$$\n",
    "\n",
    "and:\n",
    "\n",
    "$$\n",
    "R = 0.08206\\ \\mathrm{L \\cdot atm \\cdot mol^{-1} \\cdot K^{-1}}\n",
    "$$"
   ]
  },
  {
   "cell_type": "code",
   "execution_count": 4,
   "metadata": {},
   "outputs": [
    {
     "name": "stdout",
     "output_type": "stream",
     "text": [
      "The Pressure is 16.783 atm\n"
     ]
    }
   ],
   "source": [
    "V = 1.6285 # L\n",
    "n = 1.220 # Mol\n",
    "T = 273.0 # K\n",
    "R = 0.08206  # L·atm/mol·K\n",
    "\n",
    "idealgas = (n*R*T)/V\n",
    "\n",
    "print(f'The Pressure is {idealgas:.3f} atm') \n",
    "#Using f print to put variable inside print function, .3f for no. of d.p. and atm for units"
   ]
  },
  {
   "cell_type": "markdown",
   "metadata": {},
   "source": [
    "### Question 2\n",
    "\n",
    "Calculate the distance of point (23, 81) from the origin on an *xy*-plane first using the `math.hypot()` function and then by the following distance equation:\n",
    "\n",
    "$$\n",
    "\\sqrt{(\\Delta x)^2 + (\\Delta y)^2}\n",
    "$$"
   ]
  },
  {
   "cell_type": "code",
   "execution_count": 6,
   "metadata": {},
   "outputs": [
    {
     "data": {
      "text/plain": [
       "84.20213774008353"
      ]
     },
     "execution_count": 6,
     "metadata": {},
     "output_type": "execute_result"
    }
   ],
   "source": [
    "import math\n",
    "\n",
    "math.hypot(23, 81)"
   ]
  },
  {
   "cell_type": "code",
   "execution_count": null,
   "metadata": {},
   "outputs": [
    {
     "name": "stdout",
     "output_type": "stream",
     "text": [
      "Distance: 84.202\n"
     ]
    }
   ],
   "source": [
    "import math\n",
    "\n",
    "coords = (23, 81) #variable of starting coordinates\n",
    "\n",
    "x = coords[0] # Set X coordinate from tuple\n",
    "y = coords[1] # Set Y coordinate from tuple\n",
    "\n",
    "distance = math.sqrt((x**2)+(y**2))\n",
    "print(f\"Distance: {distance:.3f}\")\n"
   ]
  },
  {
   "cell_type": "markdown",
   "metadata": {},
   "source": [
    "### Question 3\n",
    "Assign x = 12 and then increase the value by 32 without typing “x = 32”."
   ]
  },
  {
   "cell_type": "code",
   "execution_count": 13,
   "metadata": {},
   "outputs": [
    {
     "name": "stdout",
     "output_type": "stream",
     "text": [
      "44\n"
     ]
    }
   ],
   "source": [
    "x = 12\n",
    "x += 32\n",
    "\n",
    "print(x)"
   ]
  },
  {
   "cell_type": "markdown",
   "metadata": {},
   "source": [
    "| Shorthand | Longform Equivalent | Description     |\n",
    "|-----------|---------------------|-----------------|\n",
    "| `x += y`  | `x = x + y`         | Addition        |\n",
    "| `x -= y`  | `x = x - y`         | Subtraction     |\n",
    "| `x *= y`  | `x = x * y`         | Multiplication  |\n",
    "| `x /= y`  | `x = x / y`         | Division        |\n",
    "| `x **= y` | `x = x ** y`        | Exponentiation  |\n"
   ]
  },
  {
   "cell_type": "markdown",
   "metadata": {},
   "source": [
    "### Question 4\n",
    "\n",
    "Solve the quadratic equation using the quadratic formula below for:\n",
    "\n",
    "- $a = 1$\n",
    "- $b = 2$\n",
    "- $c = 1$\n",
    "\n",
    "The quadratic formula is:\n",
    "\n",
    "$$\n",
    "x = \\frac{-b \\pm \\sqrt{b^2 - 4ac}}{2a}\n",
    "$$\n"
   ]
  },
  {
   "cell_type": "code",
   "execution_count": 30,
   "metadata": {},
   "outputs": [
    {
     "name": "stdout",
     "output_type": "stream",
     "text": [
      "Root using + discriminant: -1.000\n",
      "Root using - discriminant: -1.000\n"
     ]
    }
   ],
   "source": [
    "import math\n",
    "\n",
    "def quadratic(a, b, c):\n",
    "    discriminant = math.sqrt(b**2 - 4*a*c)\n",
    "    \n",
    "    x1 = (-b + discriminant) / (2*a)  # plus discriminant\n",
    "    x2 = (-b - discriminant) / (2*a)  # minus discriminant\n",
    "    \n",
    "    return x1, x2\n",
    "\n",
    "# Inputs\n",
    "a = 1\n",
    "b = 2\n",
    "c = 1\n",
    "\n",
    "# Get roots\n",
    "plus_root, minus_root = quadratic(a, b, c)\n",
    "\n",
    "# Print clearly\n",
    "print(f'Root using + discriminant: {plus_root:.3f}')\n",
    "print(f'Root using - discriminant: {minus_root:.3f}')\n"
   ]
  },
  {
   "cell_type": "markdown",
   "metadata": {},
   "source": [
    "### Question 5\n",
    "\n",
    "Create the following variable elements = 'NaKBrClNOUP' and slice it to obtain the following strings.\n",
    "\n",
    "*elements =* `'NaKBrClNOUP'`\n",
    "\n",
    "a. `NaK`\n",
    "\n",
    "b. `UP`\n",
    "\n",
    "c. `KBr`\n",
    "\n",
    "d. `NKrlOP`"
   ]
  },
  {
   "cell_type": "code",
   "execution_count": 31,
   "metadata": {},
   "outputs": [],
   "source": [
    "elements = 'NaKBrClNOUP'"
   ]
  },
  {
   "cell_type": "code",
   "execution_count": 36,
   "metadata": {},
   "outputs": [
    {
     "data": {
      "text/plain": [
       "'NaK'"
      ]
     },
     "execution_count": 36,
     "metadata": {},
     "output_type": "execute_result"
    }
   ],
   "source": [
    "a = elements[0:3]\n",
    "a"
   ]
  },
  {
   "cell_type": "code",
   "execution_count": 37,
   "metadata": {},
   "outputs": [
    {
     "data": {
      "text/plain": [
       "'UP'"
      ]
     },
     "execution_count": 37,
     "metadata": {},
     "output_type": "execute_result"
    }
   ],
   "source": [
    "b = elements[-2:]\n",
    "b"
   ]
  },
  {
   "cell_type": "code",
   "execution_count": 40,
   "metadata": {},
   "outputs": [
    {
     "data": {
      "text/plain": [
       "'KBr'"
      ]
     },
     "execution_count": 40,
     "metadata": {},
     "output_type": "execute_result"
    }
   ],
   "source": [
    "c = elements[2:5]\n",
    "c"
   ]
  },
  {
   "cell_type": "code",
   "execution_count": null,
   "metadata": {},
   "outputs": [
    {
     "data": {
      "text/plain": [
       "'NKrlOP'"
      ]
     },
     "execution_count": 41,
     "metadata": {},
     "output_type": "execute_result"
    }
   ],
   "source": [
    "d = elements[0::2]\n",
    "d"
   ]
  },
  {
   "cell_type": "markdown",
   "metadata": {},
   "source": [
    "### Question 6\n",
    "\n",
    "A single bond is comprised of a `sigma (σ)` bond, while a double bond includes both a sigma and a `pi (π)` bond.  \n",
    "The following strings contain the bond energies `(kJ/mol)` for a typical **carbon–carbon (C–C)** single bond and **carbon–carbon double bond (C=C)**, respectively.\n",
    "\n",
    "Estimate how much energy a **pi bond** contributes to a **C=C double bond.**"
   ]
  },
  {
   "cell_type": "code",
   "execution_count": 44,
   "metadata": {},
   "outputs": [
    {
     "name": "stdout",
     "output_type": "stream",
     "text": [
      "The pi bond contributes ~266 KJ/mol\n"
     ]
    }
   ],
   "source": [
    "CC_single = \"345\"\n",
    "CC_double = \"611\"\n",
    "\n",
    "energy = int(CC_double)-int(CC_single)\n",
    "\n",
    "print (f'The pi bond contributes ~{energy} KJ/mol')"
   ]
  },
  {
   "cell_type": "code",
   "execution_count": null,
   "metadata": {},
   "outputs": [],
   "source": []
  }
 ],
 "metadata": {
  "kernelspec": {
   "display_name": "3.11.8",
   "language": "python",
   "name": "python3"
  },
  "language_info": {
   "codemirror_mode": {
    "name": "ipython",
    "version": 3
   },
   "file_extension": ".py",
   "mimetype": "text/x-python",
   "name": "python",
   "nbconvert_exporter": "python",
   "pygments_lexer": "ipython3",
   "version": "3.11.8"
  }
 },
 "nbformat": 4,
 "nbformat_minor": 2
}
