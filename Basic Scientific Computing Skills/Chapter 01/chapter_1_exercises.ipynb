{
 "cells": [
  {
   "cell_type": "markdown",
   "metadata": {},
   "source": [
    "### Question 1\n",
    "\n",
    "A 1.6285 L (`V`) flask contains 1.220 moles (`n`) of ideal gas at 273.0 K (`T`).  \n",
    "Calculate the pressure (`P`) for the above system by assigning all values to variables and performing the mathematical operations on the variables.\n",
    "\n",
    "Remember that the **ideal gas law** describes the relationship between pressure (`P`), volume (`V`), temperature (`T`), and moles of gas (`n`) where:\n",
    "\n",
    "$$\n",
    "PV = nRT\n",
    "$$\n",
    "\n",
    "and:\n",
    "\n",
    "$$\n",
    "R = 0.08206\\ \\mathrm{L \\cdot atm \\cdot mol^{-1} \\cdot K^{-1}}\n",
    "$$"
   ]
  },
  {
   "cell_type": "code",
   "execution_count": 4,
   "metadata": {},
   "outputs": [
    {
     "name": "stdout",
     "output_type": "stream",
     "text": [
      "The Pressure is 16.783 atm\n"
     ]
    }
   ],
   "source": [
    "V = 1.6285 # L\n",
    "n = 1.220 # Mol\n",
    "T = 273.0 # K\n",
    "R = 0.08206  # L·atm/mol·K\n",
    "\n",
    "idealgas = (n*R*T)/V\n",
    "\n",
    "print(f'The Pressure is {idealgas:.3f} atm') \n",
    "#Using f print to put variable inside print function, .3f for no. of d.p. and atm for units"
   ]
  },
  {
   "cell_type": "markdown",
   "metadata": {},
   "source": [
    "### Question 2\n",
    "\n",
    "Calculate the distance of point (23, 81) from the origin on an *xy*-plane first using the `math.hypot()` function and then by the following distance equation:\n",
    "\n",
    "$$\n",
    "\\sqrt{(\\Delta x)^2 + (\\Delta y)^2}\n",
    "$$"
   ]
  },
  {
   "cell_type": "code",
   "execution_count": 6,
   "metadata": {},
   "outputs": [
    {
     "data": {
      "text/plain": [
       "84.20213774008353"
      ]
     },
     "execution_count": 6,
     "metadata": {},
     "output_type": "execute_result"
    }
   ],
   "source": [
    "import math\n",
    "\n",
    "math.hypot(23, 81)"
   ]
  },
  {
   "cell_type": "code",
   "execution_count": null,
   "metadata": {},
   "outputs": [
    {
     "name": "stdout",
     "output_type": "stream",
     "text": [
      "Distance: 84.202\n"
     ]
    }
   ],
   "source": [
    "import math\n",
    "\n",
    "coords = (23, 81) #variable of starting coordinates\n",
    "\n",
    "x = coords[0] # Set X coordinate from tuple\n",
    "y = coords[1] # Set Y coordinate from tuple\n",
    "\n",
    "distance = math.sqrt((x**2)+(y**2))\n",
    "print(f\"Distance: {distance:.3f}\")\n"
   ]
  },
  {
   "cell_type": "markdown",
   "metadata": {},
   "source": [
    "### Question 3\n",
    "Assign x = 12 and then increase the value by 32 without typing “x = 32”."
   ]
  },
  {
   "cell_type": "code",
   "execution_count": 13,
   "metadata": {},
   "outputs": [
    {
     "name": "stdout",
     "output_type": "stream",
     "text": [
      "44\n"
     ]
    }
   ],
   "source": [
    "x = 12\n",
    "x += 32\n",
    "\n",
    "print(x)"
   ]
  },
  {
   "cell_type": "markdown",
   "metadata": {},
   "source": [
    "| Shorthand | Longform Equivalent | Description     |\n",
    "|-----------|---------------------|-----------------|\n",
    "| `x += y`  | `x = x + y`         | Addition        |\n",
    "| `x -= y`  | `x = x - y`         | Subtraction     |\n",
    "| `x *= y`  | `x = x * y`         | Multiplication  |\n",
    "| `x /= y`  | `x = x / y`         | Division        |\n",
    "| `x **= y` | `x = x ** y`        | Exponentiation  |\n"
   ]
  },
  {
   "cell_type": "markdown",
   "metadata": {},
   "source": [
    "### Question 4\n",
    "\n",
    "Solve the quadratic equation using the quadratic formula below for:\n",
    "\n",
    "- $a = 1$\n",
    "- $b = 2$\n",
    "- $c = 1$\n",
    "\n",
    "The quadratic formula is:\n",
    "\n",
    "$$\n",
    "x = \\frac{-b \\pm \\sqrt{b^2 - 4ac}}{2a}\n",
    "$$\n"
   ]
  },
  {
   "cell_type": "code",
   "execution_count": null,
   "metadata": {},
   "outputs": [
    {
     "name": "stdout",
     "output_type": "stream",
     "text": [
      "Root using + discriminant: -1.000\n",
      "Root using - discriminant: -1.000\n"
     ]
    }
   ],
   "source": [
    "import math\n",
    "\n",
    "def quadratic(a, b, c):\n",
    "    discriminant = math.sqrt(b**2 - 4*a*c)\n",
    "    \n",
    "    x1 = (-b + discriminant) / (2*a)  # plus discriminant\n",
    "    x2 = (-b - discriminant) / (2*a)  # minus discriminant\n",
    "    \n",
    "    return x1, x2\n",
    "\n",
    "# Inputs\n",
    "a = 1\n",
    "b = 2\n",
    "c = 1\n",
    "\n",
    "# Get roots\n",
    "plus_root, minus_root = quadratic(a, b, c)\n",
    "\n",
    "# Print clearly\n",
    "print(f'Root using + discriminant: {plus_root:.3f}')\n",
    "print(f'Root using - discriminant: {minus_root:.3f}')\n"
   ]
  },
  {
   "cell_type": "markdown",
   "metadata": {},
   "source": [
    "### Question 5\n",
    "\n",
    "Create the following variable elements = 'NaKBrClNOUP' and slice it to obtain the following strings.\n",
    "\n",
    "*elements =* `'NaKBrClNOUP'`\n",
    "\n",
    "a. `NaK`\n",
    "\n",
    "b. `UP`\n",
    "\n",
    "c. `KBr`\n",
    "\n",
    "d. `NKrlOP`"
   ]
  },
  {
   "cell_type": "code",
   "execution_count": 31,
   "metadata": {},
   "outputs": [],
   "source": [
    "elements = 'NaKBrClNOUP'"
   ]
  },
  {
   "cell_type": "code",
   "execution_count": 36,
   "metadata": {},
   "outputs": [
    {
     "data": {
      "text/plain": [
       "'NaK'"
      ]
     },
     "execution_count": 36,
     "metadata": {},
     "output_type": "execute_result"
    }
   ],
   "source": [
    "a = elements[0:3]\n",
    "a"
   ]
  },
  {
   "cell_type": "code",
   "execution_count": 37,
   "metadata": {},
   "outputs": [
    {
     "data": {
      "text/plain": [
       "'UP'"
      ]
     },
     "execution_count": 37,
     "metadata": {},
     "output_type": "execute_result"
    }
   ],
   "source": [
    "b = elements[-2:]\n",
    "b"
   ]
  },
  {
   "cell_type": "code",
   "execution_count": 40,
   "metadata": {},
   "outputs": [
    {
     "data": {
      "text/plain": [
       "'KBr'"
      ]
     },
     "execution_count": 40,
     "metadata": {},
     "output_type": "execute_result"
    }
   ],
   "source": [
    "c = elements[2:5]\n",
    "c"
   ]
  },
  {
   "cell_type": "code",
   "execution_count": null,
   "metadata": {},
   "outputs": [
    {
     "data": {
      "text/plain": [
       "'NKrlOP'"
      ]
     },
     "execution_count": 41,
     "metadata": {},
     "output_type": "execute_result"
    }
   ],
   "source": [
    "d = elements[0::2]\n",
    "d"
   ]
  },
  {
   "cell_type": "markdown",
   "metadata": {},
   "source": [
    "### Question 6\n",
    "\n",
    "A single bond is comprised of a `sigma (σ)` bond, while a double bond includes both a sigma and a `pi (π)` bond.  \n",
    "The following strings contain the bond energies `(kJ/mol)` for a typical **carbon–carbon (C–C)** single bond and **carbon–carbon double bond (C=C)**, respectively.\n",
    "\n",
    "Estimate how much energy a **pi bond** contributes to a **C=C double bond.**"
   ]
  },
  {
   "cell_type": "code",
   "execution_count": 44,
   "metadata": {},
   "outputs": [
    {
     "name": "stdout",
     "output_type": "stream",
     "text": [
      "The pi bond contributes ~266 KJ/mol\n"
     ]
    }
   ],
   "source": [
    "CC_single = \"345\"\n",
    "CC_double = \"611\"\n",
    "\n",
    "energy = int(CC_double)-int(CC_single)\n",
    "\n",
    "print (f'The pi bond contributes ~{energy} KJ/mol')"
   ]
  },
  {
   "cell_type": "markdown",
   "metadata": {},
   "source": [
    "### Question 6\n",
    "\n",
    "a) Write a Python script that takes the name of a `PNG` image *(i.e., name always ends in “.png”)* and removes the `.png` file extension using a **string method**.\n",
    "\n",
    "b) Write a Python script that **removes the file extension from a file name using slicing**. You may assume that the file extensions will always be three letters long with a period (e.g., `.png`, `.pdf`, `.txt`, etc…)."
   ]
  },
  {
   "cell_type": "code",
   "execution_count": 17,
   "metadata": {},
   "outputs": [
    {
     "name": "stdout",
     "output_type": "stream",
     "text": [
      "example\n"
     ]
    }
   ],
   "source": [
    "image_file = 'example.png'\n",
    "\n",
    "if image_file.endswith('.png'):\n",
    "    image_file = image_file.removesuffix('.png')\n",
    "\n",
    "print(image_file)"
   ]
  },
  {
   "cell_type": "code",
   "execution_count": 13,
   "metadata": {},
   "outputs": [
    {
     "data": {
      "text/plain": [
       "'example'"
      ]
     },
     "execution_count": 13,
     "metadata": {},
     "output_type": "execute_result"
    }
   ],
   "source": [
    "image_file = 'example.png'\n",
    "\n",
    "image_file[:-4]"
   ]
  },
  {
   "cell_type": "markdown",
   "metadata": {},
   "source": [
    "### Question 7\n",
    "\n",
    "For DNA = `'ATTCGCCGCTTA'`, use **Boolean logic** to show that the DNA sequence is a *palindrome* (same forwards and backwards). Hint: this will require a Boolean logic operator to evaluate as True."
   ]
  },
  {
   "cell_type": "code",
   "execution_count": null,
   "metadata": {},
   "outputs": [
    {
     "name": "stdout",
     "output_type": "stream",
     "text": [
      "The DNA Sequence ATTCGCCGCTTA is a palindrome\n"
     ]
    }
   ],
   "source": [
    "DNA = 'ATTCGCCGCTTA'\n",
    "\n",
    "# If statement calls on every thing in the string with a step of -1\n",
    "if DNA[::-1] == DNA:\n",
    "    print(f'The DNA Sequence {DNA} is a palindrome') #If the reverse is equal to the DNA then it is a pallindrome\n",
    "else:\n",
    "    print(f'The DNA sequence {DNA} is not a palindrome')"
   ]
  },
  {
   "cell_type": "markdown",
   "metadata": {},
   "source": [
    "### Question 8\n",
    "\n",
    "The following are the **atomic numbers** of `lithium`, `carbon`, and `sodium`. Assign each to a variable and use **Python Boolean logic operators** to evaluate each of the following.\n",
    "\n",
    "`Li = 3` \\\n",
    "`C = 6` \\\n",
    "`Na = 11`\n",
    "\n",
    "a) Is Li greater than C?\n",
    "\n",
    "b) Is Na less than or equal to C?\n",
    "\n",
    "c) Is either Li or Na greater than C?\n",
    "\n",
    "d) Are both C and Na greater than Li?"
   ]
  },
  {
   "cell_type": "code",
   "execution_count": null,
   "metadata": {},
   "outputs": [
    {
     "name": "stdout",
     "output_type": "stream",
     "text": [
      "A is False\n",
      "B is False\n",
      "C is True\n",
      "D is True\n"
     ]
    }
   ],
   "source": [
    "Li, C, Na = 3,6,11\n",
    "\n",
    "if Li > C:\n",
    "    A = True\n",
    "else:\n",
    "    A = False\n",
    "\n",
    "if Na <= C:\n",
    "    B = True\n",
    "else:\n",
    "    B = False\n",
    "\n",
    "if Li or Na > C:\n",
    "    CC = True       #CC used as C is already used as a variable for Carbon\n",
    "else:\n",
    "    CC = False\n",
    "\n",
    "if C > Li and Na > Li:\n",
    "    D = True\n",
    "else:\n",
    "    D = False  \n",
    "\n",
    "print (f'A is {A}\\nB is {B}\\nC is {CC}\\nD is {D}')  #\\n is used for new line\n"
   ]
  },
  {
   "cell_type": "markdown",
   "metadata": {},
   "source": [
    "### Question 10\n",
    "\n",
    "Write a Python script that can take in any of the following **molecular formulas** as a **string** and print out whether the compound is an `acidic`, `basic`, or `neutral` compound when dissolved in water. \n",
    "\n",
    "The script **should not contain pre-sorted lists** of compound but rather determine the class of molecule base on the formula. \n",
    "\n",
    "***Hint:** first look for patterns in the acid and base formulas in the following collection.*\n",
    "\n",
    "| HCl   | NaOH    | KCl   | H2SO4   | Ca(OH)₂  | KOH  |\n",
    "|-------|---------|-------|---------|----------|------|\n",
    "| HNO₃  | Na₂SO₄  | KNO₃  | Mg(OH)₂ | HCO₂H    | NaBr |\n"
   ]
  },
  {
   "cell_type": "code",
   "execution_count": 12,
   "metadata": {},
   "outputs": [
    {
     "name": "stdout",
     "output_type": "stream",
     "text": [
      "The forumla: Ca(OH)2 is an Base\n"
     ]
    }
   ],
   "source": [
    "formula = input('Please enter a molecular formula: ')\n",
    "\n",
    "if formula.startswith('H'):\n",
    "    print (f'The forumla: {formula} is an Acid')\n",
    "\n",
    "elif ('OH') in formula:\n",
    "    print (f'The forumla: {formula} is an Base')\n",
    "\n",
    "else:\n",
    "    print (f'The forumla: {formula} is a Neutral')"
   ]
  },
  {
   "cell_type": "markdown",
   "metadata": {},
   "source": [
    "### Question 11\n",
    "\n",
    "Write a Python script that takes in the number of `electrons` and `protons` and determines if a compound is `cationic`, `anionic`, or `neutral`."
   ]
  },
  {
   "cell_type": "code",
   "execution_count": 14,
   "metadata": {},
   "outputs": [
    {
     "name": "stdout",
     "output_type": "stream",
     "text": [
      "The compound has a charge of -2 and is therefore Anionic\n"
     ]
    }
   ],
   "source": [
    "electrons = int(input('How many Electrons:'))\n",
    "protons = int(input('How many Protons:'))\n",
    "\n",
    "charge = protons - electrons\n",
    "\n",
    "if charge > 0:\n",
    "    compound = ('Cationic')\n",
    "elif charge < 0:\n",
    "    compound = ('Anionic')\n",
    "else:\n",
    "    compound = ('Neutral')\n",
    "\n",
    "print (f'The compound has a charge of {charge} and is therefore {compound}')"
   ]
  },
  {
   "cell_type": "markdown",
   "metadata": {},
   "source": [
    "### Question 12\n",
    "Create a list of *even numbers* from **18 to 88 including 88**. \\\n",
    "Using list methods, perform the following transformations in order on the same list:\n",
    "\n",
    "a) Reverse the list\n",
    "\n",
    "b) Remove the last value (i.e., 18)\n",
    "\n",
    "c) Append 16"
   ]
  },
  {
   "cell_type": "code",
   "execution_count": 38,
   "metadata": {},
   "outputs": [],
   "source": [
    "list = []\n",
    "\n",
    "for x in range(18,89,2):\n",
    "    list.append(x)"
   ]
  },
  {
   "cell_type": "code",
   "execution_count": 41,
   "metadata": {},
   "outputs": [],
   "source": [
    "list.reverse()  #Alternative to Q7 answer 'DNA[::-1]' which also reverses lists\n",
    "list.pop()      #Removes and returns the element from a given index; defaults to last element if none given\n",
    "list.append(16)"
   ]
  },
  {
   "cell_type": "markdown",
   "metadata": {},
   "source": [
    "### Question 13\n",
    "\n",
    "a) Create a `tuple` of even numbers from 18 to 320 including 320.\n",
    "\n",
    "b) Can you **reverse**, **remove**, or **append** values to the `tuple`?"
   ]
  },
  {
   "cell_type": "code",
   "execution_count": null,
   "metadata": {},
   "outputs": [],
   "source": [
    "evens = tuple(range(18, 321, 2))"
   ]
  },
  {
   "cell_type": "code",
   "execution_count": null,
   "metadata": {},
   "outputs": [
    {
     "name": "stdout",
     "output_type": "stream",
     "text": [
      "Original evens: (18, 20, 22, 24, 26, 28, 30, 32, 34, 36, 38, 40, 42, 44, 46, 48, 50, 52, 54, 56, 58, 60, 62, 64, 66, 68, 70, 72, 74, 76, 78, 80, 82, 84, 86, 88, 90, 92, 94, 96, 98, 100, 102, 104, 106, 108, 110, 112, 114, 116, 118, 120, 122, 124, 126, 128, 130, 132, 134, 136, 138, 140, 142, 144, 146, 148, 150, 152, 154, 156, 158, 160, 162, 164, 166, 168, 170, 172, 174, 176, 178, 180, 182, 184, 186, 188, 190, 192, 194, 196, 198, 200, 202, 204, 206, 208, 210, 212, 214, 216, 218, 220, 222, 224, 226, 228, 230, 232, 234, 236, 238, 240, 242, 244, 246, 248, 250, 252, 254, 256, 258, 260, 262, 264, 266, 268, 270, 272, 274, 276, 278, 280, 282, 284, 286, 288, 290, 292, 294, 296, 298, 300, 302, 304, 306, 308, 310, 312, 314, 316, 318, 320)\n",
      "Reversed: (320, 318, 316, 314, 312, 310, 308, 306, 304, 302, 300, 298, 296, 294, 292, 290, 288, 286, 284, 282, 280, 278, 276, 274, 272, 270, 268, 266, 264, 262, 260, 258, 256, 254, 252, 250, 248, 246, 244, 242, 240, 238, 236, 234, 232, 230, 228, 226, 224, 222, 220, 218, 216, 214, 212, 210, 208, 206, 204, 202, 200, 198, 196, 194, 192, 190, 188, 186, 184, 182, 180, 178, 176, 174, 172, 170, 168, 166, 164, 162, 160, 158, 156, 154, 152, 150, 148, 146, 144, 142, 140, 138, 136, 134, 132, 130, 128, 126, 124, 122, 120, 118, 116, 114, 112, 110, 108, 106, 104, 102, 100, 98, 96, 94, 92, 90, 88, 86, 84, 82, 80, 78, 76, 74, 72, 70, 68, 66, 64, 62, 60, 58, 56, 54, 52, 50, 48, 46, 44, 42, 40, 38, 36, 34, 32, 30, 28, 26, 24, 22, 20, 18)\n",
      "Dropped last: (320, 318, 316, 314, 312, 310, 308, 306, 304, 302, 300, 298, 296, 294, 292, 290, 288, 286, 284, 282, 280, 278, 276, 274, 272, 270, 268, 266, 264, 262, 260, 258, 256, 254, 252, 250, 248, 246, 244, 242, 240, 238, 236, 234, 232, 230, 228, 226, 224, 222, 220, 218, 216, 214, 212, 210, 208, 206, 204, 202, 200, 198, 196, 194, 192, 190, 188, 186, 184, 182, 180, 178, 176, 174, 172, 170, 168, 166, 164, 162, 160, 158, 156, 154, 152, 150, 148, 146, 144, 142, 140, 138, 136, 134, 132, 130, 128, 126, 124, 122, 120, 118, 116, 114, 112, 110, 108, 106, 104, 102, 100, 98, 96, 94, 92, 90, 88, 86, 84, 82, 80, 78, 76, 74, 72, 70, 68, 66, 64, 62, 60, 58, 56, 54, 52, 50, 48, 46, 44, 42, 40, 38, 36, 34, 32, 30, 28, 26, 24, 22, 20)\n",
      "Appended 16: (320, 318, 316, 314, 312, 310, 308, 306, 304, 302, 300, 298, 296, 294, 292, 290, 288, 286, 284, 282, 280, 278, 276, 274, 272, 270, 268, 266, 264, 262, 260, 258, 256, 254, 252, 250, 248, 246, 244, 242, 240, 238, 236, 234, 232, 230, 228, 226, 224, 222, 220, 218, 216, 214, 212, 210, 208, 206, 204, 202, 200, 198, 196, 194, 192, 190, 188, 186, 184, 182, 180, 178, 176, 174, 172, 170, 168, 166, 164, 162, 160, 158, 156, 154, 152, 150, 148, 146, 144, 142, 140, 138, 136, 134, 132, 130, 128, 126, 124, 122, 120, 118, 116, 114, 112, 110, 108, 106, 104, 102, 100, 98, 96, 94, 92, 90, 88, 86, 84, 82, 80, 78, 76, 74, 72, 70, 68, 66, 64, 62, 60, 58, 56, 54, 52, 50, 48, 46, 44, 42, 40, 38, 36, 34, 32, 30, 28, 26, 24, 22, 20, 16)\n"
     ]
    }
   ],
   "source": [
    "# Unlike lists tuples are immutable — they can't be changed after creation.\n",
    "# So to do any of the tasks in b) you need to create new tuples \n",
    "\n",
    "# Reverse the tuple via splicing\n",
    "reverse_even = evens[::-1]\n",
    "\n",
    "# Remove the last element (18)\n",
    "without_last = reverse_even[:-1]\n",
    "\n",
    "# Append 16\n",
    "final = without_last + (16,)\n",
    "\n",
    "print(\"Original evens:\", evens)\n",
    "print(\"Reversed:\", rev)\n",
    "print(\"Dropped last:\", without_last)\n",
    "print(\"Appended 16:\", final)\n"
   ]
  },
  {
   "cell_type": "markdown",
   "metadata": {},
   "source": [
    "### Question 14\n",
    "\n",
    "The following code generates a **random list** of integers `from 0 to 20` \\\n",
    "Run the code and test to see if **7** is in the list.\n"
   ]
  },
  {
   "cell_type": "code",
   "execution_count": 16,
   "metadata": {},
   "outputs": [
    {
     "data": {
      "text/plain": [
       "[6, 19, 0, 11, 19, 10, 9, 10, 5, 12]"
      ]
     },
     "execution_count": 16,
     "metadata": {},
     "output_type": "execute_result"
    }
   ],
   "source": [
    "import random\n",
    "nums = [random.randint(0,20) for x in range(10)]\n",
    "nums"
   ]
  },
  {
   "cell_type": "code",
   "execution_count": 17,
   "metadata": {},
   "outputs": [
    {
     "name": "stdout",
     "output_type": "stream",
     "text": [
      "The number 7 is not in this random list\n"
     ]
    }
   ],
   "source": [
    "if 7 in nums:\n",
    "    print ('The number 7 is in this random list') \n",
    "else:\n",
    "    print ('The number 7 is not in this random list')"
   ]
  },
  {
   "cell_type": "markdown",
   "metadata": {},
   "source": [
    "### Question 15\n",
    "\n",
    "Write a sentence **(string)** attached to a **variable**.\n",
    "\n",
    "a) Convert all letters to *lowercase* and split the sentence into individual words using the `split()` string method. This will generate a list of words.\n",
    "\n",
    "b) Modify the list (i.e., the list itself changes) so that the words are in **alphabetical** order."
   ]
  },
  {
   "cell_type": "code",
   "execution_count": 25,
   "metadata": {},
   "outputs": [
    {
     "name": "stdout",
     "output_type": "stream",
     "text": [
      "['an', 'example', 'is', 'sentence.', 'this']\n"
     ]
    }
   ],
   "source": [
    "sentence = ('This is an example sentence.')\n",
    "\n",
    "words = sentence.lower().split()\n",
    "words.sort()\n",
    "\n",
    "print (words)"
   ]
  },
  {
   "cell_type": "markdown",
   "metadata": {},
   "source": [
    "### Question 16\n",
    "\n",
    "Using a `for` loop, iterate over a range object and append **2 x** each value into a list called **double**."
   ]
  },
  {
   "cell_type": "code",
   "execution_count": 27,
   "metadata": {},
   "outputs": [
    {
     "data": {
      "text/plain": [
       "[0, 2, 4, 6, 8, 10, 12, 14, 16, 18]"
      ]
     },
     "execution_count": 27,
     "metadata": {},
     "output_type": "execute_result"
    }
   ],
   "source": [
    "double = []\n",
    "\n",
    "for x in range(0,10):\n",
    "    double.append(x*2)\n",
    "\n",
    "double"
   ]
  },
  {
   "cell_type": "markdown",
   "metadata": {},
   "source": [
    "### Question 17\n",
    "\n",
    "Write a Python script that prints out `PV = nRT` **twenty** times."
   ]
  },
  {
   "cell_type": "code",
   "execution_count": null,
   "metadata": {},
   "outputs": [],
   "source": [
    "for x in range (0,20):\n",
    "    print ('PV = nRT')"
   ]
  },
  {
   "cell_type": "markdown",
   "metadata": {},
   "source": [
    "### Question 18\n",
    "\n",
    "Write a script that generates the following output without typing it yourself. *Be sure to include unit labels with the space.*\n",
    "\n",
    "`1000 g`\n",
    "\n",
    "`500.0 g`\n",
    "\n",
    "`250.0 g`\n",
    "\n",
    "`125.0 g`\n",
    "\n",
    "`62.5 g`\n",
    "\n",
    "`31.25 g`"
   ]
  },
  {
   "cell_type": "code",
   "execution_count": 31,
   "metadata": {},
   "outputs": [
    {
     "name": "stdout",
     "output_type": "stream",
     "text": [
      "1000 g\n",
      "500.0 g\n",
      "250.0 g\n",
      "125.0 g\n",
      "62.5 g\n",
      "31.25 g\n"
     ]
    }
   ],
   "source": [
    "y = 1000\n",
    "\n",
    "for x in range (0,6):\n",
    "    print (f'{y} g')\n",
    "    y = y/2\n"
   ]
  },
  {
   "cell_type": "markdown",
   "metadata": {},
   "source": [
    "### Question 19\n",
    "\n",
    "The isotope $^{137}\\text{Cs}$ has a half-life about *30.2 years*. \\\n",
    "Using a `while` loop, determine how many half-lives until a **500.0 g sample** would have to decay until there is less that **10.00 grams** left. \\\n",
    "To accomplish this, create a counter (counter = 0) and add 1 to it each cycle of a while loop to keep count."
   ]
  },
  {
   "cell_type": "code",
   "execution_count": 32,
   "metadata": {},
   "outputs": [
    {
     "name": "stdout",
     "output_type": "stream",
     "text": [
      "It takes the Cs isotope 6 half lives to be less than 10.0 g with a total of 7.8125 g\n"
     ]
    }
   ],
   "source": [
    "counter = 0\n",
    "Cs = 500.0\n",
    "\n",
    "while Cs > 10.0:\n",
    "    counter = counter + 1\n",
    "    Cs = Cs/2\n",
    "\n",
    "print (f'It takes the Cs isotope {counter} half lives to be less than 10.0 g with a total of {Cs} g')"
   ]
  },
  {
   "cell_type": "markdown",
   "metadata": {},
   "source": [
    "### Question 20\n",
    "\n",
    "Write and test a function, complete with docstring, that solves the **Ideal Gas Law** for `pressure` when provided with `volume`, `temperature`, and `moles` of gas (R = 0.08206 L·atm/mol·K) with the following stipulations.\n",
    "\n",
    "a) Create one version of the function that takes only positional arguments.\n",
    "\n",
    "b) Create a second copy of the function that takes only keyword arguments. Try testing this function with positional arguments. Does it still work?"
   ]
  },
  {
   "cell_type": "code",
   "execution_count": 46,
   "metadata": {},
   "outputs": [
    {
     "name": "stdout",
     "output_type": "stream",
     "text": [
      "1.128325\n"
     ]
    }
   ],
   "source": [
    "# Positional arguments only\n",
    "def IGL(v, t, n):\n",
    "    \"\"\"\n",
    "    Calculate pressure using the Ideal Gas Law: P = (nRT) / V\n",
    "\n",
    "    Parameters:\n",
    "    v -- volume in liters\n",
    "    t -- temperature in Kelvin\n",
    "    n -- moles of gas\n",
    "\n",
    "    Returns:\n",
    "    Pressure in atm\n",
    "    \"\"\"\n",
    "    p = (n * 0.08206 * t) / v\n",
    "    return p\n",
    "\n",
    "# Positional call: values passed in order only\n",
    "pressure = IGL(1, 275, 0.05)  # You could write this as IGL(1, 275, 0.05)\n",
    "print(pressure)\n"
   ]
  },
  {
   "cell_type": "code",
   "execution_count": 47,
   "metadata": {},
   "outputs": [
    {
     "name": "stdout",
     "output_type": "stream",
     "text": [
      "1.128325\n"
     ]
    }
   ],
   "source": [
    "def IGL(*, v, t, n):\n",
    "    \"\"\"\n",
    "    Calculate pressure using the Ideal Gas Law: P = (nRT) / V\n",
    "    Only accepts keyword arguments.\n",
    "    \"\"\"\n",
    "    p = (n * 0.08206 * t) / v\n",
    "    return p\n",
    "\n",
    "# Must use keyword arguments when calling the function\n",
    "pressure = IGL(v=1, t=275, n=0.05)\n",
    "print(pressure)"
   ]
  },
  {
   "cell_type": "markdown",
   "metadata": {},
   "source": [
    "### Question 21\n",
    "\n",
    "Complete a function started below that calculates the rate of a single-step chemical reaction $nA \\rightarrow P^n$ \\\n",
    "using the differential rate law **(Rate = $k[A]^n$).**"
   ]
  },
  {
   "cell_type": "code",
   "execution_count": 48,
   "metadata": {},
   "outputs": [],
   "source": [
    "def rate(A0, k=1.0, n=1):\n",
    "    ''' \n",
    "    (concentration(M), k = 1.0, n = 1) → rate (M/s)\n",
    "    Takes in the concentration of A (M), the rate constant (k), \n",
    "    and the order (n), and returns the rate (M/s)\n",
    "    '''   \n",
    "    r = (A0 ** n) * k\n",
    "    return r\n"
   ]
  },
  {
   "cell_type": "code",
   "execution_count": null,
   "metadata": {},
   "outputs": [
    {
     "name": "stdout",
     "output_type": "stream",
     "text": [
      "0.5\n",
      "0.005\n",
      "0.0025\n"
     ]
    }
   ],
   "source": [
    "print(rate(0.5))                # Uses default k=1.0, n=1 → 0.5\n",
    "print(rate(0.5, k=0.01))        # With custom k → 0.005\n",
    "print(rate(0.5, k=0.01, n=2))   # Quadratic rate law → 0.0025"
   ]
  },
  {
   "cell_type": "markdown",
   "metadata": {},
   "source": [
    "### Question 22\n",
    "\n",
    "DNA is composed of two strands of the nucleotides `adenine (A)`, `thymine (T)`, `guanine (G)`, and `cytosine (C)`. The two strands are lined up with adenine always opposite of thymine and guanine opposite cytosine. For example, if one strand is **ATGGC**, then the opposite strand is **TACCG**. \\\n",
    "\n",
    "Write a function that takes in a DNA strand as a string and prints the opposite DNA strand of nucleotides."
   ]
  },
  {
   "cell_type": "code",
   "execution_count": 7,
   "metadata": {},
   "outputs": [],
   "source": [
    "def Opp_DNA(DNA):\n",
    "    \"\"\"\n",
    "    Given a DNA strand as a string, returns the complementary strand.\n",
    "\n",
    "    In DNA base pairing:\n",
    "    - Adenine (A) pairs with Thymine (T)\n",
    "    - Thymine (T) pairs with Adenine (A)\n",
    "    - Guanine (G) pairs with Cytosine (C)\n",
    "    - Cytosine (C) pairs with Guanine (G)\n",
    "\n",
    "    Parameters:\n",
    "    DNA (str): A string representing the DNA strand (e.g., \"ATGGC\")\n",
    "\n",
    "    Returns:\n",
    "    str: A string representing the complementary DNA strand (e.g., \"TACCG\")\n",
    "    \"\"\"\n",
    "    opposite = []\n",
    "    for nucleotide in DNA:\n",
    "        if nucleotide == 'A':\n",
    "            opposite.append('T')\n",
    "        elif nucleotide == 'T':\n",
    "            opposite.append('A')\n",
    "        elif nucleotide == 'G':\n",
    "            opposite.append('C')\n",
    "        elif nucleotide == 'C':\n",
    "            opposite.append('G') \n",
    "\n",
    "    return opposite\n",
    "    "
   ]
  },
  {
   "cell_type": "code",
   "execution_count": 8,
   "metadata": {},
   "outputs": [
    {
     "data": {
      "text/plain": [
       "['T', 'A', 'C', 'C', 'G']"
      ]
     },
     "execution_count": 8,
     "metadata": {},
     "output_type": "execute_result"
    }
   ],
   "source": [
    "Opp_DNA('ATGGC')"
   ]
  },
  {
   "cell_type": "code",
   "execution_count": null,
   "metadata": {},
   "outputs": [],
   "source": []
  }
 ],
 "metadata": {
  "kernelspec": {
   "display_name": "3.11.8",
   "language": "python",
   "name": "python3"
  },
  "language_info": {
   "codemirror_mode": {
    "name": "ipython",
    "version": 3
   },
   "file_extension": ".py",
   "mimetype": "text/x-python",
   "name": "python",
   "nbconvert_exporter": "python",
   "pygments_lexer": "ipython3",
   "version": "3.11.8"
  }
 },
 "nbformat": 4,
 "nbformat_minor": 2
}
