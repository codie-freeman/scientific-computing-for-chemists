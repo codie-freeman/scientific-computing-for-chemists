{
 "cells": [
  {
   "cell_type": "markdown",
   "metadata": {},
   "source": [
    "# Chapter 2\n",
    "\n",
    "## 2.1 Syntactic Sugar\n",
    "\n",
    "`Syntactic sugar` is a nickname given to any part of a programming language that does not extend the capabilities of the language. \\\n",
    " If any of these features were suddenly removed from the language, the language would still be just as capable, but the advantage of anything labeled `syntactic sugar` is that it makes the code **quicker/shorter** to write or **easier** to read. \n",
    " Below are a few examples from the Python language that you are likely to come across and find useful."
   ]
  },
  {
   "cell_type": "markdown",
   "metadata": {},
   "source": [
    "### 2.1.1 Augmented Assignment\n",
    "\n",
    "| Augmented Assignment | Regular Assignment | Description       |\n",
    "|----------------------|--------------------|-------------------|\n",
    "| x += a               | x = x + a          | Increments the value |\n",
    "| x -= a               | x = x - a          | Decrements the value |\n",
    "| x *= a               | x = x * a          | Multiplies the value |\n",
    "| x /= a               | x = x / a          | Divides the value    |"
   ]
  },
  {
   "cell_type": "code",
   "execution_count": 5,
   "metadata": {},
   "outputs": [
    {
     "data": {
      "text/plain": [
       "6"
      ]
     },
     "execution_count": 5,
     "metadata": {},
     "output_type": "execute_result"
    }
   ],
   "source": [
    "# This is not difficult but requires typing variable name more than once which becomes more difficult to maintain with longer variable names\n",
    "x = 5\n",
    "x = x + 1 \n",
    "x"
   ]
  },
  {
   "cell_type": "code",
   "execution_count": 6,
   "metadata": {},
   "outputs": [
    {
     "data": {
      "text/plain": [
       "7"
      ]
     },
     "execution_count": 6,
     "metadata": {},
     "output_type": "execute_result"
    }
   ],
   "source": [
    "# The augmented assignment for increment can be used instead for the same result\n",
    "x += 1 \n",
    "x"
   ]
  },
  {
   "cell_type": "markdown",
   "metadata": {},
   "source": [
    "### 2.1.2 List Comprehension\n",
    "\n",
    "It's very common to need a list filled with a series of numbers or calculated values.\n",
    "\n",
    "* For most cases (where values aren't just evenly spaced integers):\n",
    "    1.  Start with an empty list.\n",
    "    2.  Use a `for` loop to go through your desired range or items.\n",
    "    3.  Inside the loop, calculate each value.\n",
    "    4.  `append()` that calculated value to your list.\n",
    "\n",
    "**Special Case (Easy Way for Evenly Spaced Integers):**\n",
    "\n",
    "* If you just need evenly spaced integers, the range() function combined with list() is much simpler:"
   ]
  },
  {
   "cell_type": "code",
   "execution_count": 7,
   "metadata": {},
   "outputs": [
    {
     "data": {
      "text/plain": [
       "[0, 1, 4, 9, 16, 25, 36, 49, 64, 81]"
      ]
     },
     "execution_count": 7,
     "metadata": {},
     "output_type": "execute_result"
    }
   ],
   "source": [
    "squares = []\n",
    "for integer in range(10):\n",
    "    sqr = integer**2\n",
    "    squares.append(sqr)\n",
    "\n",
    "squares"
   ]
  },
  {
   "cell_type": "code",
   "execution_count": 8,
   "metadata": {},
   "outputs": [
    {
     "data": {
      "text/plain": [
       "[0, 1, 4, 9, 16, 25, 36, 49, 64, 81]"
      ]
     },
     "execution_count": 8,
     "metadata": {},
     "output_type": "execute_result"
    }
   ],
   "source": [
    "squares = [integer**2 for integer in range(10)]\n",
    "squares"
   ]
  },
  {
   "cell_type": "markdown",
   "metadata": {},
   "source": [
    "### 2.1.3 Compound Assignment\n",
    "\n",
    "A lot of beginner code sets variables on separate lines - this can instead be done by assigning multiple variables in the same assignment."
   ]
  },
  {
   "cell_type": "code",
   "execution_count": 9,
   "metadata": {},
   "outputs": [
    {
     "data": {
      "text/plain": [
       "1.01"
      ]
     },
     "execution_count": 9,
     "metadata": {},
     "output_type": "execute_result"
    }
   ],
   "source": [
    "H, He, Li = 1.01, 4.00, 5.39\n",
    "H\n",
    "# This is known as tuple packing \n",
    "# Variables are automatically turned into tuples by Python behind the scenes\n",
    "# It's equivalent to (H, He, Li) = (1.01, 4.00, 5.39)"
   ]
  },
  {
   "cell_type": "markdown",
   "metadata": {},
   "source": [
    "### 2.1.4 Lambda Functions\n",
    "\n",
    "`lambda` functions are small, unnamed (**anonymous**) functions you can define in a **single line**. They're perfect for simple tasks where you need a function quickly, without formally defining it with `def`.\n",
    "\n",
    "**Core Ideas:**\n",
    "\n",
    "* **Anonymous:** They don't need a name (variable) to be assigned to them, unlike `def` functions. This helps avoid \"cluttering the namespace\" if you only need the function once.\n",
    "* **Single Expression:** A `lambda` can only contain one expression (what comes after the colon `:`) that is automatically returned. No complex logic or multiple lines of code.\n",
    "* **Concise:** They allow you to define simple functions in very few characters, often inline where they are used.\n",
    "\n",
    "**Syntax Explained:**\n",
    "\n",
    "* `lambda` keyword\n",
    "* `x`: The input variable(s) (what goes in the parentheses of a `def` function).\n",
    "* `:`: Separates inputs from the function's logic.\n",
    "* `x**2`: The single expression to be evaluated and returned (what goes in the indented block of a `def` function)."
   ]
  },
  {
   "cell_type": "code",
   "execution_count": 10,
   "metadata": {},
   "outputs": [
    {
     "data": {
      "text/plain": [
       "<function __main__.<lambda>(x)>"
      ]
     },
     "execution_count": 10,
     "metadata": {},
     "output_type": "execute_result"
    }
   ],
   "source": [
    "lambda x: x**2"
   ]
  },
  {
   "cell_type": "code",
   "execution_count": 11,
   "metadata": {},
   "outputs": [
    {
     "data": {
      "text/plain": [
       "81"
      ]
     },
     "execution_count": 11,
     "metadata": {},
     "output_type": "execute_result"
    }
   ],
   "source": [
    "f = lambda x: x**2\n",
    "f(9)"
   ]
  },
  {
   "cell_type": "markdown",
   "metadata": {},
   "source": [
    "**The Key Use: Inline with Other Functions (Anonymous Use):**\n",
    "\n",
    "`lambda` functions truly shine when you need a simple function *temporarily* as an argument to another function. This is common in scientific libraries.\n",
    "\n",
    "* **Scenario:** Many functions (like `quad()` for integration, or sorting functions) need a small piece of custom logic as an input. Instead of defining a whole `def` function for a one-off use, `lambda` provides it concisely.\n",
    "\n",
    "* **Example:** Here we use integration to find the probability of finding a particle in the lowest state between 0 and 0.4 in a box of length 1 by performing the following integration.\n",
    "\n",
    "$$\n",
    "p = 2 \\int_{0}^{0.4} \\sin^2(\\pi x) dx\n",
    "$$"
   ]
  },
  {
   "cell_type": "code",
   "execution_count": 12,
   "metadata": {},
   "outputs": [
    {
     "data": {
      "text/plain": [
       "(0.30645107162113616, 3.402290356348383e-15)"
      ]
     },
     "execution_count": 12,
     "metadata": {},
     "output_type": "execute_result"
    }
   ],
   "source": [
    "from scipy.integrate import quad\n",
    "import math\n",
    "\n",
    "quad(lambda x: 2 * math.sin(math.pi * x)**2, 0, 0.4)"
   ]
  },
  {
   "cell_type": "code",
   "execution_count": 13,
   "metadata": {},
   "outputs": [
    {
     "data": {
      "text/plain": [
       "(0.30645107162113616, 3.402290356348383e-15)"
      ]
     },
     "execution_count": 13,
     "metadata": {},
     "output_type": "execute_result"
    }
   ],
   "source": [
    "def particle_box(x):\n",
    "    return 2 * math.sin(math.pi * x)**2\n",
    "\n",
    "quad(particle_box, 0, 0.4)"
   ]
  },
  {
   "cell_type": "markdown",
   "metadata": {},
   "source": [
    "## 2.2 Dictionaries\n",
    "\n",
    "Dictionaries are a fundamental and incredibly versatile **multi-element Python object type** that stores data as **key-value pairs**.\n",
    "\n",
    "**Think of them like:**\n",
    "* A real-world dictionary (word : definition).\n",
    "* An address book (name : phone number).\n",
    "* An object full of labeled \"variables\" (variable_name : variable_value).\n",
    "\n",
    "They allow you to **access stored values using a `key`** (a unique label) rather than a numerical index (like in lists).\n",
    "\n",
    "---\n",
    "\n",
    "#### Key Characteristics:\n",
    "\n",
    "* **Key-Value Pairs:** Each item in a dictionary consists of a unique `key` linked to a `value`.\n",
    "* **Unordered by Index, Ordered by Insertion (Python 3.7+):** Historically, dictionaries were unordered. In modern Python (3.7+), they *preserve the order* in which items were added. However, you *still access items by their key*, not by a numerical position.\n",
    "* **Keys Must Be Unique & Immutable:**\n",
    "    * Each key in a dictionary must be distinct. If you add a key that already exists, its value will be updated.\n",
    "    * Keys must be **immutable** data types (e.g., strings, numbers, tuples). Lists, for example, cannot be keys because they are mutable.\n",
    "* **Values Can Be Anything:** Values can be any Python object type: numbers, strings, lists, other dictionaries, functions, etc.\n",
    "* **Mutable:** Dictionaries themselves are mutable, meaning you can add, remove, or change key-value pairs after creation."
   ]
  },
  {
   "cell_type": "code",
   "execution_count": 14,
   "metadata": {},
   "outputs": [
    {
     "data": {
      "text/plain": [
       "6.94"
      ]
     },
     "execution_count": 14,
     "metadata": {},
     "output_type": "execute_result"
    }
   ],
   "source": [
    "AM = {'H':1.01, 'He':4.00, 'Li':6.94, 'Be':9.01,\n",
    "      'B':10.81, 'C':12.01, 'N':14.01, 'O':16.00,\n",
    "      'F':19.00, 'Ne':20.18}\n",
    "\n",
    "AM['Li']"
   ]
  },
  {
   "cell_type": "markdown",
   "metadata": {},
   "source": [
    "| Method Name | Description                                    | What it Returns (Example)                       |\n",
    "| :---------- | :--------------------------------------------- | :---------------------------------------------- |\n",
    "| `.keys()`   | Returns a view of all the **keys** in the dictionary. | `dict_keys(['H', 'He', 'Li'])`                  |\n",
    "| `.values()` | Returns a view of all the **values** in the dictionary. | `dict_values([1.01, 4.00, 6.94])`               |\n",
    "| `.items()`  | Returns a view of all **key-value pairs** as tuples. | `dict_items([('H', 1.01), ('He', 4.00), ('Li', 6.94)])` |"
   ]
  },
  {
   "cell_type": "code",
   "execution_count": 15,
   "metadata": {},
   "outputs": [
    {
     "data": {
      "text/plain": [
       "dict_keys(['H', 'He', 'Li', 'Be', 'B', 'C', 'N', 'O', 'F', 'Ne'])"
      ]
     },
     "execution_count": 15,
     "metadata": {},
     "output_type": "execute_result"
    }
   ],
   "source": [
    "AM.keys()"
   ]
  },
  {
   "cell_type": "code",
   "execution_count": 16,
   "metadata": {},
   "outputs": [
    {
     "name": "stdout",
     "output_type": "stream",
     "text": [
      "1.01\n",
      "4.0\n",
      "6.94\n",
      "9.01\n",
      "10.81\n",
      "12.01\n",
      "14.01\n",
      "16.0\n",
      "19.0\n",
      "20.18\n"
     ]
    }
   ],
   "source": [
    "for key, values in AM.items():\n",
    "    print(values)"
   ]
  },
  {
   "cell_type": "code",
   "execution_count": 17,
   "metadata": {},
   "outputs": [
    {
     "data": {
      "text/plain": [
       "{'H': 1.01,\n",
       " 'He': 4.0,\n",
       " 'Li': 6.94,\n",
       " 'Be': 9.01,\n",
       " 'B': 10.81,\n",
       " 'C': 12.01,\n",
       " 'N': 14.01,\n",
       " 'O': 16.0,\n",
       " 'F': 19.0,\n",
       " 'Ne': 20.18,\n",
       " 'Na': 22.99}"
      ]
     },
     "execution_count": 17,
     "metadata": {},
     "output_type": "execute_result"
    }
   ],
   "source": [
    "# Additional key:value pairs can be added to an already existing dictionary by calling the key and assigning it to a value \n",
    "AM['Na'] = 22.99\n",
    "AM"
   ]
  },
  {
   "cell_type": "code",
   "execution_count": 18,
   "metadata": {},
   "outputs": [
    {
     "data": {
      "text/plain": [
       "{'H': 1, 'He': 2, 'Li': 3}"
      ]
     },
     "execution_count": 18,
     "metadata": {},
     "output_type": "execute_result"
    }
   ],
   "source": [
    "# Another method for generating a dictionary is the dict() function which takes in pair for\n",
    "# nested lists or tuples and generates key:value pairs as follows.\n",
    "\n",
    "dict([('H',1), ('He',2), ('Li',3)])"
   ]
  },
  {
   "cell_type": "code",
   "execution_count": 19,
   "metadata": {},
   "outputs": [
    {
     "data": {
      "text/plain": [
       "{'A': 4, 'T': 11, 'C': 10, 'G': 15}"
      ]
     },
     "execution_count": 19,
     "metadata": {},
     "output_type": "execute_result"
    }
   ],
   "source": [
    "# Not only can dictionaries be used to store data for calculations, such as atomic masses, they can also be used to store \n",
    "# changing data as we perform calculations or operations.\n",
    "\n",
    "DNA = 'GGGCTCCATTGTCTGCCCGGGCCGGGTGTAGTCTAAGGTT'\n",
    "\n",
    "dna_bases = {'A':0, 'T':0, 'C':0, 'G':0}\n",
    "for base in DNA:\n",
    "    dna_bases[base] += 1\n",
    "\n",
    "dna_bases"
   ]
  },
  {
   "cell_type": "markdown",
   "metadata": {},
   "source": [
    "## 2.3 Set\n",
    "\n",
    "Sets are another multi-element Python object, similar to lists, but with a crucial distinguishing feature:\n",
    "\n",
    "* **Uniqueness:** Every element within a set **must be unique**. Duplicate items are automatically removed.\n",
    "* **Unordered:** Like older dictionaries, sets do not store items in any particular order. You cannot access elements by index.\n",
    "\n",
    "---\n",
    "\n",
    "**Think of a Set as:**\n",
    "A collection of distinct items, where you only care *what* is present, not *how many* of each or *in what order* they were added.\n",
    "\n",
    "**Syntax:**\n",
    "Sets are defined using **curly braces `{}`**, but unlike dictionaries, they contain only values (no key-value pairs)."
   ]
  },
  {
   "cell_type": "code",
   "execution_count": 20,
   "metadata": {},
   "outputs": [],
   "source": [
    "compounds = {'ethanol', 'sodium chloride', 'water',\n",
    "             'toluene', 'acetone'}"
   ]
  },
  {
   "cell_type": "code",
   "execution_count": 21,
   "metadata": {},
   "outputs": [
    {
     "data": {
      "text/plain": [
       "{'acetone',\n",
       " 'calcium chloride',\n",
       " 'ethanol',\n",
       " 'sodium chloride',\n",
       " 'toluene',\n",
       " 'water'}"
      ]
     },
     "execution_count": 21,
     "metadata": {},
     "output_type": "execute_result"
    }
   ],
   "source": [
    "# We can add additional items to the set using the add() set method\n",
    "compounds.add('calcium chloride')\n",
    "compounds"
   ]
  },
  {
   "cell_type": "code",
   "execution_count": 22,
   "metadata": {},
   "outputs": [
    {
     "data": {
      "text/plain": [
       "{'acetone',\n",
       " 'calcium chloride',\n",
       " 'ethanol',\n",
       " 'sodium chloride',\n",
       " 'toluene',\n",
       " 'water'}"
      ]
     },
     "execution_count": 22,
     "metadata": {},
     "output_type": "execute_result"
    }
   ],
   "source": [
    "# Notice that when ethanol is added to the set, nothing changes. This is because ethanol is already in the set, and sets do not \n",
    "# store redundant copies of elements.\n",
    "compounds.add('ethanol')\n",
    "compounds"
   ]
  },
  {
   "cell_type": "markdown",
   "metadata": {},
   "source": [
    "### Set Operations: Combining and Comparing Unique Collections\n",
    "\n",
    "Sets are powerful for performing mathematical set operations, useful for analyzing unique collections of items.\n",
    "\n",
    "| Operator | Name         | Description                                                               |\n",
    "| :------- | :----------- | :------------------------------------------------------------------------ |\n",
    "| `\\|`     | **Union** | Combines **all unique elements** from both sets. (A OR B)               |\n",
    "| `-`      | **Difference** | Returns elements in the **first set** that are **not** in the second set. (A MINUS B) |\n",
    "| `&`      | **Intersection** | Returns elements present in **both** sets. (A AND B)                    |\n",
    "| `^`      | **Symmetric Difference** | Returns elements unique to *either* set, but not in both. (Exclusive OR) |"
   ]
  },
  {
   "cell_type": "code",
   "execution_count": 23,
   "metadata": {},
   "outputs": [
    {
     "data": {
      "text/plain": [
       "{'1s', '2p', '2s', '3p', '3s', '4s'}"
      ]
     },
     "execution_count": 23,
     "metadata": {},
     "output_type": "execute_result"
    }
   ],
   "source": [
    "N = {'1s','2s','2p'}\n",
    "Ca = {'1s','2s','2p', '3s', '3p', '4s'}\n",
    "\n",
    "N | Ca # returns orbitals in either set"
   ]
  },
  {
   "cell_type": "code",
   "execution_count": 24,
   "metadata": {},
   "outputs": [
    {
     "data": {
      "text/plain": [
       "{'3p', '3s', '4s'}"
      ]
     },
     "execution_count": 24,
     "metadata": {},
     "output_type": "execute_result"
    }
   ],
   "source": [
    "Ca - N  # returns Ca orbitals minus those in common"
   ]
  },
  {
   "cell_type": "code",
   "execution_count": 25,
   "metadata": {},
   "outputs": [
    {
     "data": {
      "text/plain": [
       "{'1s', '2p', '2s'}"
      ]
     },
     "execution_count": 25,
     "metadata": {},
     "output_type": "execute_result"
    }
   ],
   "source": [
    "N & Ca  # returns orbitals in both sets"
   ]
  },
  {
   "cell_type": "code",
   "execution_count": 26,
   "metadata": {},
   "outputs": [
    {
     "data": {
      "text/plain": [
       "{'3p', '3s', '4s'}"
      ]
     },
     "execution_count": 26,
     "metadata": {},
     "output_type": "execute_result"
    }
   ],
   "source": [
    "N ^ Ca"
   ]
  },
  {
   "cell_type": "markdown",
   "metadata": {},
   "source": [
    "## 2.4 Python Modules\n",
    "\n",
    "A **module** in Python is a file that contains a collection of functions, variables, and classes that share a common theme or purpose. Modules allow you to organize code into reusable components and keep your programs clean and manageable.\n",
    "\n",
    "Python includes many **built-in (native) modules** that come with every Python installation. These modules provide a wide range of functionality, from working with files to generating random numbers, handling dates, and more.\n",
    "\n",
    "Below is a list of some commonly used Python modules, along with a brief description of what each one does.\n",
    "\n",
    "| Name       | Description                                       |\n",
    "|------------|---------------------------------------------------|\n",
    "| `os`         | Provides access to your computer file system      |\n",
    "| `itertools`  | Iterator and combinatorics tools                  |\n",
    "| `random`     | Functions for pseudorandom number generation      |\n",
    "| `datetime`   | Handling of date and time information (see 2.9)   |\n",
    "| `csv`        | For writing and reading CSV files                 |\n",
    "| `pickle`     | Preserves Python objects on the file system       |\n",
    "| `timeit`     | Times the execution of code                       |\n",
    "| `audioop`    | Tools for reading and working with audio files    |\n",
    "| `statistics` | Statistics functions                              |\n",
    "\n",
    "* You can find a full index of Python's built-in modules here: [Python Module Index](https://docs.python.org/3/py-modindex.html)"
   ]
  },
  {
   "cell_type": "markdown",
   "metadata": {},
   "source": [
    "### 2.4.1 `os` Module\n",
    "\n",
    "The `os` (operating system) module provides a way to use operating system-dependent functionality, primarily for working with files and directories (folders) on your computer.\n",
    "\n",
    "Up until now, you've likely worked with files in the same location as your Jupyter notebook. The `os` module becomes essential when you need to:\n",
    "* Access files located **elsewhere** on your computer.\n",
    "* Work with **multiple files** within a specific folder (e.g., analyzing all experimental data files from a batch).\n",
    "\n",
    "---\n",
    "\n",
    "#### Key `os` Module Functions:\n",
    "\n",
    "| Function      | Description                                                    |\n",
    "| :------------ | :------------------------------------------------------------- |\n",
    "| `os.getcwd()` | Get Current Working Directory. Returns the path of the directory Python is currently operating from. |\n",
    "| `os.chdir()`  | Change Directory. Changes the current working directory to a specified path. |\n",
    "| `os.listdir()`| Returns a list of all files and subdirectories within a given path (or the current directory if no path is specified). |"
   ]
  },
  {
   "cell_type": "markdown",
   "metadata": {},
   "source": [
    "#### `os.getcwd()`: Where Am I Right Now?\n",
    "\n",
    "* **Purpose:** This tells you the exact full path of the directory (folder) where your current Python script or Jupyter notebook is running from. It's your script's \"current location.\""
   ]
  },
  {
   "cell_type": "code",
   "execution_count": 27,
   "metadata": {},
   "outputs": [
    {
     "data": {
      "text/plain": [
       "'/Users/codiefreeman/Documents/scientific-computing-for-chemists/Basic Scientific Computing Skills/Chapter 02'"
      ]
     },
     "execution_count": 27,
     "metadata": {},
     "output_type": "execute_result"
    }
   ],
   "source": [
    "import os\n",
    "os.getcwd()"
   ]
  },
  {
   "cell_type": "markdown",
   "metadata": {},
   "source": [
    "\n",
    "#### `os.chdir()`: Go To This Folder\n",
    "\n",
    "* **Purpose:** This command changes your Python script's \"current location\" (its CWD) to a different folder. This is useful if you want to access files that are not in your current folder without typing their entire path every time.\n",
    "* **Think:** It's like using the `cd` (change directory) command in your terminal.\n",
    "* **Key Concept: Relative Paths:** This is crucial and often where confusion lies. A relative path describes a folder's location *relative to your current location*.\n",
    "\n",
    " * **Moving Up (`..`):** `..` means \"go up one level (to the parent folder).\"\n"
   ]
  },
  {
   "cell_type": "code",
   "execution_count": 28,
   "metadata": {},
   "outputs": [
    {
     "name": "stdout",
     "output_type": "stream",
     "text": [
      "Moved up one level to: /Users/codiefreeman/Documents/scientific-computing-for-chemists/Basic Scientific Computing Skills\n",
      "Moved up another level to: /Users/codiefreeman/Documents/scientific-computing-for-chemists\n"
     ]
    }
   ],
   "source": [
    "# Assuming you start in 'Chapter 02'\n",
    "os.chdir('..') # Go up one level\n",
    "print(f\"Moved up one level to: {os.getcwd()}\")\n",
    "# Expected Output: .../Basic Scientific Computing Skills/\n",
    "\n",
    "os.chdir('..') # Go up another level\n",
    "print(f\"Moved up another level to: {os.getcwd()}\")\n",
    "# Expected Output: .../scientific-computing-for-chemists/"
   ]
  },
  {
   "cell_type": "code",
   "execution_count": 29,
   "metadata": {},
   "outputs": [
    {
     "ename": "FileNotFoundError",
     "evalue": "[Errno 2] No such file or directory: '../Chapter 01'",
     "output_type": "error",
     "traceback": [
      "\u001b[31m---------------------------------------------------------------------------\u001b[39m",
      "\u001b[31mFileNotFoundError\u001b[39m                         Traceback (most recent call last)",
      "\u001b[36mCell\u001b[39m\u001b[36m \u001b[39m\u001b[32mIn[29]\u001b[39m\u001b[32m, line 2\u001b[39m\n\u001b[32m      1\u001b[39m \u001b[38;5;66;03m# Assuming you are in 'Chapter 02'\u001b[39;00m\n\u001b[32m----> \u001b[39m\u001b[32m2\u001b[39m \u001b[43mos\u001b[49m\u001b[43m.\u001b[49m\u001b[43mchdir\u001b[49m\u001b[43m(\u001b[49m\u001b[33;43m'\u001b[39;49m\u001b[33;43m../Chapter 01\u001b[39;49m\u001b[33;43m'\u001b[39;49m\u001b[43m)\u001b[49m \u001b[38;5;66;03m# Go up one level, then down into 'Chapter 01'\u001b[39;00m\n\u001b[32m      3\u001b[39m \u001b[38;5;28mprint\u001b[39m(\u001b[33mf\u001b[39m\u001b[33m\"\u001b[39m\u001b[33mMoved to Chapter 01: \u001b[39m\u001b[38;5;132;01m{\u001b[39;00mos.getcwd()\u001b[38;5;132;01m}\u001b[39;00m\u001b[33m\"\u001b[39m)\n\u001b[32m      4\u001b[39m \u001b[38;5;66;03m# Expected Output: .../Basic Scientific Computing Skills/Chapter 01\u001b[39;00m\n",
      "\u001b[31mFileNotFoundError\u001b[39m: [Errno 2] No such file or directory: '../Chapter 01'"
     ]
    }
   ],
   "source": [
    "# Assuming you are in 'Chapter 02'\n",
    "os.chdir('../Chapter 01') # Go up one level, then down into 'Chapter 01'\n",
    "print(f\"Moved to Chapter 01: {os.getcwd()}\")\n",
    "# Expected Output: .../Basic Scientific Computing Skills/Chapter 01"
   ]
  },
  {
   "cell_type": "code",
   "execution_count": null,
   "metadata": {},
   "outputs": [
    {
     "name": "stdout",
     "output_type": "stream",
     "text": [
      "Changed to absolute path: /Users/codiefreeman/Documents/scientific-computing-for-chemists/Basic Scientific Computing Skills/Chapter 02\n"
     ]
    }
   ],
   "source": [
    "# Always works, no matter your current CWD\n",
    "os.chdir('/Users/codiefreeman/Documents/scientific-computing-for-chemists/Basic Scientific Computing Skills/Chapter 02')\n",
    "print(f\"Changed to absolute path: {os.getcwd()}\")"
   ]
  },
  {
   "cell_type": "markdown",
   "metadata": {},
   "source": [
    "#### `os.listdir()`: What's in This Folder?\n",
    "\n",
    "* **Purpose:** Lists the names of all files and subfolders within a given directory. If you don't provide a path, it lists the contents of your current CWD.\n",
    "* **Think:** Like typing `ls` (macOS/Linux) or `dir` (Windows) in your terminal."
   ]
  },
  {
   "cell_type": "code",
   "execution_count": null,
   "metadata": {},
   "outputs": [
    {
     "name": "stdout",
     "output_type": "stream",
     "text": [
      "Contents of /Users/codiefreeman/Documents/scientific-computing-for-chemists/Basic Scientific Computing Skills/Chapter 02:\n",
      "['Chapter_2.ipynb']\n"
     ]
    }
   ],
   "source": [
    "# Make sure your CWD is '/Users/codiefreeman/Documents/scientific-computing-for-chemists/Basic Scientific Computing Skills/Chapter 02'\n",
    "# (You can use os.chdir() to get there if you're not)\n",
    "\n",
    "contents_of_ch02 = os.listdir()\n",
    "print(f\"Contents of {os.getcwd()}:\\n{contents_of_ch02}\")\n",
    "# Expected Output (will show files like chapter_2_intro.ipynb, etc.):\n",
    "# ['chapter_2_intro.ipynb', 'chapter_2_exercises.ipynb']"
   ]
  },
  {
   "cell_type": "code",
   "execution_count": null,
   "metadata": {},
   "outputs": [
    {
     "name": "stdout",
     "output_type": "stream",
     "text": [
      "Contents of Chapter 01:\n",
      "['chapter_1.ipynb', 'chapter_1_exercises.ipynb', 'data']\n"
     ]
    }
   ],
   "source": [
    "# Assuming your CWD is 'Chapter 02'\n",
    "contents_of_ch01 = os.listdir('../Chapter 01')\n",
    "print(f\"Contents of Chapter 01:\\n{contents_of_ch01}\")\n",
    "# Expected Output: ['chapter_1_exercises.ipynb', 'chapter_1_notes.ipynb', 'data]"
   ]
  },
  {
   "cell_type": "code",
   "execution_count": null,
   "metadata": {},
   "outputs": [
    {
     "name": "stdout",
     "output_type": "stream",
     "text": [
      "Contents of 'data' (inside Chapter 01):\n",
      "['docstring.png', '.DS_Store', 'water_density.csv', 'new_file.jpg', 'header_file.csv', 'new_file.csv', 'squares.csv', 'water_density.png']\n"
     ]
    }
   ],
   "source": [
    "# Ensures your CWD is 'Chapter 01'\n",
    "os.chdir('/Users/codiefreeman/Documents/scientific-computing-for-chemists/Basic Scientific Computing Skills/Chapter 01')\n",
    "\n",
    "contents_of_data = os.listdir('data')\n",
    "print(f\"Contents of 'data' (inside Chapter 01):\\n{contents_of_data}\")"
   ]
  },
  {
   "cell_type": "markdown",
   "metadata": {},
   "source": [
    "The permutations() function is very similar to combinations(), except with permutations(), order matters. Therefore, (2, 1) and (1, 2) are inequivalent. This is especially important in probability and statistics. Permutations of a group of items can be generated just like in the combinations example above."
   ]
  },
  {
   "cell_type": "markdown",
   "metadata": {},
   "source": [
    "### 2.4.2 `itertools` Module\n",
    "\n",
    "The `itertools` module provides a collection of tools for looping over data in an efficient manner. It's especially powerful for generating sequences, often without storing them all in memory at once (they are \"generators\").\n",
    "\n",
    "While it has many functions, we'll focus on the combinatorics functions, which are critical for scenarios involving selections and arrangements of items.\n",
    "\n",
    "---\n",
    "\n",
    "#### Key Combinatorics Functions:\n",
    "\n",
    "* **`itertools.combinations(iterable, n)`**\n",
    "    * Generates all **`n`-sized combinations** of elements from an `iterable` (like lists, tuples, or `range` objects).\n",
    "    * **Order does NOT matter:** `(1, 2)` is considered the same as `(2, 1)`.\n",
    "    * **No Repeats:** Elements within an `n`-sized combination are unique (they are selected without replacement).\n",
    "\n",
    "* **`itertools.permutations(iterable, n)`**\n",
    "    * Generates all **`n`-sized ordered permutations** of elements from an `iterable`.\n",
    "    * **Order DOES matter:** `(2, 1)` is **NOT** the same as `(1, 2)`.\n",
    "    * **No Repeats:** Elements within an `n`-sized permutation are unique (selected without replacement).\n",
    "    * **Relevance:** Important in probability and statistics where the sequence of events or items matters.\n",
    "\n",
    "* **`itertools.product(iterable, repeat=r)`**\n",
    "    * Generates the **Cartesian product** of an `iterable` repeated `r` times.\n",
    "    * **Order DOES matter:** `(0, 1)` is different from `(1, 0)`.\n",
    "    * **Repeats ARE allowed:** Elements can be selected multiple times (with replacement).\n",
    "    * **Relevance:** Crucial for generating things like passwords, PINs, or any code where items can repeat at different positions (e.g., all 4-digit phone codes)."
   ]
  },
  {
   "cell_type": "code",
   "execution_count": null,
   "metadata": {},
   "outputs": [
    {
     "data": {
      "text/plain": [
       "<itertools.combinations at 0x113de4770>"
      ]
     },
     "execution_count": 42,
     "metadata": {},
     "output_type": "execute_result"
    }
   ],
   "source": [
    "# Instead of returning a list, it returned a combinations object. You do not need to know much about these except that they can be converted into\n",
    "# lists or iterated over to extract their elements, and they are single use. Once iterated over they need to be generated again if you need them.\n",
    "\n",
    "import itertools\n",
    "\n",
    "numbers = range(5)\n",
    "itertools.combinations(numbers, 2)"
   ]
  },
  {
   "cell_type": "code",
   "execution_count": null,
   "metadata": {},
   "outputs": [
    {
     "name": "stdout",
     "output_type": "stream",
     "text": [
      "(0, 1)\n",
      "(0, 2)\n",
      "(0, 3)\n",
      "(0, 4)\n",
      "(1, 2)\n",
      "(1, 3)\n",
      "(1, 4)\n",
      "(2, 3)\n",
      "(2, 4)\n",
      "(3, 4)\n"
     ]
    }
   ],
   "source": [
    "# Each combination is returned in a tuple, and if the combination object is converted to a list, it would be a list of tuples.\n",
    "\n",
    "for pair in itertools.combinations(numbers, 2):\n",
    "    print(pair)"
   ]
  },
  {
   "cell_type": "code",
   "execution_count": null,
   "metadata": {},
   "outputs": [
    {
     "name": "stdout",
     "output_type": "stream",
     "text": [
      "(0, 1)\n",
      "(0, 2)\n",
      "(0, 3)\n",
      "(0, 4)\n",
      "(1, 0)\n",
      "(1, 2)\n",
      "(1, 3)\n",
      "(1, 4)\n",
      "(2, 0)\n",
      "(2, 1)\n",
      "(2, 3)\n",
      "(2, 4)\n",
      "(3, 0)\n",
      "(3, 1)\n",
      "(3, 2)\n",
      "(3, 4)\n",
      "(4, 0)\n",
      "(4, 1)\n",
      "(4, 2)\n",
      "(4, 3)\n"
     ]
    }
   ],
   "source": [
    "for pair in itertools.permutations(numbers, 2):\n",
    "    print(pair)"
   ]
  },
  {
   "cell_type": "markdown",
   "metadata": {},
   "source": [
    "### 2.4.3 `random` Module\n",
    "\n",
    "The `random` module provides tools for generating pseudorandom numbers and for performing random selections/shuffling. It's essential for simulations, statistical sampling, and creating variable conditions.\n",
    "\n",
    "**Note on Ranges:**\n",
    "* `[x, y)`: Means \"inclusive of x, exclusive of y\" (includes x, but does NOT include y).\n",
    "\n",
    "---\n",
    "\n",
    "**Key Functions:**\n",
    "\n",
    "| Function                 | Description                                                        |\n",
    "| :----------------------- | :----------------------------------------------------------------- |\n",
    "| `random.random()`        | Generates a random **float** between 0.0 (inclusive) and 1.0 (exclusive). |\n",
    "| `random.uniform(x, y)`   | Generates a random **float** within the range `[x, y)`.          |\n",
    "| `random.randrange(x, y)` | Generates a random **integer** within the range `[x, y)`.          |\n",
    "| `random.shuffle(list)`   | **Shuffles** the items of a list **in-place** (modifies the original list). |\n",
    "\n",
    "---\n",
    "\n",
    "**Important Limitation:**\n",
    "* Functions in the `random` module typically generate **one value at a time**.\n",
    "* For generating large numbers of random values efficiently (e.g., for data arrays in simulations), you will typically use **NumPy's random functions** (covered in Chapter 4).\n",
    "\n",
    "**Practical Use for Chemists:**\n",
    "* Simulating molecular motion (e.g., Monte Carlo simulations).\n",
    "* Randomly selecting samples for analysis.\n",
    "* Generating random errors in simulated data to test robustness of analysis."
   ]
  },
  {
   "cell_type": "code",
   "execution_count": null,
   "metadata": {},
   "outputs": [
    {
     "data": {
      "text/plain": [
       "0.03531528505634418"
      ]
     },
     "execution_count": 45,
     "metadata": {},
     "output_type": "execute_result"
    }
   ],
   "source": [
    "import random\n",
    "random.random()"
   ]
  },
  {
   "cell_type": "code",
   "execution_count": null,
   "metadata": {},
   "outputs": [
    {
     "data": {
      "text/plain": [
       "1"
      ]
     },
     "execution_count": 46,
     "metadata": {},
     "output_type": "execute_result"
    }
   ],
   "source": [
    "random.randrange(0, 10)"
   ]
  },
  {
   "cell_type": "code",
   "execution_count": null,
   "metadata": {},
   "outputs": [
    {
     "data": {
      "text/plain": [
       "[5, 2, 4, 3, 6, 1]"
      ]
     },
     "execution_count": 47,
     "metadata": {},
     "output_type": "execute_result"
    }
   ],
   "source": [
    "a = [1,2,3,4,5,6]\n",
    "random.shuffle(a)\n",
    "a"
   ]
  },
  {
   "cell_type": "markdown",
   "metadata": {},
   "source": [
    "## 2.5 Zipping and Enumeration\n",
    "\n",
    "There are times where it is necessary to iterate over two lists simultaneously.\n",
    "\n",
    "**Example:** Say we have two lists of **Atomic Numbers** and relative **Atomic Masses** of the first six elements.\n",
    "\n",
    "> `AN` = [1, 2, 3, 4, 5, 6] \\\n",
    "> `mass` = [1, 4, 7, 9, 11, 12]\n",
    "\n",
    "If we want to calculate the number of neutrons in each isotope we need to subtract atomic number from the atomic mass, it is helpful to iterate over both lists simultaneously \n",
    "\n",
    "---\n",
    "\n",
    "### 2.5.1 Zipping\n",
    "\n",
    "The *simplest* way to iterate over two lists simultaneously is to combine both into a single, iterable object and iterate over it once. \\\n",
    "The `zip()` function does this by merge two lists or tuples into a nested list of lists.\n",
    " * Instead of returning a list or tuple, the `zip()` function returns a **single-use** zip object.\n",
    "  \n",
    " * If the two lists are of different length, `zip()` stops at the end of the shorter list and returns a zip object with a length of the shorter list. "
   ]
  },
  {
   "cell_type": "code",
   "execution_count": 31,
   "metadata": {},
   "outputs": [],
   "source": [
    "AN = [1, 2, 3, 4, 5, 6]\n",
    "mass = [1, 4, 7, 9, 11, 12]"
   ]
  },
  {
   "cell_type": "code",
   "execution_count": 32,
   "metadata": {},
   "outputs": [],
   "source": [
    "zipped = zip(AN, mass)"
   ]
  },
  {
   "cell_type": "code",
   "execution_count": 33,
   "metadata": {},
   "outputs": [
    {
     "data": {
      "text/plain": [
       "<zip at 0x111b17780>"
      ]
     },
     "execution_count": 33,
     "metadata": {},
     "output_type": "execute_result"
    }
   ],
   "source": [
    "zipped"
   ]
  },
  {
   "cell_type": "code",
   "execution_count": 34,
   "metadata": {},
   "outputs": [
    {
     "name": "stdout",
     "output_type": "stream",
     "text": [
      "0\n",
      "2\n",
      "4\n",
      "5\n",
      "6\n",
      "6\n"
     ]
    }
   ],
   "source": [
    "for pair in zipped:\n",
    "    print(pair[1] - pair[0])"
   ]
  },
  {
   "cell_type": "code",
   "execution_count": 36,
   "metadata": {},
   "outputs": [],
   "source": [
    "# **Single Use** so if called upon again nothing happens\n",
    "\n",
    "for pair in zipped:\n",
    "    print(pair[1] - pair[0])"
   ]
  },
  {
   "cell_type": "markdown",
   "metadata": {},
   "source": [
    "### 2.5.2 Enumeration\n",
    "\n",
    "The `enumerate()` function instead of zipping two lists or tuples together, it zips a list or tuple to the index values for that list. \n",
    "* *Similar to `zip()`, it returns a **one-time** use iterable object.*"
   ]
  },
  {
   "cell_type": "code",
   "execution_count": 37,
   "metadata": {},
   "outputs": [
    {
     "name": "stdout",
     "output_type": "stream",
     "text": [
      "(0, 1)\n",
      "(1, 4)\n",
      "(2, 7)\n",
      "(3, 9)\n",
      "(4, 11)\n",
      "(5, 12)\n"
     ]
    }
   ],
   "source": [
    "enum = enumerate(mass)\n",
    "\n",
    "for pair in enum:\n",
    "    print(pair)"
   ]
  },
  {
   "cell_type": "markdown",
   "metadata": {},
   "source": [
    "The `zip()` function can be made to *do the same thing* by zipping a list with a range object of the same length as shown below, but `enumerate()`\\ may be slightly more convenient."
   ]
  },
  {
   "cell_type": "code",
   "execution_count": 38,
   "metadata": {},
   "outputs": [
    {
     "name": "stdout",
     "output_type": "stream",
     "text": [
      "(0, 1)\n",
      "(1, 4)\n",
      "(2, 7)\n",
      "(3, 9)\n",
      "(4, 11)\n",
      "(5, 12)\n"
     ]
    }
   ],
   "source": [
    "zipped = zip(range(len(mass)), mass)\n",
    "for item in zipped:\n",
    "    print(item)"
   ]
  },
  {
   "cell_type": "markdown",
   "metadata": {},
   "source": [
    "## 2.6 Encoding Numbers\n",
    "\n",
    "While Python usually handles number storage automatically, understanding encoding is crucial for:\n",
    "* **Memory Efficiency** (especially with large datasets/images).\n",
    "* **Numerical Precision** in scientific calculations.\n",
    "* **Interpreting External Data** (e.g., image files, instrument data).\n",
    "\n",
    "---\n",
    "\n",
    "#### Core Concepts: Binary & Bits\n",
    "\n",
    "* Computers store all data as **binary** (base-two: 0s and 1s).\n",
    "* Each 0 or 1 is a **bit**.\n",
    "* Numbers are stored in **fixed-size blocks of bits** (e.g., 8, 16, 32, 64 bits). More bits = larger range or higher precision.\n",
    "\n",
    "---\n",
    "\n",
    "#### Integer Storage: `uint` vs. `int`\n",
    "\n",
    "* **Unsigned Integers (`uint`):**\n",
    "    * Only store positive whole numbers (0 and up).\n",
    "    * All bits represent the number's magnitude.\n",
    "    * *Example:* `uint8` (8 bits) stores 0 to 255.\n",
    "* **Signed Integers (`int`):**\n",
    "    * Store both positive and negative whole numbers.\n",
    "    * One bit is used for the sign (0 for positive, 1 for negative).\n",
    "    * *Trade-off:* Has about half the positive range of an `uint` of the same bit length.\n",
    "    * *Example:* `int8` (8 bits) stores -128 to 127.\n",
    "\n",
    "---\n",
    "\n",
    "#### Floating-Point Numbers (`float`): For Decimals\n",
    "\n",
    "* Store numbers with decimal points.\n",
    "* The **number of bits dictates the precision** (how many decimal places are accurately represented).\n",
    "* `float64` (64-bit) is standard in Python for high precision.\n",
    "\n",
    "---\n",
    "\n",
    "#### Summary of Common Data Types:\n",
    "\n",
    "| Data Type | Description (Bits)             | Example Range / Precision        |\n",
    "| :-------- | :----------------------------- | :------------------------------- |\n",
    "| `uint8`   | Unsigned Integer (8-bit)       | 0 to 255                         |\n",
    "| `int8`    | Signed Integer (8-bit)         | -128 to 127                      |\n",
    "| `float32` | Single-Precision Float (32-bit)| ~6-7 decimal digits of precision |\n",
    "| `float64` | Double-Precision Float (64-bit)| ~15-17 decimal digits of precision|\n",
    "\n",
    "---\n",
    "\n",
    "**Why This Matters for Science:**\n",
    "* **Memory:** Choose smaller types (`uint8`) for data like grayscale image pixels (0-255) to save memory with large datasets.\n",
    "* **Precision:** Use `float64` (double precision) for critical scientific calculations to minimize rounding errors.\n",
    "* **Data Import:** Essential when reading data from instruments or files that store numbers in specific encoded formats."
   ]
  },
  {
   "cell_type": "markdown",
   "metadata": {},
   "source": [
    "## 2.7 Advanced Functions: Flexible Inputs & Recursion\n",
    "\n",
    "Standard Python functions take a predetermined number of arguments. This section introduces ways to create more flexible functions that can handle an **unspecified number of inputs**, and also explores functions that call themselves.\n",
    "\n",
    "---\n",
    "\n",
    "#### 2.7.1 Variable Positional Arguments (`*args`)\n",
    "\n",
    "* **Purpose:** Allows a function to accept **any number of non-keyword (positional) arguments**.\n",
    "* **How it works:** All extra positional arguments are collected into a single **tuple** inside the function.\n",
    "* **Syntax:** Use an asterisk `*` before the parameter name in the function definition (e.g., `*g_crops`).\n",
    "* **Use Case:** When you want to sum, average, or process a flexible number of items.\n",
    "\n",
    "---\n",
    "\n",
    "**Example:** Calculating percent yield from a theoretical yield and an unknown number of recrystallization crops."
   ]
  },
  {
   "cell_type": "code",
   "execution_count": null,
   "metadata": {},
   "outputs": [],
   "source": [
    "def per_yield(g_theor, *g_crops):\n",
    "    # g_theor will get the first number (e.g., 1.32)\n",
    "    # *g_crops will collect all the *rest* of the numbers into a tuple\n",
    "    g_total = sum(g_crops)\n",
    "    percent_yield = 100 * (g_total / g_theor)\n",
    "    return percent_yield"
   ]
  },
  {
   "cell_type": "code",
   "execution_count": 41,
   "metadata": {},
   "outputs": [
    {
     "data": {
      "text/plain": [
       "66.66666666666666"
      ]
     },
     "execution_count": 41,
     "metadata": {},
     "output_type": "execute_result"
    }
   ],
   "source": [
    "per_yield(1.32, 0.50, 0.11, 0.27)\n",
    "# This calculates: ( (0.50 + 0.11 + 0.27) / 1.32 ) * 100\n",
    "# Which is: (0.88 / 1.32) * 100"
   ]
  },
  {
   "cell_type": "markdown",
   "metadata": {},
   "source": [
    "#### 2.7.2 Variable Keyword Arguments (`**kwargs`)\n",
    "\n",
    "* **Purpose:** Allows a function to accept **any number of keyword-labeled arguments**.\n",
    "* **How it works:** All extra keyword arguments (`name=value` pairs) are collected into a single **dictionary** inside the function. The argument names become the dictionary **keys** (as strings), and their assigned values become the dictionary **values**.\n",
    "* **Syntax:** Use two asterisks `**` before the parameter name in the function definition (e.g., `**elements`).\n",
    "* **Use Case:** When you need to process a flexible set of named parameters or properties, and you don't know all possible names or how many will be provided beforehand. This avoids needing a very long list of optional parameters in your function definition."
   ]
  },
  {
   "cell_type": "code",
   "execution_count": 51,
   "metadata": {},
   "outputs": [],
   "source": [
    "def mol_mass(**elements):\n",
    "    m = {'H':1.008, 'He':4.003, 'Li':6.94, 'Be':9.012,\n",
    "         'B':10.81, 'C':12.011, 'N':14.007, 'O':15.999,\n",
    "         'F':18.998}\n",
    "    masses = []  # mass total from each element\n",
    "    for key in elements.keys():\n",
    "        masses.append(elements[key] * m[key])\n",
    "    return sum(masses)"
   ]
  },
  {
   "cell_type": "code",
   "execution_count": 47,
   "metadata": {},
   "outputs": [
    {
     "data": {
      "text/plain": [
       "194.194"
      ]
     },
     "execution_count": 47,
     "metadata": {},
     "output_type": "execute_result"
    }
   ],
   "source": [
    "mol_mass(C=8, H=10, N=4, O=2)"
   ]
  },
  {
   "cell_type": "markdown",
   "metadata": {},
   "source": [
    "\n",
    "#### 2.7.3 Recursive Functions\n",
    "\n",
    "* **Purpose:** A function that solves a problem by calling **itself** one or more times with smaller inputs until it reaches a \"base case.\"\n",
    "* **How it works:** The function breaks down a problem into smaller, similar sub-problems.\n",
    "* **Key Requirement:** Must have a **base case** (a condition) that stops the recursion; otherwise, it will run forever (or until Python hits a recursion limit error).\n",
    "* **Use Case:** Problems that can be naturally expressed as smaller versions of themselves (e.g., factorials, Fibonacci sequences, tree traversals). Can sometimes simplify code that would otherwise use loops.\n",
    "    * **Chemistry Example:** Calculating remaining mass after half-lives."
   ]
  },
  {
   "cell_type": "code",
   "execution_count": null,
   "metadata": {},
   "outputs": [],
   "source": [
    "def half_life(mass, hl=1):\n",
    "    '''(float, hl=int) -> float \n",
    "    Takes in mass and number of half-lives and returns \n",
    "    remaining mass of material. Half-lives need to be \n",
    "    integer values.\n",
    "    '''\n",
    "    mass /= 2\n",
    "    hl -= 1\n",
    "    \n",
    "            # If hl has reached 0 (meaning all specified half-lives have occurred),\n",
    "            # stop the recursion and return the current mass.\n",
    "    if hl == 0:\n",
    "        return mass\n",
    "            # Call the 'half_life' function again with the NEW (halved) mass\n",
    "            # and the NEW (decremented) half-life count.\n",
    "            # This repeats the process until the base case (hl == 0) is met.\n",
    "    else:\n",
    "        return half_life(mass, hl=hl)"
   ]
  },
  {
   "cell_type": "code",
   "execution_count": 43,
   "metadata": {},
   "outputs": [
    {
     "data": {
      "text/plain": [
       "1.0"
      ]
     },
     "execution_count": 43,
     "metadata": {},
     "output_type": "execute_result"
    }
   ],
   "source": [
    "half_life(4.00, hl=2)"
   ]
  },
  {
   "cell_type": "code",
   "execution_count": 44,
   "metadata": {},
   "outputs": [
    {
     "data": {
      "text/plain": [
       "0.25"
      ]
     },
     "execution_count": 44,
     "metadata": {},
     "output_type": "execute_result"
    }
   ],
   "source": [
    "half_life(4.00, hl=4)"
   ]
  },
  {
   "cell_type": "markdown",
   "metadata": {},
   "source": [
    "Recursive functions must have a **base case** to stop. However, invalid inputs can prevent this, leading to problems.\n",
    "\n",
    "**The Problem: Runaway Recursion**\n",
    "* If input (e.g., `hl=1.5`) never meets the base case (`hl == 0`), the function calls itself endlessly.\n",
    "* Python's built-in recursion limit (around 1000 calls) prevents an infinite loop, raising a `RecursionError`.\n",
    "\n",
    "**The Solution: Input Validation**\n",
    "* **Validate inputs** at the start of your function to ensure they meet requirements.\n",
    "* Use `isinstance(variable, type)` to check if a variable is of the expected type.\n",
    "* **Why:** It's always better to return a clear error (or `None`) for invalid input than to crash or produce incorrect results silently."
   ]
  },
  {
   "cell_type": "code",
   "execution_count": 57,
   "metadata": {},
   "outputs": [],
   "source": [
    "def half_life(mass, hl=1):\n",
    "    '''(float, hl=int) -> float\n",
    "    Takes in mass and number of half-lives and returns\n",
    "    remaining mass of material. Half-lives need to be\n",
    "    integer values.\n",
    "    '''\n",
    "\n",
    "    if not isinstance(hl, int):\n",
    "        print('Invalid hl. Integer required.')\n",
    "        return None\n",
    "        \n",
    "    mass /= 2\n",
    "    hl -= 1\n",
    "    \n",
    "    if hl <= 0:\n",
    "        return mass\n",
    "    else:\n",
    "        return half_life(mass, hl=hl)"
   ]
  },
  {
   "cell_type": "code",
   "execution_count": 59,
   "metadata": {},
   "outputs": [
    {
     "name": "stdout",
     "output_type": "stream",
     "text": [
      "Invalid hl. Integer required.\n",
      "None\n",
      "1.0\n"
     ]
    }
   ],
   "source": [
    "print(half_life(4.00, hl=1.5))\n",
    "print(half_life(4.00, hl=2)) "
   ]
  },
  {
   "cell_type": "markdown",
   "metadata": {},
   "source": [
    "As a final note on **recursive functions**, you may have noticed that you could just as easily have accomplished the above task with a `while` or `for` loop.\n",
    " \n",
    "Recursive functions can usually be avoided, but once in a while a recursive function will substantially simplify your code. It is a good technique to have in your back pocket for the moment you need it, but you will not likely use them often."
   ]
  },
  {
   "cell_type": "markdown",
   "metadata": {},
   "source": [
    "## 2.8 Error Handling\n",
    "It doesn’t take long to realize that error messages are an inevitable part of computer programming, so it is helpful to know what the different type of **errors messages** mean and how to deal with them.\n",
    "\n",
    "### 2.8.1 Types of Errors\n",
    "\n",
    "| Type of Error      | Description                                                               |\n",
    "| :----------------- | :------------------------------------------------------------------------ |\n",
    "| `NameError`        | A variable or name being used has not been defined.                       |\n",
    "| `SyntaxError`      | Invalid syntax in code (e.g., typos in keywords, missing punctuation).    |\n",
    "| `TypeError`        | An operation or function is being used on an incorrect object type.       |\n",
    "| `ValueError`       | A value is being used that is not accepted by a function or application (the *type* is correct, but the *value* is not valid). |\n",
    "| `ZeroDivisionError`| Attempting to divide by zero.                                             |\n",
    "| `IndentationError` | Invalid indentations are present (Python uses indentation for code blocks).|\n",
    "| `IndexError`       | An invalid index is being used to access an item in a sequence (e.g., list, tuple).|\n",
    "| `KeyError`         | An invalid key is being used to access a value in a dictionary or DataFrame. |\n",
    "| `DeprecationWarning`| Code uses a function or feature that will change or be removed in a future version. (Often a warning, not a full error). |"
   ]
  },
  {
   "cell_type": "markdown",
   "metadata": {},
   "source": [
    "### `NameError`\n",
    "\n",
    "The `NameError` means code has called a variable or function which has not been defined so doesn't exist. \\\n",
    "**Some potential causes:**\n",
    "*  A mistyping of a variable name\n",
    "*  Jupyter notebook code run out of order (When variable is defined in earlier code)"
   ]
  },
  {
   "cell_type": "code",
   "execution_count": 60,
   "metadata": {},
   "outputs": [
    {
     "ename": "NameError",
     "evalue": "name 'root' is not defined",
     "output_type": "error",
     "traceback": [
      "\u001b[31m---------------------------------------------------------------------------\u001b[39m",
      "\u001b[31mNameError\u001b[39m                                 Traceback (most recent call last)",
      "\u001b[36mCell\u001b[39m\u001b[36m \u001b[39m\u001b[32mIn[60]\u001b[39m\u001b[32m, line 1\u001b[39m\n\u001b[32m----> \u001b[39m\u001b[32m1\u001b[39m \u001b[38;5;28mprint\u001b[39m(\u001b[43mroot\u001b[49m)\n",
      "\u001b[31mNameError\u001b[39m: name 'root' is not defined"
     ]
    }
   ],
   "source": [
    "print(root)"
   ]
  },
  {
   "cell_type": "markdown",
   "metadata": {},
   "source": [
    "### `SyntaxError`\n",
    "\n",
    "A programming language’s syntax is the set of rules that dictate how the code is formatted, the appropriate symbols, valid values and variables, etc. \n",
    "\n",
    "A `SyntaxError` indicates that your code **violated** one of these rules. To be helpful, the error message shows the line of code with the invalid syntax and points to where in the line the problem seems to be occurring."
   ]
  },
  {
   "cell_type": "code",
   "execution_count": null,
   "metadata": {},
   "outputs": [
    {
     "ename": "SyntaxError",
     "evalue": "invalid syntax (2186603431.py, line 1)",
     "output_type": "error",
     "traceback": [
      "  \u001b[36mCell\u001b[39m\u001b[36m \u001b[39m\u001b[32mIn[61]\u001b[39m\u001b[32m, line 1\u001b[39m\n\u001b[31m    \u001b[39m\u001b[31m5 <> 6\u001b[39m\n      ^\n\u001b[31mSyntaxError\u001b[39m\u001b[31m:\u001b[39m invalid syntax\n"
     ]
    }
   ],
   "source": [
    "# In the first example below, the error occurred because `<>` is not a valid operator in Python.\n",
    "5 <> 6"
   ]
  },
  {
   "cell_type": "code",
   "execution_count": null,
   "metadata": {},
   "outputs": [
    {
     "ename": "SyntaxError",
     "evalue": "invalid decimal literal (848242794.py, line 1)",
     "output_type": "error",
     "traceback": [
      "  \u001b[36mCell\u001b[39m\u001b[36m \u001b[39m\u001b[32mIn[62]\u001b[39m\u001b[32m, line 1\u001b[39m\n\u001b[31m    \u001b[39m\u001b[31m5sdq = 52\u001b[39m\n    ^\n\u001b[31mSyntaxError\u001b[39m\u001b[31m:\u001b[39m invalid decimal literal\n"
     ]
    }
   ],
   "source": [
    "# This example is because variable names cant start with a number\n",
    "5sdq = 52"
   ]
  },
  {
   "cell_type": "markdown",
   "metadata": {},
   "source": [
    "### `TypeError`\n",
    "\n",
    "A `TypeError` occurs when using the wrong object type for a particular function or application. For example, Python cannot take the absolute value of the letter, so this generates a `TypeError`."
   ]
  },
  {
   "cell_type": "code",
   "execution_count": 63,
   "metadata": {},
   "outputs": [
    {
     "ename": "TypeError",
     "evalue": "bad operand type for abs(): 'str'",
     "output_type": "error",
     "traceback": [
      "\u001b[31m---------------------------------------------------------------------------\u001b[39m",
      "\u001b[31mTypeError\u001b[39m                                 Traceback (most recent call last)",
      "\u001b[36mCell\u001b[39m\u001b[36m \u001b[39m\u001b[32mIn[63]\u001b[39m\u001b[32m, line 1\u001b[39m\n\u001b[32m----> \u001b[39m\u001b[32m1\u001b[39m \u001b[38;5;28;43mabs\u001b[39;49m\u001b[43m(\u001b[49m\u001b[33;43m'\u001b[39;49m\u001b[33;43ma\u001b[39;49m\u001b[33;43m'\u001b[39;49m\u001b[43m)\u001b[49m\n",
      "\u001b[31mTypeError\u001b[39m: bad operand type for abs(): 'str'"
     ]
    }
   ],
   "source": [
    "abs('a')"
   ]
  },
  {
   "cell_type": "code",
   "execution_count": 65,
   "metadata": {},
   "outputs": [
    {
     "ename": "TypeError",
     "evalue": "'>' not supported between instances of 'list' and 'int'",
     "output_type": "error",
     "traceback": [
      "\u001b[31m---------------------------------------------------------------------------\u001b[39m",
      "\u001b[31mTypeError\u001b[39m                                 Traceback (most recent call last)",
      "\u001b[36mCell\u001b[39m\u001b[36m \u001b[39m\u001b[32mIn[65]\u001b[39m\u001b[32m, line 2\u001b[39m\n\u001b[32m      1\u001b[39m \u001b[38;5;66;03m# Error is because a boolean operation cannot be performed on a list - at least not without a for loop or NumPy\u001b[39;00m\n\u001b[32m----> \u001b[39m\u001b[32m2\u001b[39m \u001b[43m[\u001b[49m\u001b[32;43m1\u001b[39;49m\u001b[43m,\u001b[49m\u001b[32;43m2\u001b[39;49m\u001b[43m,\u001b[49m\u001b[32;43m3\u001b[39;49m\u001b[43m]\u001b[49m\u001b[43m \u001b[49m\u001b[43m>\u001b[49m\u001b[43m \u001b[49m\u001b[32;43m5\u001b[39;49m\n",
      "\u001b[31mTypeError\u001b[39m: '>' not supported between instances of 'list' and 'int'"
     ]
    }
   ],
   "source": [
    "# Error is because a boolean operation cannot be performed on a list - at least not without a for loop or NumPy\n",
    "[1,2,3] > 5"
   ]
  },
  {
   "cell_type": "markdown",
   "metadata": {},
   "source": [
    "### `ValueError`\n",
    "\n",
    "The `ValueError` is somewhat similar to a `TypeError` execept in this case it indicates that a **numerical value** is not valid or appropriate for a particular function. Some functions require that their arguments be within a certain range such as the `math.sqrt()` which does not accept **negative numbers**. As a result, taking the square root of -1 with this function generates a `ValueError`."
   ]
  },
  {
   "cell_type": "code",
   "execution_count": 66,
   "metadata": {},
   "outputs": [
    {
     "ename": "ValueError",
     "evalue": "math domain error",
     "output_type": "error",
     "traceback": [
      "\u001b[31m---------------------------------------------------------------------------\u001b[39m",
      "\u001b[31mValueError\u001b[39m                                Traceback (most recent call last)",
      "\u001b[36mCell\u001b[39m\u001b[36m \u001b[39m\u001b[32mIn[66]\u001b[39m\u001b[32m, line 2\u001b[39m\n\u001b[32m      1\u001b[39m \u001b[38;5;28;01mimport\u001b[39;00m\u001b[38;5;250m \u001b[39m\u001b[34;01mmath\u001b[39;00m\n\u001b[32m----> \u001b[39m\u001b[32m2\u001b[39m \u001b[43mmath\u001b[49m\u001b[43m.\u001b[49m\u001b[43msqrt\u001b[49m\u001b[43m(\u001b[49m\u001b[43m-\u001b[49m\u001b[32;43m1\u001b[39;49m\u001b[43m)\u001b[49m\n",
      "\u001b[31mValueError\u001b[39m: math domain error"
     ]
    }
   ],
   "source": [
    "import math\n",
    "math.sqrt(-1)"
   ]
  },
  {
   "cell_type": "markdown",
   "metadata": {},
   "source": [
    "### `ZeroDivisionError`\n",
    "\n",
    "The `ZeroDivisionError` error is what the name says - the code attempted to **divide by zero**."
   ]
  },
  {
   "cell_type": "code",
   "execution_count": 67,
   "metadata": {},
   "outputs": [
    {
     "ename": "ZeroDivisionError",
     "evalue": "division by zero",
     "output_type": "error",
     "traceback": [
      "\u001b[31m---------------------------------------------------------------------------\u001b[39m",
      "\u001b[31mZeroDivisionError\u001b[39m                         Traceback (most recent call last)",
      "\u001b[36mCell\u001b[39m\u001b[36m \u001b[39m\u001b[32mIn[67]\u001b[39m\u001b[32m, line 1\u001b[39m\n\u001b[32m----> \u001b[39m\u001b[32m1\u001b[39m \u001b[32;43m4\u001b[39;49m\u001b[43m \u001b[49m\u001b[43m/\u001b[49m\u001b[43m \u001b[49m\u001b[32;43m0\u001b[39;49m\n",
      "\u001b[31mZeroDivisionError\u001b[39m: division by zero"
     ]
    }
   ],
   "source": [
    "4 / 0"
   ]
  },
  {
   "cell_type": "markdown",
   "metadata": {},
   "source": [
    "### `IndentationError`\n",
    "\n",
    "Python does not care about spaces except those at the start of a line as these spaces or indentations have meaning. In the example below, the `print(x)` should be indented below the the start of the for loop, so it generates an `IndentationError`."
   ]
  },
  {
   "cell_type": "code",
   "execution_count": 68,
   "metadata": {},
   "outputs": [
    {
     "ename": "IndentationError",
     "evalue": "expected an indented block after 'for' statement on line 1 (963956298.py, line 2)",
     "output_type": "error",
     "traceback": [
      "  \u001b[36mCell\u001b[39m\u001b[36m \u001b[39m\u001b[32mIn[68]\u001b[39m\u001b[32m, line 2\u001b[39m\n\u001b[31m    \u001b[39m\u001b[31mprint(x)\u001b[39m\n    ^\n\u001b[31mIndentationError\u001b[39m\u001b[31m:\u001b[39m expected an indented block after 'for' statement on line 1\n"
     ]
    }
   ],
   "source": [
    "for x in range(5):\n",
    "print(x)"
   ]
  },
  {
   "cell_type": "markdown",
   "metadata": {},
   "source": [
    "### `IndexError` and `KeyError`\n",
    "\n",
    "When indexing a composite object like a list, an index value that is outside the range results in an `IndexError`. In the list below, the **indices run from 0 to 4**, so using an **index of 5** returns an `IndexError`. Similarly, if the code tries to look up a value using a key **not present in a dictionary**, it returns a `KeyError` as shown below."
   ]
  },
  {
   "cell_type": "code",
   "execution_count": 69,
   "metadata": {},
   "outputs": [
    {
     "ename": "IndexError",
     "evalue": "list index out of range",
     "output_type": "error",
     "traceback": [
      "\u001b[31m---------------------------------------------------------------------------\u001b[39m",
      "\u001b[31mIndexError\u001b[39m                                Traceback (most recent call last)",
      "\u001b[36mCell\u001b[39m\u001b[36m \u001b[39m\u001b[32mIn[69]\u001b[39m\u001b[32m, line 2\u001b[39m\n\u001b[32m      1\u001b[39m lst = [\u001b[32m1\u001b[39m,\u001b[32m5\u001b[39m,\u001b[32m7\u001b[39m,\u001b[32m4\u001b[39m,\u001b[32m3\u001b[39m]\n\u001b[32m----> \u001b[39m\u001b[32m2\u001b[39m \u001b[43mlst\u001b[49m\u001b[43m[\u001b[49m\u001b[32;43m5\u001b[39;49m\u001b[43m]\u001b[49m\n",
      "\u001b[31mIndexError\u001b[39m: list index out of range"
     ]
    }
   ],
   "source": [
    "lst = [1,5,7,4,3]\n",
    "lst[5]"
   ]
  },
  {
   "cell_type": "code",
   "execution_count": 70,
   "metadata": {},
   "outputs": [
    {
     "data": {
      "text/plain": [
       "3"
      ]
     },
     "execution_count": 70,
     "metadata": {},
     "output_type": "execute_result"
    }
   ],
   "source": [
    "elements = {'H':1, 'He':2, 'Li':3, 'Be':4, 'B':5, 'C':6}\n",
    "elements['Li']"
   ]
  },
  {
   "cell_type": "code",
   "execution_count": 71,
   "metadata": {},
   "outputs": [
    {
     "ename": "KeyError",
     "evalue": "'N'",
     "output_type": "error",
     "traceback": [
      "\u001b[31m---------------------------------------------------------------------------\u001b[39m",
      "\u001b[31mKeyError\u001b[39m                                  Traceback (most recent call last)",
      "\u001b[36mCell\u001b[39m\u001b[36m \u001b[39m\u001b[32mIn[71]\u001b[39m\u001b[32m, line 1\u001b[39m\n\u001b[32m----> \u001b[39m\u001b[32m1\u001b[39m \u001b[43melements\u001b[49m\u001b[43m[\u001b[49m\u001b[33;43m'\u001b[39;49m\u001b[33;43mN\u001b[39;49m\u001b[33;43m'\u001b[39;49m\u001b[43m]\u001b[49m\n",
      "\u001b[31mKeyError\u001b[39m: 'N'"
     ]
    }
   ],
   "source": [
    "elements['N']"
   ]
  },
  {
   "cell_type": "markdown",
   "metadata": {},
   "source": [
    "### `DeprecationWarning`\n",
    "\n",
    "A `DeprecationWarning` occurs when code uses a feature that will be removed or changed in a future release of Python or a third-party library. This error does not stop your code and is a friendly heads up that your code may not work in the future."
   ]
  },
  {
   "cell_type": "markdown",
   "metadata": {},
   "source": [
    "### 2.8.2 Workout Around Errors with `try` and `except`\n",
    "\n",
    "While this may seem like a bad idea at first glance, there are times when you may want Python to not come to a grinding halt in the face of an error.\n",
    "\n",
    "One common situation is when importing a large number of data files from different sources. Not every data source may have formatted data or files the same, and some files may be malformed or there may be other unexpected edge cases. To get Python to not stop at an error message, you can use a `try`/`except` block.\n",
    "\n",
    "The general structure of a `try`/`except` block is to include the code you originally intend to run under the try statement, and under the following except statement, include what Python should do in the event of a **specific error**."
   ]
  },
  {
   "cell_type": "code",
   "execution_count": 72,
   "metadata": {},
   "outputs": [
    {
     "ename": "TypeError",
     "evalue": "must be real number, not str",
     "output_type": "error",
     "traceback": [
      "\u001b[31m---------------------------------------------------------------------------\u001b[39m",
      "\u001b[31mTypeError\u001b[39m                                 Traceback (most recent call last)",
      "\u001b[36mCell\u001b[39m\u001b[36m \u001b[39m\u001b[32mIn[72]\u001b[39m\u001b[32m, line 7\u001b[39m\n\u001b[32m      4\u001b[39m sqr_root = []\n\u001b[32m      6\u001b[39m \u001b[38;5;28;01mfor\u001b[39;00m num \u001b[38;5;129;01min\u001b[39;00m sqr_nums:\n\u001b[32m----> \u001b[39m\u001b[32m7\u001b[39m     sqr_root.append(\u001b[43mmath\u001b[49m\u001b[43m.\u001b[49m\u001b[43msqrt\u001b[49m\u001b[43m(\u001b[49m\u001b[43mnum\u001b[49m\u001b[43m)\u001b[49m)\n",
      "\u001b[31mTypeError\u001b[39m: must be real number, not str"
     ]
    }
   ],
   "source": [
    "import math\n",
    "\n",
    "sqr_nums = [4, 25, 9, 81, 144, 'four', 49]\n",
    "sqr_root = []\n",
    "\n",
    "for num in sqr_nums:\n",
    "    sqr_root.append(math.sqrt(num))"
   ]
  },
  {
   "cell_type": "code",
   "execution_count": 73,
   "metadata": {},
   "outputs": [
    {
     "name": "stdout",
     "output_type": "stream",
     "text": [
      "four is not a float or int\n"
     ]
    }
   ],
   "source": [
    "sqr_nums = [4, 25, 9, 81, 144, 'four', 49]\n",
    "sqr_root = []\n",
    "\n",
    "for num in sqr_nums:\n",
    "    try:\n",
    "        sqr_root.append(math.sqrt(num))\n",
    "    except TypeError:\n",
    "        print(f'{num} is not a float or int')"
   ]
  },
  {
   "cell_type": "markdown",
   "metadata": {},
   "source": [
    "Instead, the for loop has been placed under a `try`: telling Python to make a best attempt at running the code. The code under the `except` `TypeError`: tells Python to run the following code in the event of a `TypeError`.\n",
    "\n",
    "In the example nothing is done with the **string** except to inform the user that there was a problem. It is a prudent practice to not let unsolved errors pass by silently. If you have a good idea of where errors may turn up and have a solution to them, you can include that code under the `except`: as well."
   ]
  },
  {
   "cell_type": "code",
   "execution_count": 74,
   "metadata": {},
   "outputs": [
    {
     "data": {
      "text/plain": [
       "[2.0, 5.0, 3.0, 9.0, 12.0, 2.0, 7.0]"
      ]
     },
     "execution_count": 74,
     "metadata": {},
     "output_type": "execute_result"
    }
   ],
   "source": [
    "sqr_nums = [4, 25, 9, 81, 144, 'four', 49]\n",
    "sqr_root = []\n",
    "\n",
    "txt_to_int = {'one':1, 'two':2, 'three':3, 'four':4, 'five':5, 'six':6}\n",
    "\n",
    "for num in sqr_nums:\n",
    "    try:\n",
    "        sqr_root.append(math.sqrt(num))\n",
    "    except TypeError:\n",
    "        integer = txt_to_int[num]\n",
    "        sqr_root.append(math.sqrt(integer))\n",
    "\n",
    "sqr_root"
   ]
  },
  {
   "cell_type": "markdown",
   "metadata": {},
   "source": [
    "It is worth noting that `try`/`except` blocks can be avoided using `if`/`else` blocks.\n",
    "\n",
    "So when should you use `try`/`except` versus `if`/`else`? If you **anticipate exceptions to occur frequently**, `if`/`else` is likely to be **more efficient**, but **if exceptions are rare**, it may be more efficient to use `try`/`except`."
   ]
  },
  {
   "cell_type": "code",
   "execution_count": 75,
   "metadata": {},
   "outputs": [
    {
     "name": "stdout",
     "output_type": "stream",
     "text": [
      "four is not a float or int\n"
     ]
    }
   ],
   "source": [
    "sqr_nums = [4, 25, 9, 81, 144, 'four', 49]\n",
    "sqr_root = []\n",
    "\n",
    "for num in sqr_nums:\n",
    "    if type(num) in [float, int]:\n",
    "        sqr_root.append(math.sqrt(num))\n",
    "    else:\n",
    "        print(f'{num} is not a float or int')"
   ]
  },
  {
   "cell_type": "markdown",
   "metadata": {},
   "source": [
    "### 2.8.3 Raising Exceptions\n",
    "\n",
    "One thing worse than **code not running** is code **running and producing incorrect outputs**. At least when code fails to run, the user knows something is wrong whereas code that fails silently can lull the user into false conclusions. \n",
    "\n",
    "It is a prudent practice in coding to include checks that important conditions are met, and when these conditions are not met, the code should stop and produce an error known as **raising an exception**. \n",
    "\n",
    "To include checks in your code, you can use a condition with a `raise` statement followed by some form of error from Table 7 and an error message. The more specific you can be in your error type and message, the better.\n",
    "\n"
   ]
  },
  {
   "cell_type": "markdown",
   "metadata": {},
   "source": [
    "As an example, we will write a function below which quantifies the differences between two DNA sequences.\n",
    "\n",
    "The Hamming distance is one possible metric for determining how different two sequences are and is simply the number of locations where two sequences of the same length are different. \n",
    " * **For example:** `AATGC` and `AATGT` have a Hamming distance of 1 because they are identical except for the last base position. Because it is critical that the two DNA sequences be the same length, this should be checked before any further calculations, and if the sequences have different lengths, the function should not proceed and provide a helpful error message."
   ]
  },
  {
   "cell_type": "code",
   "execution_count": null,
   "metadata": {},
   "outputs": [],
   "source": [
    "def hamming(seq1, seq2):\n",
    "\n",
    "    if len(seq1) != len(seq2):                                  # These two lines are the raised exception for length check.\n",
    "        raise ValueError('Sequences must be of equal length')\n",
    "        \n",
    "    sequences = zip(seq1, seq2)\n",
    "    distance = 0\n",
    "    for position in sequences:\n",
    "        if position[0] != position[1]:\n",
    "            distance += 1\n",
    "    \n",
    "    return distance"
   ]
  },
  {
   "cell_type": "code",
   "execution_count": null,
   "metadata": {},
   "outputs": [
    {
     "data": {
      "text/plain": [
       "2"
      ]
     },
     "execution_count": 79,
     "metadata": {},
     "output_type": "execute_result"
    }
   ],
   "source": [
    "dna1 = 'AACCT'\n",
    "dna2 = 'ATCCA'\n",
    "dna3 = 'ATCCTA'\n",
    "\n",
    "hamming(dna1, dna2) #Code will run normal as meet all parameters"
   ]
  },
  {
   "cell_type": "code",
   "execution_count": null,
   "metadata": {},
   "outputs": [
    {
     "ename": "ValueError",
     "evalue": "Sequences must be of equal length",
     "output_type": "error",
     "traceback": [
      "\u001b[31m---------------------------------------------------------------------------\u001b[39m",
      "\u001b[31mValueError\u001b[39m                                Traceback (most recent call last)",
      "\u001b[36mCell\u001b[39m\u001b[36m \u001b[39m\u001b[32mIn[80]\u001b[39m\u001b[32m, line 1\u001b[39m\n\u001b[32m----> \u001b[39m\u001b[32m1\u001b[39m \u001b[43mhamming\u001b[49m\u001b[43m(\u001b[49m\u001b[43mdna2\u001b[49m\u001b[43m,\u001b[49m\u001b[43m \u001b[49m\u001b[43mdna3\u001b[49m\u001b[43m)\u001b[49m\n",
      "\u001b[36mCell\u001b[39m\u001b[36m \u001b[39m\u001b[32mIn[77]\u001b[39m\u001b[32m, line 4\u001b[39m, in \u001b[36mhamming\u001b[39m\u001b[34m(seq1, seq2)\u001b[39m\n\u001b[32m      1\u001b[39m \u001b[38;5;28;01mdef\u001b[39;00m\u001b[38;5;250m \u001b[39m\u001b[34mhamming\u001b[39m(seq1, seq2):\n\u001b[32m      3\u001b[39m     \u001b[38;5;28;01mif\u001b[39;00m \u001b[38;5;28mlen\u001b[39m(seq1) != \u001b[38;5;28mlen\u001b[39m(seq2):\n\u001b[32m----> \u001b[39m\u001b[32m4\u001b[39m         \u001b[38;5;28;01mraise\u001b[39;00m \u001b[38;5;167;01mValueError\u001b[39;00m(\u001b[33m'\u001b[39m\u001b[33mSequences must be of equal length\u001b[39m\u001b[33m'\u001b[39m)\n\u001b[32m      6\u001b[39m     sequences = \u001b[38;5;28mzip\u001b[39m(seq1, seq2)\n\u001b[32m      7\u001b[39m     distance = \u001b[32m0\u001b[39m\n",
      "\u001b[31mValueError\u001b[39m: Sequences must be of equal length"
     ]
    }
   ],
   "source": [
    "hamming(dna2, dna3) # The `raise` error will now be called upon as they are different lengths"
   ]
  },
  {
   "cell_type": "markdown",
   "metadata": {},
   "source": [
    "## 2.9 Date and Time Information\n",
    "\n",
    "Python's built-in `datetime` module is essential for working with date, time, and timestamp information, whether it's from file names, data logs, or for calculating durations (e.g., in chemical kinetics experiments).\n",
    "\n",
    "---\n",
    "\n",
    "#### Core `datetime` Objects:\n",
    "\n",
    "The `datetime` module provides four primary object types to represent and manipulate date and time information:\n",
    "\n",
    "| Object Type          | Description                                    | Example of What it Stores         |\n",
    "| :------------------- | :--------------------------------------------- | :-------------------------------- |\n",
    "| `datetime.datetime`  | Contains both **date and time** information.   | `2025-07-28 23:59:00`             |\n",
    "| `datetime.date`      | Contains **date only**, ignoring time.         | `2025-07-28`                      |\n",
    "| `datetime.time`      | Contains **time only**, ignoring date.         | `23:59:00`                        |\n",
    "| `datetime.timedelta` | Represents a **duration** (change in time) between two dates or times. | `4 days, 13:00:00`                |\n",
    "\n",
    "### 2.9.1 Date and Time Data"
   ]
  },
  {
   "cell_type": "code",
   "execution_count": null,
   "metadata": {},
   "outputs": [
    {
     "name": "stdout",
     "output_type": "stream",
     "text": [
      "2025-03-14 12:00:00\n"
     ]
    }
   ],
   "source": [
    "# You can create a `datetime` object by specifying year, month, day (required), and optionally hour, minute, second, microsecond.\n",
    "\n",
    "import datetime\n",
    "\n",
    "pi_day = datetime.datetime(2025, 3, 14, 12, 0, 0) # Noon on Pi Day 2025\n",
    "print(pi_day)"
   ]
  },
  {
   "cell_type": "code",
   "execution_count": 91,
   "metadata": {},
   "outputs": [],
   "source": [
    "# The date and time information can also be provided to datetime() using keyword arguments like below\n",
    "\n",
    "mario_day = datetime.datetime(year=2025, month=3, day=10 ,hour=8, minute=10, second=0, microsecond=0)"
   ]
  },
  {
   "cell_type": "code",
   "execution_count": 86,
   "metadata": {},
   "outputs": [
    {
     "name": "stdout",
     "output_type": "stream",
     "text": [
      "Current datetime: 2025-07-28 22:54:31.735686\n"
     ]
    }
   ],
   "source": [
    "# Getting Current Date/Time\n",
    "datetime.datetime.now()\n",
    "\n",
    "now = datetime.datetime.now()\n",
    "print(f'Current datetime: {now}')"
   ]
  },
  {
   "cell_type": "code",
   "execution_count": null,
   "metadata": {},
   "outputs": [
    {
     "name": "stdout",
     "output_type": "stream",
     "text": [
      "Current hour: 22\n"
     ]
    }
   ],
   "source": [
    "# Access individual parts (year, month, day, hour, minute, second, microsecond) as attributes.\n",
    "\n",
    "print(f'Current hour: {now.hour}')"
   ]
  },
  {
   "cell_type": "code",
   "execution_count": 90,
   "metadata": {},
   "outputs": [
    {
     "name": "stdout",
     "output_type": "stream",
     "text": [
      "05:03:32\n",
      "32\n"
     ]
    }
   ],
   "source": [
    "# Creating `datetime.time` Objects, Similar to `datetime.datetime`, but for time-only.\n",
    "\n",
    "specific_time = datetime.time(hour=5, minute=3, second=32)\n",
    "print(specific_time)\n",
    "print(specific_time.second)"
   ]
  },
  {
   "cell_type": "markdown",
   "metadata": {},
   "source": [
    "### 2.9.2 Changes in Date and Time"
   ]
  },
  {
   "cell_type": "code",
   "execution_count": null,
   "metadata": {},
   "outputs": [
    {
     "name": "stdout",
     "output_type": "stream",
     "text": [
      "Modified datetime: 2025-07-28 03:00:31.735686\n"
     ]
    }
   ],
   "source": [
    "# Modifying Components .replace() returns a new `datetime` object with specified components replaced. \n",
    "# The original object is not changed.\n",
    "\n",
    "modified_time = now.replace(hour=3, minute=0)\n",
    "print(f\"Modified datetime: {modified_time}\")"
   ]
  },
  {
   "cell_type": "markdown",
   "metadata": {},
   "source": [
    "#### Calculating Differences with `datetime.timedelta`:\n",
    "\n",
    "* Subtracting two `datetime` objects results in a `timedelta` object, representing the duration between them.\n",
    "* You can then access its `days` and `seconds` attributes, or convert to total seconds."
   ]
  },
  {
   "cell_type": "code",
   "execution_count": 93,
   "metadata": {},
   "outputs": [
    {
     "data": {
      "text/plain": [
       "datetime.timedelta(days=4, seconds=13800)"
      ]
     },
     "execution_count": 93,
     "metadata": {},
     "output_type": "execute_result"
    }
   ],
   "source": [
    "delta = pi_day - mario_day\n",
    "delta"
   ]
  },
  {
   "cell_type": "code",
   "execution_count": 92,
   "metadata": {},
   "outputs": [
    {
     "name": "stdout",
     "output_type": "stream",
     "text": [
      "Timedelta: 4 days, 3:50:00\n",
      "Days: 4\n",
      "Seconds (of the non-day part): 13800\n",
      "Total seconds: 359400.0\n"
     ]
    }
   ],
   "source": [
    "mario_day = datetime.datetime(2025, 3, 10, 8, 10, 0)\n",
    "delta = pi_day - mario_day # Using pi_day from above\n",
    "\n",
    "print(f\"Timedelta: {delta}\")          # Output: 4 days, 3:50:00 (4 days and 13800 seconds)\n",
    "print(f\"Days: {delta.days}\")          # Output: 4\n",
    "print(f\"Seconds (of the non-day part): {delta.seconds}\") # Output: 13800\n",
    "print(f\"Total seconds: {delta.total_seconds()}\") # Output: 359400.0"
   ]
  },
  {
   "cell_type": "markdown",
   "metadata": {},
   "source": [
    "### 2.9.3 Extracting Date and Time Information\n",
    "\n",
    "Extracting date and time from a file or file name can be accomplished using the **‘string-parsed time’** `strptime()` function and formatting codes shown below.\n",
    "\n",
    "Formatting Codes for Parsing Date and Time Strings (`.strptime()` and `.strftime()`):\n",
    "\n",
    "| Code | Example  | Description                                 | Length    |\n",
    "| :--- | :------- | :------------------------------------------ | :-------- |\n",
    "| `%y` | `01`     | Year without century (00-99)                | Two digits|\n",
    "| `%Y` | `2001`   | Year with century (e.g., 2001)              | Four digits|\n",
    "| `%b` | `Jan`    | Month abbreviation (e.g., Jan, Feb)         | Three letters|\n",
    "| `%B` | `January`| Month full name (e.g., January)             | Varies    |\n",
    "| `%m` | `01`     | Month as zero-padded number (01-12)         | Two digits|\n",
    "| `%d` | `05`     | Day of the month with zero padding (01-31)  | Two digits|\n",
    "| `%H` | `14`     | Hour in 24-hour time (00-23)                | Two digits|\n",
    "| `%p` | `AM`     | AM or PM                                    | Two letters|\n",
    "| `%I` | `02`     | Hour in 12-hour time (01-12)                | Two digits|\n",
    "| `%M` | `16`     | Minute (00-59)                              | Two digits|\n",
    "| `%S` | `09`     | Second (00-59)                              | Two digits|\n",
    "| `%f` | `090000` | Microseconds (000000-999999)                | Six digits|\n",
    "\n",
    "---\n",
    "\n",
    "These codes will allow you to parse strings into the datetime module by providing the `strptime()` function with both the string from the data file and a description of how the date and time information is organized. \n",
    "\n",
    "For example, below is a file where the collection time is included in the file name as hour, minutes, seconds separated by hyphens."
   ]
  },
  {
   "cell_type": "code",
   "execution_count": 94,
   "metadata": {},
   "outputs": [
    {
     "data": {
      "text/plain": [
       "datetime.datetime(1900, 1, 1, 12, 3, 48)"
      ]
     },
     "execution_count": 94,
     "metadata": {},
     "output_type": "execute_result"
    }
   ],
   "source": [
    "file_name_1 = 'Absorbance_12-03-48.txt' \n",
    "timestamp = datetime.datetime.strptime(file_name_1[-12:-4], '%H-%M-%S')\n",
    "timestamp"
   ]
  },
  {
   "cell_type": "markdown",
   "metadata": {},
   "source": [
    "Because the *date (i.e., year, month, and day)* information were not provided, **default values of January 1, 1900** is chosen for the datetime object. \n",
    "\n",
    "If you only want the **date** or **time** information, you can access them using the `date()` or `time()` functions, respectively."
   ]
  },
  {
   "cell_type": "code",
   "execution_count": 96,
   "metadata": {},
   "outputs": [
    {
     "data": {
      "text/plain": [
       "datetime.date(1900, 1, 1)"
      ]
     },
     "execution_count": 96,
     "metadata": {},
     "output_type": "execute_result"
    }
   ],
   "source": [
    "timestamp.date()"
   ]
  },
  {
   "cell_type": "code",
   "execution_count": 97,
   "metadata": {},
   "outputs": [
    {
     "data": {
      "text/plain": [
       "datetime.time(12, 3, 48)"
      ]
     },
     "execution_count": 97,
     "metadata": {},
     "output_type": "execute_result"
    }
   ],
   "source": [
    "timestamp.time()"
   ]
  },
  {
   "cell_type": "markdown",
   "metadata": {},
   "source": [
    "If the values are not formatted like Python assumes, a little extra effort may be required. \n",
    "\n",
    "For example, below the time is formatted at hours-minutes-seconds-microseconds, but microseconds is not represented as six digits with zero padding like Python assumed. To deal with this, the microseconds are sliced out of the file name and added to the `datetime` object using the `replace()` method."
   ]
  },
  {
   "cell_type": "code",
   "execution_count": 99,
   "metadata": {},
   "outputs": [
    {
     "data": {
      "text/plain": [
       "datetime.datetime(1900, 1, 1, 12, 3, 48, 215)"
      ]
     },
     "execution_count": 99,
     "metadata": {},
     "output_type": "execute_result"
    }
   ],
   "source": [
    "# Problem: File's microseconds (e.g., '215') don't match %f (6 digits).\n",
    "# Solution: Extract microseconds via slicing, convert to int, scale (x1000), then use .replace() to update.\n",
    "\n",
    "file_name_2 = 'glucose_Absorbance_12-03-48-215.txt'\n",
    "\n",
    "time = datetime.datetime.strptime(file_name_2[-16:-8], '%H-%M-%S')\n",
    "time.replace(microsecond = int(file_name_2[-7:-4]))"
   ]
  },
  {
   "cell_type": "code",
   "execution_count": null,
   "metadata": {},
   "outputs": [],
   "source": []
  }
 ],
 "metadata": {
  "kernelspec": {
   "display_name": "3.11.8",
   "language": "python",
   "name": "python3"
  },
  "language_info": {
   "codemirror_mode": {
    "name": "ipython",
    "version": 3
   },
   "file_extension": ".py",
   "mimetype": "text/x-python",
   "name": "python",
   "nbconvert_exporter": "python",
   "pygments_lexer": "ipython3",
   "version": "3.11.8"
  }
 },
 "nbformat": 4,
 "nbformat_minor": 2
}
