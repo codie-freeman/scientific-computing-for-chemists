{
 "cells": [
  {
   "cell_type": "markdown",
   "metadata": {},
   "source": [
    "### Question 1\n",
    "Generate a list containing the **natural logs** of **integers** from *2 to 23* (including 23) using `append` and then again using using list comprehension."
   ]
  },
  {
   "cell_type": "code",
   "execution_count": null,
   "metadata": {},
   "outputs": [],
   "source": [
    "import math\n",
    "\n",
    "natural_logs = []\n",
    "for integer in range(2, 24):\n",
    "    log = math.log(integer)\n",
    "    natural_logs.append(log)\n",
    "\n",
    "natural_logs"
   ]
  },
  {
   "cell_type": "code",
   "execution_count": null,
   "metadata": {},
   "outputs": [],
   "source": [
    "natural_logs = [math.log(integer) for integer in range(2, 24)]\n",
    "\n",
    "natural_logs"
   ]
  },
  {
   "cell_type": "markdown",
   "metadata": {},
   "source": [
    "### Question 2\n",
    "\n",
    "Write a function, using *augmented assignment*, that takes in a starting **`xyz` coordinates** of an atom along with how much the atom should translate along each axis and returns the **final coordinates**. \n",
    "\n",
    "The docstring for this function is below;\n",
    "```python\n",
    "def trans(coord, x=0, y=0, z=0):\n",
    "    '''((x,y,z), x=0, y=0, z=0) -> (x,y,z)\n",
    "    '''"
   ]
  },
  {
   "cell_type": "code",
   "execution_count": 9,
   "metadata": {},
   "outputs": [
    {
     "data": {
      "text/plain": [
       "(2, 3, 4)"
      ]
     },
     "execution_count": 9,
     "metadata": {},
     "output_type": "execute_result"
    }
   ],
   "source": [
    "def trans(coord, x=0, y=0, z=0):\n",
    "    '''((x,y,z), x=0, y=0, z=0) -> (x,y,z)\n",
    "    '''\n",
    "    x0, y0, z0 = coord # Unpack the tuple\n",
    "\n",
    "    # Augmented assignment to add coords and translations together\n",
    "    x0 += x\n",
    "    y0 += y\n",
    "    z0 += z\n",
    "\n",
    "    return (x0, y0, z0) # Return the final coordinates\n",
    "\n",
    "trans((1,2,3), x=1, y=1, z=1)"
   ]
  },
  {
   "cell_type": "markdown",
   "metadata": {},
   "source": [
    "### Question 3\n",
    "\n",
    "Generate a function that returns the square of a number using a `lambda` function. Assign it to a variable for reuse and test it."
   ]
  },
  {
   "cell_type": "code",
   "execution_count": 14,
   "metadata": {},
   "outputs": [],
   "source": [
    "square = lambda x: x**2"
   ]
  },
  {
   "cell_type": "code",
   "execution_count": 15,
   "metadata": {},
   "outputs": [
    {
     "data": {
      "text/plain": [
       "81"
      ]
     },
     "execution_count": 15,
     "metadata": {},
     "output_type": "execute_result"
    }
   ],
   "source": [
    "square(9)"
   ]
  },
  {
   "cell_type": "code",
   "execution_count": 16,
   "metadata": {},
   "outputs": [
    {
     "data": {
      "text/plain": [
       "4"
      ]
     },
     "execution_count": 16,
     "metadata": {},
     "output_type": "execute_result"
    }
   ],
   "source": [
    "square(2)"
   ]
  },
  {
   "cell_type": "markdown",
   "metadata": {},
   "source": [
    "### Question 4\n",
    "\n",
    "Generate a dictionary called `aacid` that converts **single-letter amino acid** abbreviations to the **three-letter** abbreviation."
   ]
  },
  {
   "cell_type": "code",
   "execution_count": 18,
   "metadata": {},
   "outputs": [
    {
     "data": {
      "text/plain": [
       "'Leu'"
      ]
     },
     "execution_count": 18,
     "metadata": {},
     "output_type": "execute_result"
    }
   ],
   "source": [
    "aacid = {'A':'Ala', 'R':'Arg', 'N':'Asn', 'D':'Asp', 'C':'Cys', 'E':'Glu', 'Q':'Gln', 'G':'Gly',\n",
    "         'H':'His', 'I':'Ile', 'L':'Leu', 'K':'Lys', 'M':'Met', 'F':'Phe', 'P':'Pro', 'S':'Ser',\n",
    "         'T':'Thr', 'W':'Trp', 'Y':'Tyr', 'V':'Val'}\n",
    "\n",
    "aacid['L']"
   ]
  },
  {
   "cell_type": "markdown",
   "metadata": {},
   "source": [
    "### Question 5\n",
    "\n",
    "For the following two sets: `acids1` = {‘HCl’, ‘HNO3’, ‘HI’, ‘H2SO4’} `acids2` = {‘HI’, ‘HBr’, ‘HClO4’, ‘HNO3’}\n",
    "\n",
    "a) Generate a new set with **all items** from `acids1` and `acids2`.\n",
    "\n",
    "b) Generate a new set with the **overlap** between `acids1` and `acids2`\n",
    "\n",
    "c) Add a new item **HBrO3** to `acids1`.\n",
    "\n",
    "d) Generate a new set with items from **either** set but **not in both**"
   ]
  },
  {
   "cell_type": "markdown",
   "metadata": {},
   "source": [
    "| Operator | Name         | Description                                                               |\n",
    "| :------- | :----------- | :------------------------------------------------------------------------ |\n",
    "| `\\|`     | **Union** | Combines **all unique elements** from both sets. (A OR B)               |\n",
    "| `-`      | **Difference** | Returns elements in the **first set** that are **not** in the second set. (A MINUS B) |\n",
    "| `&`      | **Intersection** | Returns elements present in **both** sets. (A AND B)                    |\n",
    "| `^`      | **Symmetric Difference** | Returns elements unique to *either* set, but not in both. (Exclusive OR) |"
   ]
  },
  {
   "cell_type": "code",
   "execution_count": 20,
   "metadata": {},
   "outputs": [
    {
     "data": {
      "text/plain": [
       "{'H2SO4', 'HBr', 'HCl', 'HClO4', 'HI', 'HNO3'}"
      ]
     },
     "execution_count": 20,
     "metadata": {},
     "output_type": "execute_result"
    }
   ],
   "source": [
    "acids1 = {'HCl', 'HNO3', 'HI', 'H2SO4'}\n",
    "acids2 = {'HI', 'HBr', 'HClO4', 'HNO3'}\n",
    "\n",
    "setA = acids1 | acids2\n",
    "setA"
   ]
  },
  {
   "cell_type": "code",
   "execution_count": 22,
   "metadata": {},
   "outputs": [
    {
     "data": {
      "text/plain": [
       "{'HI', 'HNO3'}"
      ]
     },
     "execution_count": 22,
     "metadata": {},
     "output_type": "execute_result"
    }
   ],
   "source": [
    "setB = acids1 & acids2\n",
    "setB"
   ]
  },
  {
   "cell_type": "code",
   "execution_count": 23,
   "metadata": {},
   "outputs": [
    {
     "data": {
      "text/plain": [
       "{'H2SO4', 'HBrO3', 'HCl', 'HI', 'HNO3'}"
      ]
     },
     "execution_count": 23,
     "metadata": {},
     "output_type": "execute_result"
    }
   ],
   "source": [
    "acids1.add('HBrO3')\n",
    "\n",
    "acids1"
   ]
  },
  {
   "cell_type": "code",
   "execution_count": 24,
   "metadata": {},
   "outputs": [
    {
     "data": {
      "text/plain": [
       "{'H2SO4', 'HBr', 'HBrO3', 'HCl', 'HClO4'}"
      ]
     },
     "execution_count": 24,
     "metadata": {},
     "output_type": "execute_result"
    }
   ],
   "source": [
    "setD = acids1 ^ acids2\n",
    "setD"
   ]
  },
  {
   "cell_type": "markdown",
   "metadata": {},
   "source": [
    "### Question 6\n",
    "\n",
    "Use a `for` loop and `listdir()` method to print the name of every file in a folder on your computer. \n",
    "\n",
    "Compare what Python prints out to what you see when looking in the folder using the file browser. Does Python print any files that you do not see in the file browser?\n",
    "\n",
    "#### Key `os` Module Functions:\n",
    "\n",
    "| Function      | Description                                                    |\n",
    "| :------------ | :------------------------------------------------------------- |\n",
    "| `os.getcwd()` | Get Current Working Directory. Returns the path of the directory Python is currently operating from. |\n",
    "| `os.chdir()`  | Change Directory. Changes the current working directory to a specified path. |\n",
    "| `os.listdir()`| Returns a list of all files and subdirectories within a given path (or the current directory if no path is specified). |"
   ]
  },
  {
   "cell_type": "code",
   "execution_count": 26,
   "metadata": {},
   "outputs": [
    {
     "data": {
      "text/plain": [
       "'/Users/codiefreeman/Documents/scientific-computing-for-chemists/Basic Scientific Computing Skills/Chapter 02'"
      ]
     },
     "execution_count": 26,
     "metadata": {},
     "output_type": "execute_result"
    }
   ],
   "source": [
    "import os\n",
    "\n",
    "os.getcwd()"
   ]
  },
  {
   "cell_type": "code",
   "execution_count": null,
   "metadata": {},
   "outputs": [
    {
     "name": "stdout",
     "output_type": "stream",
     "text": [
      "ms_bromobenzene.csv\n",
      "nuclide.csv\n",
      "hydrogenase_5a4m_phipsi.csv\n",
      "gc_trace.csv\n",
      "C60.csv\n",
      ".ipynb_checkpoints\n",
      "amine_bp.csv\n"
     ]
    }
   ],
   "source": [
    "for filename in os.listdir(\"/Users/codiefreeman/Documents/scientific-computing-for-chemists/Basic Scientific Computing Skills/Chapter 02/data_02\"):\n",
    "    print(filename)"
   ]
  },
  {
   "cell_type": "markdown",
   "metadata": {},
   "source": [
    "### Question 7\n",
    "\n",
    "Use the `random` module for the following.\n",
    "\n",
    "a) Generate 10 `random` integers from 0 to 9 and calculate the **mean of these values**. What is the theoretical mean for this data set?\n",
    "\n",
    "b) Generate 10,000 `random` integers from 0 to 9 and calculate the **mean of these value**s. Is this mean closer or further than the mean from part a?\n",
    "\n",
    "***Hint**: look up the “law of large numbers” for help.*\n",
    "\n",
    "\n",
    "| Function                 | Description                                                        |\n",
    "| :----------------------- | :----------------------------------------------------------------- |\n",
    "| `random.random()`        | Generates a random **float** between 0.0 (inclusive) and 1.0 (exclusive). |\n",
    "| `random.uniform(x, y)`   | Generates a random **float** within the range `[x, y)`.          |\n",
    "| `random.randrange(x, y)` | Generates a random **integer** within the range `[x, y)`.          |\n",
    "| `random.shuffle(list)`   | **Shuffles** the items of a list **in-place** (modifies the original list). |"
   ]
  },
  {
   "cell_type": "code",
   "execution_count": 55,
   "metadata": {},
   "outputs": [
    {
     "name": "stdout",
     "output_type": "stream",
     "text": [
      "[4, 7, 4, 7, 4, 7, 9, 7, 2, 7]\n",
      "Mean: 5.8\n"
     ]
    }
   ],
   "source": [
    "import random\n",
    "\n",
    "rand = []\n",
    "\n",
    "for _ in range(10):  # using _ because we don't need the loop variable\n",
    "    rand.append(random.randrange(0, 10))  # save each random number in the list\n",
    "\n",
    "mean = sum(rand) / len(rand)\n",
    "\n",
    "print(rand)\n",
    "print('Mean:', mean)"
   ]
  },
  {
   "cell_type": "code",
   "execution_count": 45,
   "metadata": {},
   "outputs": [
    {
     "name": "stdout",
     "output_type": "stream",
     "text": [
      "Theoretical Mean: 4.5\n"
     ]
    }
   ],
   "source": [
    "theoretical_mean = sum(range(10)) / 10  # because 0–9\n",
    "print(\"Theoretical Mean:\", theoretical_mean)"
   ]
  },
  {
   "cell_type": "code",
   "execution_count": null,
   "metadata": {},
   "outputs": [
    {
     "name": "stdout",
     "output_type": "stream",
     "text": [
      "Mean: 4.5093\n"
     ]
    }
   ],
   "source": [
    "import random\n",
    "\n",
    "rand = []\n",
    "\n",
    "for _ in range(10000): \n",
    "    rand.append(random.randrange(0, 10)) \n",
    "\n",
    "mean = sum(rand) / len(rand)\n",
    "\n",
    "print('Mean:', mean)\n",
    "\n",
    "# Closer to theoretical mean as quantity of random integers increases the stability of mean averages increases."
   ]
  },
  {
   "cell_type": "code",
   "execution_count": null,
   "metadata": {},
   "outputs": [],
   "source": []
  }
 ],
 "metadata": {
  "kernelspec": {
   "display_name": "3.11.8",
   "language": "python",
   "name": "python3"
  },
  "language_info": {
   "codemirror_mode": {
    "name": "ipython",
    "version": 3
   },
   "file_extension": ".py",
   "mimetype": "text/x-python",
   "name": "python",
   "nbconvert_exporter": "python",
   "pygments_lexer": "ipython3",
   "version": "3.11.8"
  }
 },
 "nbformat": 4,
 "nbformat_minor": 2
}
