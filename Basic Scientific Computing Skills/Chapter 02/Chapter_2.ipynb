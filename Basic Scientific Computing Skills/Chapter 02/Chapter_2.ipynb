{
 "cells": [
  {
   "cell_type": "markdown",
   "metadata": {},
   "source": [
    "# Chapter 2\n",
    "\n",
    "## 2.1 Syntactic Sugar\n",
    "\n",
    "`Syntactic sugar` is a nickname given to any part of a programming language that does not extend the capabilities of the language. \\\n",
    " If any of these features were suddenly removed from the language, the language would still be just as capable, but the advantage of anything labeled `syntactic sugar` is that it makes the code **quicker/shorter** to write or **easier** to read. \n",
    " Below are a few examples from the Python language that you are likely to come across and find useful."
   ]
  },
  {
   "cell_type": "markdown",
   "metadata": {},
   "source": [
    "### 2.1.1 Augmented Assignment\n",
    "\n",
    "| Augmented Assignment | Regular Assignment | Description       |\n",
    "|----------------------|--------------------|-------------------|\n",
    "| x += a               | x = x + a          | Increments the value |\n",
    "| x -= a               | x = x - a          | Decrements the value |\n",
    "| x *= a               | x = x * a          | Multiplies the value |\n",
    "| x /= a               | x = x / a          | Divides the value    |"
   ]
  },
  {
   "cell_type": "code",
   "execution_count": null,
   "metadata": {},
   "outputs": [
    {
     "data": {
      "text/plain": [
       "6"
      ]
     },
     "execution_count": 4,
     "metadata": {},
     "output_type": "execute_result"
    }
   ],
   "source": [
    "# This is not difficult but requires typing variable name more than once which becomes more difficult to maintain with longer variable names\n",
    "x = 5\n",
    "x = x + 1 \n",
    "x"
   ]
  },
  {
   "cell_type": "code",
   "execution_count": null,
   "metadata": {},
   "outputs": [
    {
     "data": {
      "text/plain": [
       "7"
      ]
     },
     "execution_count": 5,
     "metadata": {},
     "output_type": "execute_result"
    }
   ],
   "source": [
    "# The augmented assignment for increment can be used instead for the same result\n",
    "x += 1 \n",
    "x"
   ]
  },
  {
   "cell_type": "markdown",
   "metadata": {},
   "source": [
    "### 2.1.2 List Comprehension\n",
    "\n",
    "It's very common to need a list filled with a series of numbers or calculated values.\n",
    "\n",
    "* For most cases (where values aren't just evenly spaced integers):\n",
    "    1.  Start with an empty list.\n",
    "    2.  Use a `for` loop to go through your desired range or items.\n",
    "    3.  Inside the loop, calculate each value.\n",
    "    4.  `append()` that calculated value to your list.\n",
    "\n",
    "**Special Case (Easy Way for Evenly Spaced Integers):**\n",
    "\n",
    "* If you just need evenly spaced integers, the range() function combined with list() is much simpler:"
   ]
  },
  {
   "cell_type": "code",
   "execution_count": 6,
   "metadata": {},
   "outputs": [
    {
     "data": {
      "text/plain": [
       "[0, 1, 4, 9, 16, 25, 36, 49, 64, 81]"
      ]
     },
     "execution_count": 6,
     "metadata": {},
     "output_type": "execute_result"
    }
   ],
   "source": [
    "squares = []\n",
    "for integer in range(10):\n",
    "    sqr = integer**2\n",
    "    squares.append(sqr)\n",
    "\n",
    "squares"
   ]
  },
  {
   "cell_type": "code",
   "execution_count": 7,
   "metadata": {},
   "outputs": [
    {
     "data": {
      "text/plain": [
       "[0, 1, 4, 9, 16, 25, 36, 49, 64, 81]"
      ]
     },
     "execution_count": 7,
     "metadata": {},
     "output_type": "execute_result"
    }
   ],
   "source": [
    "squares = [integer**2 for integer in range(10)]\n",
    "squares"
   ]
  },
  {
   "cell_type": "markdown",
   "metadata": {},
   "source": [
    "### 2.1.3 Compound Assignment\n",
    "\n",
    "A lot of beginner code sets variables on separate lines - this can instead be done by assigning multiple variables in the same assignment."
   ]
  },
  {
   "cell_type": "code",
   "execution_count": null,
   "metadata": {},
   "outputs": [
    {
     "data": {
      "text/plain": [
       "1.01"
      ]
     },
     "execution_count": 8,
     "metadata": {},
     "output_type": "execute_result"
    }
   ],
   "source": [
    "H, He, Li = 1.01, 4.00, 5.39\n",
    "H\n",
    "# This is known as tuple packing \n",
    "# Variables are automatically turned into tuples by Python behind the scenes\n",
    "# It's equivalent to (H, He, Li) = (1.01, 4.00, 5.39)"
   ]
  },
  {
   "cell_type": "markdown",
   "metadata": {},
   "source": [
    "### 2.1.4 Lambda Functions\n",
    "\n",
    "`lambda` functions are small, unnamed (**anonymous**) functions you can define in a **single line**. They're perfect for simple tasks where you need a function quickly, without formally defining it with `def`.\n",
    "\n",
    "**Core Ideas:**\n",
    "\n",
    "* **Anonymous:** They don't need a name (variable) to be assigned to them, unlike `def` functions. This helps avoid \"cluttering the namespace\" if you only need the function once.\n",
    "* **Single Expression:** A `lambda` can only contain one expression (what comes after the colon `:`) that is automatically returned. No complex logic or multiple lines of code.\n",
    "* **Concise:** They allow you to define simple functions in very few characters, often inline where they are used.\n",
    "\n",
    "**Syntax Explained:**\n",
    "\n",
    "* `lambda` keyword\n",
    "* `x`: The input variable(s) (what goes in the parentheses of a `def` function).\n",
    "* `:`: Separates inputs from the function's logic.\n",
    "* `x**2`: The single expression to be evaluated and returned (what goes in the indented block of a `def` function)."
   ]
  },
  {
   "cell_type": "code",
   "execution_count": 9,
   "metadata": {},
   "outputs": [
    {
     "data": {
      "text/plain": [
       "<function __main__.<lambda>(x)>"
      ]
     },
     "execution_count": 9,
     "metadata": {},
     "output_type": "execute_result"
    }
   ],
   "source": [
    "lambda x: x**2"
   ]
  },
  {
   "cell_type": "code",
   "execution_count": 10,
   "metadata": {},
   "outputs": [
    {
     "data": {
      "text/plain": [
       "81"
      ]
     },
     "execution_count": 10,
     "metadata": {},
     "output_type": "execute_result"
    }
   ],
   "source": [
    "f = lambda x: x**2\n",
    "f(9)"
   ]
  },
  {
   "cell_type": "markdown",
   "metadata": {},
   "source": [
    "**The Key Use: Inline with Other Functions (Anonymous Use):**\n",
    "\n",
    "`lambda` functions truly shine when you need a simple function *temporarily* as an argument to another function. This is common in scientific libraries.\n",
    "\n",
    "* **Scenario:** Many functions (like `quad()` for integration, or sorting functions) need a small piece of custom logic as an input. Instead of defining a whole `def` function for a one-off use, `lambda` provides it concisely.\n",
    "\n",
    "* **Example:** Here we use integration to find the probability of finding a particle in the lowest state between 0 and 0.4 in a box of length 1 by performing the following integration.\n",
    "\n",
    "$$\n",
    "p = 2 \\int_{0}^{0.4} \\sin^2(\\pi x) dx\n",
    "$$"
   ]
  },
  {
   "cell_type": "code",
   "execution_count": 13,
   "metadata": {},
   "outputs": [
    {
     "data": {
      "text/plain": [
       "(0.30645107162113616, 3.402290356348383e-15)"
      ]
     },
     "execution_count": 13,
     "metadata": {},
     "output_type": "execute_result"
    }
   ],
   "source": [
    "from scipy.integrate import quad\n",
    "import math\n",
    "\n",
    "quad(lambda x: 2 * math.sin(math.pi * x)**2, 0, 0.4)"
   ]
  },
  {
   "cell_type": "code",
   "execution_count": 14,
   "metadata": {},
   "outputs": [
    {
     "data": {
      "text/plain": [
       "(0.30645107162113616, 3.402290356348383e-15)"
      ]
     },
     "execution_count": 14,
     "metadata": {},
     "output_type": "execute_result"
    }
   ],
   "source": [
    "def particle_box(x):\n",
    "    return 2 * math.sin(math.pi * x)**2\n",
    "\n",
    "quad(particle_box, 0, 0.4)"
   ]
  },
  {
   "cell_type": "markdown",
   "metadata": {},
   "source": [
    "## 2.2 Dictionaries\n",
    "\n",
    "Dictionaries are a fundamental and incredibly versatile **multi-element Python object type** that stores data as **key-value pairs**.\n",
    "\n",
    "**Think of them like:**\n",
    "* A real-world dictionary (word : definition).\n",
    "* An address book (name : phone number).\n",
    "* An object full of labeled \"variables\" (variable_name : variable_value).\n",
    "\n",
    "They allow you to **access stored values using a `key`** (a unique label) rather than a numerical index (like in lists).\n",
    "\n",
    "---\n",
    "\n",
    "#### Key Characteristics:\n",
    "\n",
    "* **Key-Value Pairs:** Each item in a dictionary consists of a unique `key` linked to a `value`.\n",
    "* **Unordered by Index, Ordered by Insertion (Python 3.7+):** Historically, dictionaries were unordered. In modern Python (3.7+), they *preserve the order* in which items were added. However, you *still access items by their key*, not by a numerical position.\n",
    "* **Keys Must Be Unique & Immutable:**\n",
    "    * Each key in a dictionary must be distinct. If you add a key that already exists, its value will be updated.\n",
    "    * Keys must be **immutable** data types (e.g., strings, numbers, tuples). Lists, for example, cannot be keys because they are mutable.\n",
    "* **Values Can Be Anything:** Values can be any Python object type: numbers, strings, lists, other dictionaries, functions, etc.\n",
    "* **Mutable:** Dictionaries themselves are mutable, meaning you can add, remove, or change key-value pairs after creation."
   ]
  },
  {
   "cell_type": "code",
   "execution_count": 15,
   "metadata": {},
   "outputs": [
    {
     "data": {
      "text/plain": [
       "6.94"
      ]
     },
     "execution_count": 15,
     "metadata": {},
     "output_type": "execute_result"
    }
   ],
   "source": [
    "AM = {'H':1.01, 'He':4.00, 'Li':6.94, 'Be':9.01,\n",
    "      'B':10.81, 'C':12.01, 'N':14.01, 'O':16.00,\n",
    "      'F':19.00, 'Ne':20.18}\n",
    "\n",
    "AM['Li']"
   ]
  },
  {
   "cell_type": "markdown",
   "metadata": {},
   "source": [
    "| Method Name | Description                                    | What it Returns (Example)                       |\n",
    "| :---------- | :--------------------------------------------- | :---------------------------------------------- |\n",
    "| `.keys()`   | Returns a view of all the **keys** in the dictionary. | `dict_keys(['H', 'He', 'Li'])`                  |\n",
    "| `.values()` | Returns a view of all the **values** in the dictionary. | `dict_values([1.01, 4.00, 6.94])`               |\n",
    "| `.items()`  | Returns a view of all **key-value pairs** as tuples. | `dict_items([('H', 1.01), ('He', 4.00), ('Li', 6.94)])` |"
   ]
  },
  {
   "cell_type": "code",
   "execution_count": 16,
   "metadata": {},
   "outputs": [
    {
     "data": {
      "text/plain": [
       "dict_keys(['H', 'He', 'Li', 'Be', 'B', 'C', 'N', 'O', 'F', 'Ne'])"
      ]
     },
     "execution_count": 16,
     "metadata": {},
     "output_type": "execute_result"
    }
   ],
   "source": [
    "AM.keys()"
   ]
  },
  {
   "cell_type": "code",
   "execution_count": 17,
   "metadata": {},
   "outputs": [
    {
     "name": "stdout",
     "output_type": "stream",
     "text": [
      "1.01\n",
      "4.0\n",
      "6.94\n",
      "9.01\n",
      "10.81\n",
      "12.01\n",
      "14.01\n",
      "16.0\n",
      "19.0\n",
      "20.18\n"
     ]
    }
   ],
   "source": [
    "for key, values in AM.items():\n",
    "    print(values)"
   ]
  },
  {
   "cell_type": "code",
   "execution_count": 18,
   "metadata": {},
   "outputs": [
    {
     "data": {
      "text/plain": [
       "{'H': 1.01,\n",
       " 'He': 4.0,\n",
       " 'Li': 6.94,\n",
       " 'Be': 9.01,\n",
       " 'B': 10.81,\n",
       " 'C': 12.01,\n",
       " 'N': 14.01,\n",
       " 'O': 16.0,\n",
       " 'F': 19.0,\n",
       " 'Ne': 20.18,\n",
       " 'Na': 22.99}"
      ]
     },
     "execution_count": 18,
     "metadata": {},
     "output_type": "execute_result"
    }
   ],
   "source": [
    "# Additional key:value pairs can be added to an already existing dictionary by calling the key and assigning it to a value \n",
    "AM['Na'] = 22.99\n",
    "AM"
   ]
  },
  {
   "cell_type": "code",
   "execution_count": 19,
   "metadata": {},
   "outputs": [
    {
     "data": {
      "text/plain": [
       "{'H': 1, 'He': 2, 'Li': 3}"
      ]
     },
     "execution_count": 19,
     "metadata": {},
     "output_type": "execute_result"
    }
   ],
   "source": [
    "# Another method for generating a dictionary is the dict() function which takes in pair for\n",
    "# nested lists or tuples and generates key:value pairs as follows.\n",
    "\n",
    "dict([('H',1), ('He',2), ('Li',3)])"
   ]
  },
  {
   "cell_type": "code",
   "execution_count": 20,
   "metadata": {},
   "outputs": [
    {
     "data": {
      "text/plain": [
       "{'A': 4, 'T': 11, 'C': 10, 'G': 15}"
      ]
     },
     "execution_count": 20,
     "metadata": {},
     "output_type": "execute_result"
    }
   ],
   "source": [
    "# Not only can dictionaries be used to store data for calculations, such as atomic masses, they can also be used to store \n",
    "# changing data as we perform calculations or operations.\n",
    "\n",
    "DNA = 'GGGCTCCATTGTCTGCCCGGGCCGGGTGTAGTCTAAGGTT'\n",
    "\n",
    "dna_bases = {'A':0, 'T':0, 'C':0, 'G':0}\n",
    "for base in DNA:\n",
    "    dna_bases[base] += 1\n",
    "\n",
    "dna_bases"
   ]
  },
  {
   "cell_type": "markdown",
   "metadata": {},
   "source": [
    "## 2.3 Set\n",
    "\n",
    "Sets are another multi-element Python object, similar to lists, but with a crucial distinguishing feature:\n",
    "\n",
    "* **Uniqueness:** Every element within a set **must be unique**. Duplicate items are automatically removed.\n",
    "* **Unordered:** Like older dictionaries, sets do not store items in any particular order. You cannot access elements by index.\n",
    "\n",
    "---\n",
    "\n",
    "**Think of a Set as:**\n",
    "A collection of distinct items, where you only care *what* is present, not *how many* of each or *in what order* they were added.\n",
    "\n",
    "**Syntax:**\n",
    "Sets are defined using **curly braces `{}`**, but unlike dictionaries, they contain only values (no key-value pairs)."
   ]
  },
  {
   "cell_type": "code",
   "execution_count": 21,
   "metadata": {},
   "outputs": [],
   "source": [
    "compounds = {'ethanol', 'sodium chloride', 'water',\n",
    "             'toluene', 'acetone'}"
   ]
  },
  {
   "cell_type": "code",
   "execution_count": 22,
   "metadata": {},
   "outputs": [
    {
     "data": {
      "text/plain": [
       "{'acetone',\n",
       " 'calcium chloride',\n",
       " 'ethanol',\n",
       " 'sodium chloride',\n",
       " 'toluene',\n",
       " 'water'}"
      ]
     },
     "execution_count": 22,
     "metadata": {},
     "output_type": "execute_result"
    }
   ],
   "source": [
    "# We can add additional items to the set using the add() set method\n",
    "compounds.add('calcium chloride')\n",
    "compounds"
   ]
  },
  {
   "cell_type": "code",
   "execution_count": null,
   "metadata": {},
   "outputs": [
    {
     "data": {
      "text/plain": [
       "{'acetone',\n",
       " 'calcium chloride',\n",
       " 'ethanol',\n",
       " 'sodium chloride',\n",
       " 'toluene',\n",
       " 'water'}"
      ]
     },
     "execution_count": 23,
     "metadata": {},
     "output_type": "execute_result"
    }
   ],
   "source": [
    "# Notice that when ethanol is added to the set, nothing changes. This is because ethanol is already in the set, and sets do not \n",
    "# store redundant copies of elements.\n",
    "compounds.add('ethanol')\n",
    "compounds"
   ]
  },
  {
   "cell_type": "markdown",
   "metadata": {},
   "source": [
    "### Set Operations: Combining and Comparing Unique Collections\n",
    "\n",
    "Sets are powerful for performing mathematical set operations, useful for analyzing unique collections of items.\n",
    "\n",
    "| Operator | Name         | Description                                                               |\n",
    "| :------- | :----------- | :------------------------------------------------------------------------ |\n",
    "| `\\|`     | **Union** | Combines **all unique elements** from both sets. (A OR B)               |\n",
    "| `-`      | **Difference** | Returns elements in the **first set** that are **not** in the second set. (A MINUS B) |\n",
    "| `&`      | **Intersection** | Returns elements present in **both** sets. (A AND B)                    |\n",
    "| `^`      | **Symmetric Difference** | Returns elements unique to *either* set, but not in both. (Exclusive OR) |"
   ]
  },
  {
   "cell_type": "code",
   "execution_count": 24,
   "metadata": {},
   "outputs": [
    {
     "data": {
      "text/plain": [
       "{'1s', '2p', '2s', '3p', '3s', '4s'}"
      ]
     },
     "execution_count": 24,
     "metadata": {},
     "output_type": "execute_result"
    }
   ],
   "source": [
    "N = {'1s','2s','2p'}\n",
    "Ca = {'1s','2s','2p', '3s', '3p', '4s'}\n",
    "\n",
    "N | Ca # returns orbitals in either set"
   ]
  },
  {
   "cell_type": "code",
   "execution_count": 25,
   "metadata": {},
   "outputs": [
    {
     "data": {
      "text/plain": [
       "{'3p', '3s', '4s'}"
      ]
     },
     "execution_count": 25,
     "metadata": {},
     "output_type": "execute_result"
    }
   ],
   "source": [
    "Ca - N  # returns Ca orbitals minus those in common"
   ]
  },
  {
   "cell_type": "code",
   "execution_count": 26,
   "metadata": {},
   "outputs": [
    {
     "data": {
      "text/plain": [
       "{'1s', '2p', '2s'}"
      ]
     },
     "execution_count": 26,
     "metadata": {},
     "output_type": "execute_result"
    }
   ],
   "source": [
    "N & Ca  # returns orbitals in both sets"
   ]
  },
  {
   "cell_type": "code",
   "execution_count": 27,
   "metadata": {},
   "outputs": [
    {
     "data": {
      "text/plain": [
       "{'3p', '3s', '4s'}"
      ]
     },
     "execution_count": 27,
     "metadata": {},
     "output_type": "execute_result"
    }
   ],
   "source": [
    "N ^ Ca"
   ]
  },
  {
   "cell_type": "markdown",
   "metadata": {},
   "source": [
    "### 2.4 Python Modules\n",
    "\n",
    "A **module** in Python is a file that contains a collection of functions, variables, and classes that share a common theme or purpose. Modules allow you to organize code into reusable components and keep your programs clean and manageable.\n",
    "\n",
    "Python includes many **built-in (native) modules** that come with every Python installation. These modules provide a wide range of functionality, from working with files to generating random numbers, handling dates, and more.\n",
    "\n",
    "Below is a list of some commonly used Python modules, along with a brief description of what each one does.\n",
    "\n",
    "| Name       | Description                                       |\n",
    "|------------|---------------------------------------------------|\n",
    "| `os`         | Provides access to your computer file system      |\n",
    "| `itertools`  | Iterator and combinatorics tools                  |\n",
    "| `random`     | Functions for pseudorandom number generation      |\n",
    "| `datetime`   | Handling of date and time information (see 2.9)   |\n",
    "| `csv`        | For writing and reading CSV files                 |\n",
    "| `pickle`     | Preserves Python objects on the file system       |\n",
    "| `timeit`     | Times the execution of code                       |\n",
    "| `audioop`    | Tools for reading and working with audio files    |\n",
    "| `statistics` | Statistics functions                              |\n",
    "\n",
    "* You can find a full index of Python's built-in modules here: [Python Module Index](https://docs.python.org/3/py-modindex.html)"
   ]
  },
  {
   "cell_type": "markdown",
   "metadata": {},
   "source": [
    "### 2.4.1 `os` Module\n",
    "\n",
    "The `os` (operating system) module provides a way to use operating system-dependent functionality, primarily for working with files and directories (folders) on your computer.\n",
    "\n",
    "Up until now, you've likely worked with files in the same location as your Jupyter notebook. The `os` module becomes essential when you need to:\n",
    "* Access files located **elsewhere** on your computer.\n",
    "* Work with **multiple files** within a specific folder (e.g., analyzing all experimental data files from a batch).\n",
    "\n",
    "---\n",
    "\n",
    "#### Key `os` Module Functions:\n",
    "\n",
    "| Function      | Description                                                    |\n",
    "| :------------ | :------------------------------------------------------------- |\n",
    "| `os.getcwd()` | Get Current Working Directory. Returns the path of the directory Python is currently operating from. |\n",
    "| `os.chdir()`  | Change Directory. Changes the current working directory to a specified path. |\n",
    "| `os.listdir()`| Returns a list of all files and subdirectories within a given path (or the current directory if no path is specified). |"
   ]
  },
  {
   "cell_type": "markdown",
   "metadata": {},
   "source": [
    "#### `os.getcwd()`: Where Am I Right Now?\n",
    "\n",
    "* **Purpose:** This tells you the exact full path of the directory (folder) where your current Python script or Jupyter notebook is running from. It's your script's \"current location.\""
   ]
  },
  {
   "cell_type": "code",
   "execution_count": 29,
   "metadata": {},
   "outputs": [
    {
     "data": {
      "text/plain": [
       "'/Users/codiefreeman/Documents/scientific-computing-for-chemists/Basic Scientific Computing Skills/Chapter 02'"
      ]
     },
     "execution_count": 29,
     "metadata": {},
     "output_type": "execute_result"
    }
   ],
   "source": [
    "import os\n",
    "os.getcwd()"
   ]
  },
  {
   "cell_type": "markdown",
   "metadata": {},
   "source": [
    "\n",
    "#### `os.chdir()`: Go To This Folder\n",
    "\n",
    "* **Purpose:** This command changes your Python script's \"current location\" (its CWD) to a different folder. This is useful if you want to access files that are not in your current folder without typing their entire path every time.\n",
    "* **Think:** It's like using the `cd` (change directory) command in your terminal.\n",
    "* **Key Concept: Relative Paths:** This is crucial and often where confusion lies. A relative path describes a folder's location *relative to your current location*.\n",
    "\n",
    " * **Moving Up (`..`):** `..` means \"go up one level (to the parent folder).\"\n"
   ]
  },
  {
   "cell_type": "code",
   "execution_count": 30,
   "metadata": {},
   "outputs": [
    {
     "name": "stdout",
     "output_type": "stream",
     "text": [
      "Moved up one level to: /Users/codiefreeman/Documents/scientific-computing-for-chemists/Basic Scientific Computing Skills\n",
      "Moved up another level to: /Users/codiefreeman/Documents/scientific-computing-for-chemists\n"
     ]
    }
   ],
   "source": [
    "# Assuming you start in 'Chapter 02'\n",
    "os.chdir('..') # Go up one level\n",
    "print(f\"Moved up one level to: {os.getcwd()}\")\n",
    "# Expected Output: .../Basic Scientific Computing Skills/\n",
    "\n",
    "os.chdir('..') # Go up another level\n",
    "print(f\"Moved up another level to: {os.getcwd()}\")\n",
    "# Expected Output: .../scientific-computing-for-chemists/"
   ]
  },
  {
   "cell_type": "code",
   "execution_count": 34,
   "metadata": {},
   "outputs": [
    {
     "name": "stdout",
     "output_type": "stream",
     "text": [
      "Moved to Chapter 01: /Users/codiefreeman/Documents/scientific-computing-for-chemists/Basic Scientific Computing Skills/Chapter 01\n"
     ]
    }
   ],
   "source": [
    "# Assuming you are in 'Chapter 02'\n",
    "os.chdir('../Chapter 01') # Go up one level, then down into 'Chapter 01'\n",
    "print(f\"Moved to Chapter 01: {os.getcwd()}\")\n",
    "# Expected Output: .../Basic Scientific Computing Skills/Chapter 01"
   ]
  },
  {
   "cell_type": "code",
   "execution_count": 35,
   "metadata": {},
   "outputs": [
    {
     "name": "stdout",
     "output_type": "stream",
     "text": [
      "Changed to absolute path: /Users/codiefreeman/Documents/scientific-computing-for-chemists/Basic Scientific Computing Skills/Chapter 02\n"
     ]
    }
   ],
   "source": [
    "# Always works, no matter your current CWD\n",
    "os.chdir('/Users/codiefreeman/Documents/scientific-computing-for-chemists/Basic Scientific Computing Skills/Chapter 02')\n",
    "print(f\"Changed to absolute path: {os.getcwd()}\")"
   ]
  },
  {
   "cell_type": "markdown",
   "metadata": {},
   "source": [
    "#### `os.listdir()`: What's in This Folder?\n",
    "\n",
    "* **Purpose:** Lists the names of all files and subfolders within a given directory. If you don't provide a path, it lists the contents of your current CWD.\n",
    "* **Think:** Like typing `ls` (macOS/Linux) or `dir` (Windows) in your terminal."
   ]
  },
  {
   "cell_type": "code",
   "execution_count": null,
   "metadata": {},
   "outputs": [
    {
     "name": "stdout",
     "output_type": "stream",
     "text": [
      "Contents of /Users/codiefreeman/Documents/scientific-computing-for-chemists/Basic Scientific Computing Skills/Chapter 02:\n",
      "['Chapter_2.ipynb']\n"
     ]
    }
   ],
   "source": [
    "# Make sure your CWD is '/Users/codiefreeman/Documents/scientific-computing-for-chemists/Basic Scientific Computing Skills/Chapter 02'\n",
    "# (You can use os.chdir() to get there if you're not)\n",
    "\n",
    "contents_of_ch02 = os.listdir()\n",
    "print(f\"Contents of {os.getcwd()}:\\n{contents_of_ch02}\")\n",
    "# Expected Output (will show files like chapter_2_intro.ipynb, etc.):\n",
    "# ['chapter_2_intro.ipynb', 'chapter_2_exercises.ipynb']"
   ]
  },
  {
   "cell_type": "code",
   "execution_count": null,
   "metadata": {},
   "outputs": [
    {
     "name": "stdout",
     "output_type": "stream",
     "text": [
      "Contents of Chapter 01:\n",
      "['chapter_1.ipynb', 'chapter_1_exercises.ipynb', 'data']\n"
     ]
    }
   ],
   "source": [
    "# Assuming your CWD is 'Chapter 02'\n",
    "contents_of_ch01 = os.listdir('../Chapter 01')\n",
    "print(f\"Contents of Chapter 01:\\n{contents_of_ch01}\")\n",
    "# Expected Output: ['chapter_1_exercises.ipynb', 'chapter_1_notes.ipynb', 'data]"
   ]
  },
  {
   "cell_type": "code",
   "execution_count": null,
   "metadata": {},
   "outputs": [
    {
     "name": "stdout",
     "output_type": "stream",
     "text": [
      "Contents of 'data' (inside Chapter 01):\n",
      "['docstring.png', '.DS_Store', 'water_density.csv', 'new_file.jpg', 'header_file.csv', 'new_file.csv', 'squares.csv', 'water_density.png']\n"
     ]
    }
   ],
   "source": [
    "# Ensures your CWD is 'Chapter 01'\n",
    "os.chdir('/Users/codiefreeman/Documents/scientific-computing-for-chemists/Basic Scientific Computing Skills/Chapter 01')\n",
    "\n",
    "contents_of_data = os.listdir('data')\n",
    "print(f\"Contents of 'data' (inside Chapter 01):\\n{contents_of_data}\")"
   ]
  },
  {
   "cell_type": "code",
   "execution_count": null,
   "metadata": {},
   "outputs": [],
   "source": []
  }
 ],
 "metadata": {
  "kernelspec": {
   "display_name": "3.11.8",
   "language": "python",
   "name": "python3"
  },
  "language_info": {
   "codemirror_mode": {
    "name": "ipython",
    "version": 3
   },
   "file_extension": ".py",
   "mimetype": "text/x-python",
   "name": "python",
   "nbconvert_exporter": "python",
   "pygments_lexer": "ipython3",
   "version": "3.11.8"
  }
 },
 "nbformat": 4,
 "nbformat_minor": 2
}
