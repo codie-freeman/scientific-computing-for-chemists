{
 "cells": [
  {
   "cell_type": "markdown",
   "metadata": {},
   "source": [
    "# Chapter 2\n",
    "\n",
    "## 2.1 Syntactic Sugar\n",
    "\n",
    "`Syntactic sugar` is a nickname given to any part of a programming language that does not extend the capabilities of the language. \\\n",
    " If any of these features were suddenly removed from the language, the language would still be just as capable, but the advantage of anything labeled `syntactic sugar` is that it makes the code **quicker/shorter** to write or **easier** to read. \n",
    " Below are a few examples from the Python language that you are likely to come across and find useful."
   ]
  },
  {
   "cell_type": "markdown",
   "metadata": {},
   "source": [
    "### 2.1.1 Augmented Assignment\n",
    "\n",
    "| Augmented Assignment | Regular Assignment | Description       |\n",
    "|----------------------|--------------------|-------------------|\n",
    "| x += a               | x = x + a          | Increments the value |\n",
    "| x -= a               | x = x - a          | Decrements the value |\n",
    "| x *= a               | x = x * a          | Multiplies the value |\n",
    "| x /= a               | x = x / a          | Divides the value    |"
   ]
  },
  {
   "cell_type": "code",
   "execution_count": null,
   "metadata": {},
   "outputs": [
    {
     "data": {
      "text/plain": [
       "6"
      ]
     },
     "execution_count": 4,
     "metadata": {},
     "output_type": "execute_result"
    }
   ],
   "source": [
    "# This is not difficult but requires typing variable name more than once which becomes more difficult to maintain with longer variable names\n",
    "x = 5\n",
    "x = x + 1 \n",
    "x"
   ]
  },
  {
   "cell_type": "code",
   "execution_count": null,
   "metadata": {},
   "outputs": [
    {
     "data": {
      "text/plain": [
       "7"
      ]
     },
     "execution_count": 5,
     "metadata": {},
     "output_type": "execute_result"
    }
   ],
   "source": [
    "# The augmented assignment for increment can be used instead for the same result\n",
    "x += 1 \n",
    "x"
   ]
  },
  {
   "cell_type": "markdown",
   "metadata": {},
   "source": [
    "### 2.1.2 List Comprehension\n",
    "\n",
    "It's very common to need a list filled with a series of numbers or calculated values.\n",
    "\n",
    "**The Older / More Verbose Method:**\n",
    "\n",
    "* For most cases (where values aren't just evenly spaced integers):\n",
    "    1.  Start with an empty list.\n",
    "    2.  Use a `for` loop to go through your desired range or items.\n",
    "    3.  Inside the loop, calculate each value.\n",
    "    4.  `append()` that calculated value to your list.\n",
    "\n",
    "**Special Case (Easy Way for Evenly Spaced Integers):**\n",
    "\n",
    "* If you just need evenly spaced integers, the range() function combined with list() is much simpler"
   ]
  },
  {
   "cell_type": "code",
   "execution_count": 6,
   "metadata": {},
   "outputs": [
    {
     "data": {
      "text/plain": [
       "[0, 1, 4, 9, 16, 25, 36, 49, 64, 81]"
      ]
     },
     "execution_count": 6,
     "metadata": {},
     "output_type": "execute_result"
    }
   ],
   "source": [
    "squares = []\n",
    "for integer in range(10):\n",
    "    sqr = integer**2\n",
    "    squares.append(sqr)\n",
    "\n",
    "squares"
   ]
  },
  {
   "cell_type": "code",
   "execution_count": 7,
   "metadata": {},
   "outputs": [
    {
     "data": {
      "text/plain": [
       "[0, 1, 4, 9, 16, 25, 36, 49, 64, 81]"
      ]
     },
     "execution_count": 7,
     "metadata": {},
     "output_type": "execute_result"
    }
   ],
   "source": [
    "squares = [integer**2 for integer in range(10)]\n",
    "squares"
   ]
  },
  {
   "cell_type": "markdown",
   "metadata": {},
   "source": [
    "### 2.1.3 Compound Assignment\n",
    "\n",
    "A lot of beginner code sets variables on separate lines - this can instead be done by assigning multiple variables in the same assignment."
   ]
  },
  {
   "cell_type": "code",
   "execution_count": null,
   "metadata": {},
   "outputs": [
    {
     "data": {
      "text/plain": [
       "1.01"
      ]
     },
     "execution_count": 8,
     "metadata": {},
     "output_type": "execute_result"
    }
   ],
   "source": [
    "H, He, Li = 1.01, 4.00, 5.39\n",
    "H\n",
    "# This is known as tuple packing \n",
    "# Variables are automatically turned into tuples by Python behind the scenes\n",
    "# It's equivalent to (H, He, Li) = (1.01, 4.00, 5.39)"
   ]
  },
  {
   "cell_type": "markdown",
   "metadata": {},
   "source": [
    "### 2.1.4 Lambda Functions\n",
    "\n",
    "`lambda` functions are small, unnamed (**anonymous**) functions you can define in a **single line**. They're perfect for simple tasks where you need a function quickly, without formally defining it with `def`.\n",
    "\n",
    "**Core Ideas:**\n",
    "\n",
    "* **Anonymous:** They don't need a name (variable) to be assigned to them, unlike `def` functions. This helps avoid \"cluttering the namespace\" if you only need the function once.\n",
    "* **Single Expression:** A `lambda` can only contain one expression (what comes after the colon `:`) that is automatically returned. No complex logic or multiple lines of code.\n",
    "* **Concise:** They allow you to define simple functions in very few characters, often inline where they are used.\n",
    "\n",
    "**Syntax Explained:**\n",
    "\n",
    "* `lambda` keyword\n",
    "* `x`: The input variable(s) (what goes in the parentheses of a `def` function).\n",
    "* `:`: Separates inputs from the function's logic.\n",
    "* `x**2`: The single expression to be evaluated and returned (what goes in the indented block of a `def` function)."
   ]
  },
  {
   "cell_type": "code",
   "execution_count": 9,
   "metadata": {},
   "outputs": [
    {
     "data": {
      "text/plain": [
       "<function __main__.<lambda>(x)>"
      ]
     },
     "execution_count": 9,
     "metadata": {},
     "output_type": "execute_result"
    }
   ],
   "source": [
    "lambda x: x**2"
   ]
  },
  {
   "cell_type": "code",
   "execution_count": 10,
   "metadata": {},
   "outputs": [
    {
     "data": {
      "text/plain": [
       "81"
      ]
     },
     "execution_count": 10,
     "metadata": {},
     "output_type": "execute_result"
    }
   ],
   "source": [
    "f = lambda x: x**2\n",
    "f(9)"
   ]
  },
  {
   "cell_type": "markdown",
   "metadata": {},
   "source": [
    "**The Key Use: Inline with Other Functions (Anonymous Use):**\n",
    "\n",
    "`lambda` functions truly shine when you need a simple function *temporarily* as an argument to another function. This is common in scientific libraries.\n",
    "\n",
    "* **Scenario:** Many functions (like `quad()` for integration, or sorting functions) need a small piece of custom logic as an input. Instead of defining a whole `def` function for a one-off use, `lambda` provides it concisely.\n",
    "\n",
    "* **Example:** Here we use integration to find the probability of finding a particle in the lowest state between 0 and 0.4 in a box of length 1 by performing the following integration.\n",
    "\n",
    "$$\n",
    "p = 2 \\int_{0}^{0.4} \\sin^2(\\pi x) dx\n",
    "$$"
   ]
  },
  {
   "cell_type": "code",
   "execution_count": 13,
   "metadata": {},
   "outputs": [
    {
     "data": {
      "text/plain": [
       "(0.30645107162113616, 3.402290356348383e-15)"
      ]
     },
     "execution_count": 13,
     "metadata": {},
     "output_type": "execute_result"
    }
   ],
   "source": [
    "from scipy.integrate import quad\n",
    "import math\n",
    "\n",
    "quad(lambda x: 2 * math.sin(math.pi * x)**2, 0, 0.4)"
   ]
  },
  {
   "cell_type": "code",
   "execution_count": 14,
   "metadata": {},
   "outputs": [
    {
     "data": {
      "text/plain": [
       "(0.30645107162113616, 3.402290356348383e-15)"
      ]
     },
     "execution_count": 14,
     "metadata": {},
     "output_type": "execute_result"
    }
   ],
   "source": [
    "def particle_box(x):\n",
    "    return 2 * math.sin(math.pi * x)**2\n",
    "\n",
    "quad(particle_box, 0, 0.4)"
   ]
  },
  {
   "cell_type": "markdown",
   "metadata": {},
   "source": [
    "## 2.2 Dictionaries\n",
    "\n",
    "Dictionaries are a fundamental and incredibly versatile **multi-element Python object type** that stores data as **key-value pairs**.\n",
    "\n",
    "**Think of them like:**\n",
    "* A real-world dictionary (word : definition).\n",
    "* An address book (name : phone number).\n",
    "* An object full of labeled \"variables\" (variable_name : variable_value).\n",
    "\n",
    "They allow you to **access stored values using a `key`** (a unique label) rather than a numerical index (like in lists).\n",
    "\n",
    "---\n",
    "\n",
    "#### Key Characteristics:\n",
    "\n",
    "* **Key-Value Pairs:** Each item in a dictionary consists of a unique `key` linked to a `value`.\n",
    "* **Unordered by Index, Ordered by Insertion (Python 3.7+):** Historically, dictionaries were unordered. In modern Python (3.7+), they *preserve the order* in which items were added. However, you *still access items by their key*, not by a numerical position.\n",
    "* **Keys Must Be Unique & Immutable:**\n",
    "    * Each key in a dictionary must be distinct. If you add a key that already exists, its value will be updated.\n",
    "    * Keys must be **immutable** data types (e.g., strings, numbers, tuples). Lists, for example, cannot be keys because they are mutable.\n",
    "* **Values Can Be Anything:** Values can be any Python object type: numbers, strings, lists, other dictionaries, functions, etc.\n",
    "* **Mutable:** Dictionaries themselves are mutable, meaning you can add, remove, or change key-value pairs after creation."
   ]
  },
  {
   "cell_type": "code",
   "execution_count": 15,
   "metadata": {},
   "outputs": [
    {
     "data": {
      "text/plain": [
       "6.94"
      ]
     },
     "execution_count": 15,
     "metadata": {},
     "output_type": "execute_result"
    }
   ],
   "source": [
    "AM = {'H':1.01, 'He':4.00, 'Li':6.94, 'Be':9.01,\n",
    "      'B':10.81, 'C':12.01, 'N':14.01, 'O':16.00,\n",
    "      'F':19.00, 'Ne':20.18}\n",
    "\n",
    "AM['Li']"
   ]
  },
  {
   "cell_type": "markdown",
   "metadata": {},
   "source": [
    "| Method Name | Description                                    | What it Returns (Example)                       |\n",
    "| :---------- | :--------------------------------------------- | :---------------------------------------------- |\n",
    "| `.keys()`   | Returns a view of all the **keys** in the dictionary. | `dict_keys(['H', 'He', 'Li'])`                  |\n",
    "| `.values()` | Returns a view of all the **values** in the dictionary. | `dict_values([1.01, 4.00, 6.94])`               |\n",
    "| `.items()`  | Returns a view of all **key-value pairs** as tuples. | `dict_items([('H', 1.01), ('He', 4.00), ('Li', 6.94)])` |"
   ]
  },
  {
   "cell_type": "code",
   "execution_count": 16,
   "metadata": {},
   "outputs": [
    {
     "data": {
      "text/plain": [
       "dict_keys(['H', 'He', 'Li', 'Be', 'B', 'C', 'N', 'O', 'F', 'Ne'])"
      ]
     },
     "execution_count": 16,
     "metadata": {},
     "output_type": "execute_result"
    }
   ],
   "source": [
    "AM.keys()"
   ]
  },
  {
   "cell_type": "code",
   "execution_count": 17,
   "metadata": {},
   "outputs": [
    {
     "name": "stdout",
     "output_type": "stream",
     "text": [
      "1.01\n",
      "4.0\n",
      "6.94\n",
      "9.01\n",
      "10.81\n",
      "12.01\n",
      "14.01\n",
      "16.0\n",
      "19.0\n",
      "20.18\n"
     ]
    }
   ],
   "source": [
    "for key, values in AM.items():\n",
    "    print(values)"
   ]
  },
  {
   "cell_type": "code",
   "execution_count": 18,
   "metadata": {},
   "outputs": [
    {
     "data": {
      "text/plain": [
       "{'H': 1.01,\n",
       " 'He': 4.0,\n",
       " 'Li': 6.94,\n",
       " 'Be': 9.01,\n",
       " 'B': 10.81,\n",
       " 'C': 12.01,\n",
       " 'N': 14.01,\n",
       " 'O': 16.0,\n",
       " 'F': 19.0,\n",
       " 'Ne': 20.18,\n",
       " 'Na': 22.99}"
      ]
     },
     "execution_count": 18,
     "metadata": {},
     "output_type": "execute_result"
    }
   ],
   "source": [
    "# Additional key:value pairs can be added to an already existing dictionary by calling the key and assigning it to a value \n",
    "AM['Na'] = 22.99\n",
    "AM"
   ]
  },
  {
   "cell_type": "code",
   "execution_count": 19,
   "metadata": {},
   "outputs": [
    {
     "data": {
      "text/plain": [
       "{'H': 1, 'He': 2, 'Li': 3}"
      ]
     },
     "execution_count": 19,
     "metadata": {},
     "output_type": "execute_result"
    }
   ],
   "source": [
    "# Another method for generating a dictionary is the dict() function which takes in pair for\n",
    "# nested lists or tuples and generates key:value pairs as follows.\n",
    "\n",
    "dict([('H',1), ('He',2), ('Li',3)])"
   ]
  },
  {
   "cell_type": "code",
   "execution_count": 20,
   "metadata": {},
   "outputs": [
    {
     "data": {
      "text/plain": [
       "{'A': 4, 'T': 11, 'C': 10, 'G': 15}"
      ]
     },
     "execution_count": 20,
     "metadata": {},
     "output_type": "execute_result"
    }
   ],
   "source": [
    "# Not only can dictionaries be used to store data for calculations, such as atomic masses, they can also be used to store \n",
    "# changing data as we perform calculations or operations.\n",
    "\n",
    "DNA = 'GGGCTCCATTGTCTGCCCGGGCCGGGTGTAGTCTAAGGTT'\n",
    "\n",
    "dna_bases = {'A':0, 'T':0, 'C':0, 'G':0}\n",
    "for base in DNA:\n",
    "    dna_bases[base] += 1\n",
    "\n",
    "dna_bases"
   ]
  },
  {
   "cell_type": "code",
   "execution_count": null,
   "metadata": {},
   "outputs": [],
   "source": []
  }
 ],
 "metadata": {
  "kernelspec": {
   "display_name": "3.11.8",
   "language": "python",
   "name": "python3"
  },
  "language_info": {
   "codemirror_mode": {
    "name": "ipython",
    "version": 3
   },
   "file_extension": ".py",
   "mimetype": "text/x-python",
   "name": "python",
   "nbconvert_exporter": "python",
   "pygments_lexer": "ipython3",
   "version": "3.11.8"
  }
 },
 "nbformat": 4,
 "nbformat_minor": 2
}
